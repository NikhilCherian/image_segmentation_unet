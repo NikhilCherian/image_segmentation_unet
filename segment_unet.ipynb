{
 "cells": [
  {
   "cell_type": "code",
   "execution_count": 1,
   "metadata": {},
   "outputs": [
    {
     "name": "stderr",
     "output_type": "stream",
     "text": [
      "/home/ai-students/newfairseq/lib/python3.6/site-packages/tensorflow/python/framework/dtypes.py:516: FutureWarning: Passing (type, 1) or '1type' as a synonym of type is deprecated; in a future version of numpy, it will be understood as (type, (1,)) / '(1,)type'.\n",
      "  _np_qint8 = np.dtype([(\"qint8\", np.int8, 1)])\n",
      "/home/ai-students/newfairseq/lib/python3.6/site-packages/tensorflow/python/framework/dtypes.py:517: FutureWarning: Passing (type, 1) or '1type' as a synonym of type is deprecated; in a future version of numpy, it will be understood as (type, (1,)) / '(1,)type'.\n",
      "  _np_quint8 = np.dtype([(\"quint8\", np.uint8, 1)])\n",
      "/home/ai-students/newfairseq/lib/python3.6/site-packages/tensorflow/python/framework/dtypes.py:518: FutureWarning: Passing (type, 1) or '1type' as a synonym of type is deprecated; in a future version of numpy, it will be understood as (type, (1,)) / '(1,)type'.\n",
      "  _np_qint16 = np.dtype([(\"qint16\", np.int16, 1)])\n",
      "/home/ai-students/newfairseq/lib/python3.6/site-packages/tensorflow/python/framework/dtypes.py:519: FutureWarning: Passing (type, 1) or '1type' as a synonym of type is deprecated; in a future version of numpy, it will be understood as (type, (1,)) / '(1,)type'.\n",
      "  _np_quint16 = np.dtype([(\"quint16\", np.uint16, 1)])\n",
      "/home/ai-students/newfairseq/lib/python3.6/site-packages/tensorflow/python/framework/dtypes.py:520: FutureWarning: Passing (type, 1) or '1type' as a synonym of type is deprecated; in a future version of numpy, it will be understood as (type, (1,)) / '(1,)type'.\n",
      "  _np_qint32 = np.dtype([(\"qint32\", np.int32, 1)])\n",
      "/home/ai-students/newfairseq/lib/python3.6/site-packages/tensorflow/python/framework/dtypes.py:525: FutureWarning: Passing (type, 1) or '1type' as a synonym of type is deprecated; in a future version of numpy, it will be understood as (type, (1,)) / '(1,)type'.\n",
      "  np_resource = np.dtype([(\"resource\", np.ubyte, 1)])\n",
      "/home/ai-students/newfairseq/lib/python3.6/site-packages/tensorboard/compat/tensorflow_stub/dtypes.py:541: FutureWarning: Passing (type, 1) or '1type' as a synonym of type is deprecated; in a future version of numpy, it will be understood as (type, (1,)) / '(1,)type'.\n",
      "  _np_qint8 = np.dtype([(\"qint8\", np.int8, 1)])\n",
      "/home/ai-students/newfairseq/lib/python3.6/site-packages/tensorboard/compat/tensorflow_stub/dtypes.py:542: FutureWarning: Passing (type, 1) or '1type' as a synonym of type is deprecated; in a future version of numpy, it will be understood as (type, (1,)) / '(1,)type'.\n",
      "  _np_quint8 = np.dtype([(\"quint8\", np.uint8, 1)])\n",
      "/home/ai-students/newfairseq/lib/python3.6/site-packages/tensorboard/compat/tensorflow_stub/dtypes.py:543: FutureWarning: Passing (type, 1) or '1type' as a synonym of type is deprecated; in a future version of numpy, it will be understood as (type, (1,)) / '(1,)type'.\n",
      "  _np_qint16 = np.dtype([(\"qint16\", np.int16, 1)])\n",
      "/home/ai-students/newfairseq/lib/python3.6/site-packages/tensorboard/compat/tensorflow_stub/dtypes.py:544: FutureWarning: Passing (type, 1) or '1type' as a synonym of type is deprecated; in a future version of numpy, it will be understood as (type, (1,)) / '(1,)type'.\n",
      "  _np_quint16 = np.dtype([(\"quint16\", np.uint16, 1)])\n",
      "/home/ai-students/newfairseq/lib/python3.6/site-packages/tensorboard/compat/tensorflow_stub/dtypes.py:545: FutureWarning: Passing (type, 1) or '1type' as a synonym of type is deprecated; in a future version of numpy, it will be understood as (type, (1,)) / '(1,)type'.\n",
      "  _np_qint32 = np.dtype([(\"qint32\", np.int32, 1)])\n",
      "/home/ai-students/newfairseq/lib/python3.6/site-packages/tensorboard/compat/tensorflow_stub/dtypes.py:550: FutureWarning: Passing (type, 1) or '1type' as a synonym of type is deprecated; in a future version of numpy, it will be understood as (type, (1,)) / '(1,)type'.\n",
      "  np_resource = np.dtype([(\"resource\", np.ubyte, 1)])\n"
     ]
    }
   ],
   "source": [
    "\n",
    "\n",
    "\"\"\"\n",
    "@author: Sreenivas Bhattiprolu\n",
    "\"\"\"\n",
    "\n",
    "import tensorflow as tf\n",
    "import os\n",
    "import random\n",
    "import numpy as np\n",
    " \n",
    "from tqdm import tqdm \n",
    "\n",
    "from skimage.io import imread, imshow\n",
    "from skimage.transform import resize\n",
    "import matplotlib.pyplot as plt\n",
    "\n",
    "seed = 42\n",
    "np.random.seed = seed\n",
    "\n",
    "IMG_WIDTH = 128\n",
    "IMG_HEIGHT = 128\n",
    "IMG_CHANNELS = 3\n",
    "\n",
    "TRAIN_PATH = 'images_train/'\n",
    "TEST_PATH = 'images_test/'"
   ]
  },
  {
   "cell_type": "code",
   "execution_count": 2,
   "metadata": {},
   "outputs": [],
   "source": [
    "\n",
    "train_ids = next(os.walk(TRAIN_PATH))[1]\n"
   ]
  },
  {
   "cell_type": "code",
   "execution_count": 3,
   "metadata": {},
   "outputs": [
    {
     "data": {
      "text/plain": [
       "0"
      ]
     },
     "execution_count": 3,
     "metadata": {},
     "output_type": "execute_result"
    }
   ],
   "source": [
    "len(train_ids)"
   ]
  },
  {
   "cell_type": "code",
   "execution_count": 4,
   "metadata": {},
   "outputs": [
    {
     "name": "stdout",
     "output_type": "stream",
     "text": [
      "601\n"
     ]
    }
   ],
   "source": [
    "import os\n",
    "\n",
    "train_id = os.listdir(\"images_train\") # dir is your directory path\n",
    "train_ids = len(train_id)\n",
    "print (train_ids)"
   ]
  },
  {
   "cell_type": "code",
   "execution_count": 6,
   "metadata": {},
   "outputs": [
    {
     "data": {
      "text/plain": [
       "['image_1008.png',\n",
       " 'image_0976.png',\n",
       " 'image_0470.png',\n",
       " 'image_0355.png',\n",
       " 'image_0566.png',\n",
       " 'image_0990.png',\n",
       " 'image_0521.png',\n",
       " 'image_0589.png',\n",
       " 'image_0345.png',\n",
       " 'image_1033.png',\n",
       " 'image_0474.png',\n",
       " 'image_1139.png',\n",
       " 'image_0507.png',\n",
       " 'image_0688.png',\n",
       " 'image_0837.png',\n",
       " 'image_0762.png',\n",
       " 'image_0984.png',\n",
       " 'image_0892.png',\n",
       " 'image_0747.png',\n",
       " 'image_0486.png',\n",
       " 'image_0438.png',\n",
       " 'image_0069.png',\n",
       " 'image_0021.png',\n",
       " 'image_0549.png',\n",
       " 'image_0844.png',\n",
       " 'image_0330.png',\n",
       " 'image_0007.png',\n",
       " 'image_0894.png',\n",
       " 'image_0062.png',\n",
       " 'image_0750.png',\n",
       " 'image_0580.png',\n",
       " 'image_0061.png',\n",
       " 'image_0324.png',\n",
       " 'image_0912.png',\n",
       " 'image_0456.png',\n",
       " 'image_0364.png',\n",
       " 'image_0814.png',\n",
       " 'image_0420.png',\n",
       " 'image_0885.png',\n",
       " 'image_0414.png',\n",
       " 'image_0052.png',\n",
       " 'image_0573.png',\n",
       " 'image_0927.png',\n",
       " 'image_0986.png',\n",
       " 'image_1035.png',\n",
       " 'image_0565.png',\n",
       " 'image_0854.png',\n",
       " 'image_0817.png',\n",
       " 'image_0374.png',\n",
       " 'image_0913.png',\n",
       " 'image_0070.png',\n",
       " 'image_0561.png',\n",
       " 'image_0775.png',\n",
       " 'image_0704.png',\n",
       " 'image_0409.png',\n",
       " 'image_0915.png',\n",
       " 'image_0979.png',\n",
       " 'image_1006.png',\n",
       " 'image_0008.png',\n",
       " 'image_0672.png',\n",
       " 'image_0530.png',\n",
       " 'image_0492.png',\n",
       " 'image_0744.png',\n",
       " 'image_0888.png',\n",
       " 'image_0608.png',\n",
       " 'image_0781.png',\n",
       " 'image_0676.png',\n",
       " 'image_0377.png',\n",
       " 'image_0463.png',\n",
       " 'image_0472.png',\n",
       " 'image_0408.png',\n",
       " 'image_0372.png',\n",
       " 'image_1126.png',\n",
       " 'image_0673.png',\n",
       " 'image_0974.png',\n",
       " 'image_0918.png',\n",
       " 'image_0745.png',\n",
       " 'image_0043.png',\n",
       " 'image_0033.png',\n",
       " 'image_0350.png',\n",
       " 'image_0503.png',\n",
       " 'image_0579.png',\n",
       " 'image_0656.png',\n",
       " 'image_1142.png',\n",
       " 'image_0709.png',\n",
       " 'image_0969.png',\n",
       " 'image_0458.png',\n",
       " 'image_0451.png',\n",
       " 'image_0449.png',\n",
       " 'image_0493.png',\n",
       " 'image_0866.png',\n",
       " 'image_0072.png',\n",
       " 'image_0327.png',\n",
       " 'image_0650.png',\n",
       " 'image_0678.png',\n",
       " 'image_0824.png',\n",
       " 'image_0789.png',\n",
       " 'image_0375.png',\n",
       " 'image_0997.png',\n",
       " 'image_0647.png',\n",
       " 'image_0698.png',\n",
       " 'image_0679.png',\n",
       " 'image_0416.png',\n",
       " 'image_0005.png',\n",
       " 'image_0562.png',\n",
       " 'image_0443.png',\n",
       " 'image_0759.png',\n",
       " 'image_0343.png',\n",
       " 'image_0728.png',\n",
       " 'image_0488.png',\n",
       " 'image_1140.png',\n",
       " 'image_0584.png',\n",
       " 'image_0830.png',\n",
       " 'image_0761.png',\n",
       " 'image_0480.png',\n",
       " 'image_0049.png',\n",
       " 'image_0462.png',\n",
       " 'image_0909.png',\n",
       " 'image_0026.png',\n",
       " 'image_0890.png',\n",
       " 'image_0004.png',\n",
       " 'image_0347.png',\n",
       " 'image_0950.png',\n",
       " 'image_0928.png',\n",
       " 'image_0897.png',\n",
       " 'image_0526.png',\n",
       " 'image_0510.png',\n",
       " 'image_0763.png',\n",
       " 'image_0497.png',\n",
       " 'image_0511.png',\n",
       " 'image_0813.png',\n",
       " 'image_0006.png',\n",
       " 'image_0053.png',\n",
       " 'image_0727.png',\n",
       " 'image_0836.png',\n",
       " 'image_0634.png',\n",
       " 'image_0412.png',\n",
       " 'image_0496.png',\n",
       " 'image_1131.png',\n",
       " 'image_0454.png',\n",
       " 'image_0700.png',\n",
       " 'image_0807.png',\n",
       " 'image_0044.png',\n",
       " 'image_0964.png',\n",
       " 'image_0597.png',\n",
       " 'image_0572.png',\n",
       " 'image_0843.png',\n",
       " 'image_0933.png',\n",
       " 'image_0439.png',\n",
       " 'image_0659.png',\n",
       " 'image_0487.png',\n",
       " 'image_1122.png',\n",
       " 'image_1136.png',\n",
       " 'image_0919.png',\n",
       " 'image_0455.png',\n",
       " 'image_0512.png',\n",
       " 'image_0352.png',\n",
       " 'image_0735.png',\n",
       " 'image_0816.png',\n",
       " 'image_0822.png',\n",
       " 'image_0848.png',\n",
       " 'image_0037.png',\n",
       " 'image_0996.png',\n",
       " 'image_1009.png',\n",
       " 'image_0849.png',\n",
       " 'image_0525.png',\n",
       " 'image_0368.png',\n",
       " 'image_0833.png',\n",
       " 'image_0056.png',\n",
       " 'image_0961.png',\n",
       " 'image_0965.png',\n",
       " 'image_0002.png',\n",
       " 'image_0034.png',\n",
       " 'image_0686.png',\n",
       " 'image_0917.png',\n",
       " 'image_0687.png',\n",
       " 'image_0734.png',\n",
       " 'image_0484.png',\n",
       " 'image_0677.png',\n",
       " 'image_0430.png',\n",
       " 'image_0675.png',\n",
       " 'image_0777.png',\n",
       " 'image_0839.png',\n",
       " 'image_0596.png',\n",
       " 'image_0718.png',\n",
       " 'image_1124.png',\n",
       " 'image_0692.png',\n",
       " 'image_0995.png',\n",
       " 'image_0693.png',\n",
       " 'image_0973.png',\n",
       " 'image_0467.png',\n",
       " 'image_0437.png',\n",
       " 'image_0452.png',\n",
       " 'image_0079.png',\n",
       " 'image_0401.png',\n",
       " 'image_0671.png',\n",
       " 'image_0598.png',\n",
       " 'image_0934.png',\n",
       " 'image_0815.png',\n",
       " 'image_0481.png',\n",
       " 'image_0758.png',\n",
       " 'image_0444.png',\n",
       " 'image_0764.png',\n",
       " 'image_0058.png',\n",
       " 'image_0766.png',\n",
       " 'image_1001.png',\n",
       " 'image_0654.png',\n",
       " 'image_0842.png',\n",
       " 'image_0068.png',\n",
       " 'image_0010.png',\n",
       " 'image_0336.png',\n",
       " 'image_0403.png',\n",
       " 'image_0471.png',\n",
       " 'image_0057.png',\n",
       " 'image_0065.png',\n",
       " 'image_0660.png',\n",
       " 'image_0587.png',\n",
       " 'image_0774.png',\n",
       " 'image_0504.png',\n",
       " 'image_0999.png',\n",
       " 'image_0351.png',\n",
       " 'image_0753.png',\n",
       " 'image_0417.png',\n",
       " 'image_0896.png',\n",
       " 'image_0736.png',\n",
       " 'image_0731.png',\n",
       " 'image_0884.png',\n",
       " 'image_0529.png',\n",
       " 'image_0906.png',\n",
       " 'image_0418.png',\n",
       " 'image_1135.png',\n",
       " 'image_0755.png',\n",
       " 'image_0664.png',\n",
       " 'image_0811.png',\n",
       " 'image_0802.png',\n",
       " 'image_0883.png',\n",
       " 'image_0335.png',\n",
       " 'image_0410.png',\n",
       " 'image_0966.png',\n",
       " 'image_0609.png',\n",
       " 'image_0048.png',\n",
       " 'image_0703.png',\n",
       " 'image_0003.png',\n",
       " 'image_0943.png',\n",
       " 'image_0508.png',\n",
       " 'image_0585.png',\n",
       " 'image_0045.png',\n",
       " 'image_0517.png',\n",
       " 'image_0465.png',\n",
       " 'image_0991.png',\n",
       " 'image_0337.png',\n",
       " 'image_0078.png',\n",
       " 'image_0328.png',\n",
       " 'image_0338.png',\n",
       " 'image_0741.png',\n",
       " 'image_0018.png',\n",
       " 'image_0524.png',\n",
       " 'image_0901.png',\n",
       " 'image_0434.png',\n",
       " 'image_0968.png',\n",
       " 'image_0028.png',\n",
       " 'image_0682.png',\n",
       " 'image_0590.png',\n",
       " 'image_0729.png',\n",
       " 'image_0905.png',\n",
       " 'image_1134.png',\n",
       " 'image_0803.png',\n",
       " 'image_0473.png',\n",
       " 'image_1032.png',\n",
       " 'image_0022.png',\n",
       " 'image_0799.png',\n",
       " 'image_0064.png',\n",
       " 'image_0832.png',\n",
       " 'image_0663.png',\n",
       " 'image_0646.png',\n",
       " 'image_0013.png',\n",
       " 'image_0509.png',\n",
       " 'image_0325.png',\n",
       " 'image_0751.png',\n",
       " 'image_0829.png',\n",
       " 'image_0972.png',\n",
       " 'image_0967.png',\n",
       " 'image_0604.png',\n",
       " 'image_1133.png',\n",
       " 'image_0798.png',\n",
       " 'image_0821.png',\n",
       " 'image_0993.png',\n",
       " 'image_0873.png',\n",
       " 'image_0583.png',\n",
       " 'image_0818.png',\n",
       " 'image_0752.png',\n",
       " 'image_0841.png',\n",
       " 'image_0929.png',\n",
       " 'image_0567.png',\n",
       " 'image_0962.png',\n",
       " 'image_1130.png',\n",
       " 'image_0575.png',\n",
       " 'image_1123.png',\n",
       " 'image_0820.png',\n",
       " 'image_0344.png',\n",
       " 'image_0466.png',\n",
       " 'image_0365.png',\n",
       " 'image_0674.png',\n",
       " 'image_0895.png',\n",
       " 'image_0773.png',\n",
       " 'image_0910.png',\n",
       " 'image_0835.png',\n",
       " 'image_0489.png',\n",
       " 'image_0348.png',\n",
       " 'image_0641.png',\n",
       " 'image_0031.png',\n",
       " 'image_0778.png',\n",
       " 'image_0784.png',\n",
       " 'image_0402.png',\n",
       " 'image_1013.png',\n",
       " 'image_1121.png',\n",
       " 'image_0865.png',\n",
       " 'image_0464.png',\n",
       " 'image_0514.png',\n",
       " 'image_1127.png',\n",
       " 'image_0645.png',\n",
       " 'image_0724.png',\n",
       " 'image_0017.png',\n",
       " 'image_0662.png',\n",
       " 'image_0387.png',\n",
       " 'image_0349.png',\n",
       " 'image_0891.png',\n",
       " 'image_0914.png',\n",
       " 'image_0326.png',\n",
       " 'image_0668.png',\n",
       " 'image_0680.png',\n",
       " 'image_0046.png',\n",
       " 'image_0432.png',\n",
       " 'image_0341.png',\n",
       " 'image_0649.png',\n",
       " 'image_0823.png',\n",
       " 'image_0428.png',\n",
       " 'image_0790.png',\n",
       " 'image_1003.png',\n",
       " 'image_0522.png',\n",
       " 'image_0714.png',\n",
       " 'image_0723.png',\n",
       " 'image_0737.png',\n",
       " 'image_0926.png',\n",
       " 'image_0030.png',\n",
       " 'image_0011.png',\n",
       " 'image_0819.png',\n",
       " 'image_0749.png',\n",
       " 'image_0760.png',\n",
       " 'image_0695.png',\n",
       " 'image_0981.png',\n",
       " 'image_0726.png',\n",
       " 'image_0047.png',\n",
       " 'image_0038.png',\n",
       " 'image_1002.png',\n",
       " 'image_0785.png',\n",
       " 'image_0546.png',\n",
       " 'image_0978.png',\n",
       " 'image_0482.png',\n",
       " 'image_0405.png',\n",
       " 'image_0563.png',\n",
       " 'image_0036.png',\n",
       " 'image_0599.png',\n",
       " 'image_0825.png',\n",
       " 'image_1141.png',\n",
       " 'image_0694.png',\n",
       " 'image_0805.png',\n",
       " 'image_0063.png',\n",
       " 'image_0476.png',\n",
       " 'image_0787.png',\n",
       " 'image_0025.png',\n",
       " 'image_0738.png',\n",
       " 'image_0329.png',\n",
       " 'image_0571.png',\n",
       " 'image_0669.png',\n",
       " 'image_0555.png',\n",
       " 'image_0983.png',\n",
       " 'image_0988.png',\n",
       " 'image_0810.png',\n",
       " 'image_0413.png',\n",
       " 'image_0577.png',\n",
       " 'image_0903.png',\n",
       " 'image_0699.png',\n",
       " 'image_0527.png',\n",
       " 'image_0902.png',\n",
       " 'image_0435.png',\n",
       " 'image_0436.png',\n",
       " 'image_0930.png',\n",
       " 'image_0987.png',\n",
       " 'image_0339.png',\n",
       " 'image_0446.png',\n",
       " 'image_1007.png',\n",
       " 'image_0591.png',\n",
       " 'image_0696.png',\n",
       " 'image_0460.png',\n",
       " 'image_0797.png',\n",
       " 'image_0433.png',\n",
       " 'image_0406.png',\n",
       " 'image_0485.png',\n",
       " 'image_0592.png',\n",
       " 'image_0826.png',\n",
       " 'image_0670.png',\n",
       " 'image_0363.png',\n",
       " 'image_0323.png',\n",
       " 'image_0867.png',\n",
       " 'image_0012.png',\n",
       " 'image_0725.png',\n",
       " 'image_1019.png',\n",
       " 'image_0051.png',\n",
       " 'image_0427.png',\n",
       " 'image_0032.png',\n",
       " 'image_0740.png',\n",
       " 'image_0039.png',\n",
       " 'image_0067.png',\n",
       " 'image_0757.png',\n",
       " 'image_0994.png',\n",
       " 'image_0971.png',\n",
       " 'image_0769.png',\n",
       " 'image_0963.png',\n",
       " 'image_0658.png',\n",
       " 'image_0982.png',\n",
       " 'image_0840.png',\n",
       " 'image_0779.png',\n",
       " 'image_0705.png',\n",
       " 'image_0515.png',\n",
       " 'image_0665.png',\n",
       " 'image_0518.png',\n",
       " 'image_0468.png',\n",
       " 'image_1137.png',\n",
       " 'image_0423.png',\n",
       " 'image_0457.png',\n",
       " 'image_0422.png',\n",
       " 'image_0359.png',\n",
       " 'image_0041.png',\n",
       " 'image_0795.png',\n",
       " 'image_0354.png',\n",
       " 'image_0666.png',\n",
       " 'image_0502.png',\n",
       " 'image_0381.png',\n",
       " 'image_0697.png',\n",
       " 'image_0852.png',\n",
       " 'image_0582.png',\n",
       " 'image_0801.png',\n",
       " 'image_0768.png',\n",
       " 'image_0689.png',\n",
       " 'image_0050.png',\n",
       " 'image_1132.png',\n",
       " 'image_0992.png',\n",
       " 'image_0340.png',\n",
       " 'image_0404.png',\n",
       " 'image_0074.png',\n",
       " 'image_0796.png',\n",
       " 'image_0782.png',\n",
       " 'image_0893.png',\n",
       " 'image_0772.png',\n",
       " 'image_1129.png',\n",
       " 'image_1000.png',\n",
       " 'image_0985.png',\n",
       " 'image_0461.png',\n",
       " 'image_0382.png',\n",
       " 'image_0483.png',\n",
       " 'image_0732.png',\n",
       " 'image_0477.png',\n",
       " 'image_0059.png',\n",
       " 'image_0388.png',\n",
       " 'image_0733.png',\n",
       " 'image_0578.png',\n",
       " 'image_0528.png',\n",
       " 'image_0424.png',\n",
       " 'image_0743.png',\n",
       " 'image_1012.png',\n",
       " 'image_0360.png',\n",
       " 'image_0911.png',\n",
       " 'image_0419.png',\n",
       " 'image_0681.png',\n",
       " 'image_0331.png',\n",
       " 'image_0780.png',\n",
       " 'image_1138.png',\n",
       " 'image_0442.png',\n",
       " 'image_0989.png',\n",
       " 'image_0055.png',\n",
       " 'image_0407.png',\n",
       " 'image_0506.png',\n",
       " 'image_0648.png',\n",
       " 'image_0935.png',\n",
       " 'image_0767.png',\n",
       " 'image_0469.png',\n",
       " 'image_0595.png',\n",
       " 'image_0027.png',\n",
       " 'image_0808.png',\n",
       " 'image_1004.png',\n",
       " 'image_0754.png',\n",
       " 'image_0980.png',\n",
       " 'image_0024.png',\n",
       " 'image_0040.png',\n",
       " 'image_0015.png',\n",
       " 'image_0411.png',\n",
       " 'image_0881.png',\n",
       " 'image_0739.png',\n",
       " 'image_0066.png',\n",
       " 'image_0014.png',\n",
       " 'image_0776.png',\n",
       " 'image_0501.png',\n",
       " 'image_0920.png',\n",
       " 'image_0016.png',\n",
       " 'image_0366.png',\n",
       " 'image_0756.png',\n",
       " 'image_0655.png',\n",
       " 'image_0431.png',\n",
       " 'image_0019.png',\n",
       " 'image_0429.png',\n",
       " 'image_0441.png',\n",
       " 'image_0691.png',\n",
       " 'image_0586.png',\n",
       " 'image_0490.png',\n",
       " 'image_0941.png',\n",
       " 'image_0970.png',\n",
       " 'image_0642.png',\n",
       " 'image_0828.png',\n",
       " 'image_0831.png',\n",
       " 'image_0977.png',\n",
       " 'image_0904.png',\n",
       " 'image_0898.png',\n",
       " 'image_1128.png',\n",
       " 'image_0358.png',\n",
       " 'image_1125.png',\n",
       " 'image_0450.png',\n",
       " 'image_0644.png',\n",
       " 'image_0653.png',\n",
       " 'image_0851.png',\n",
       " 'image_0685.png',\n",
       " 'image_0453.png',\n",
       " 'image_0838.png',\n",
       " 'image_0853.png',\n",
       " 'image_0569.png',\n",
       " 'image_0332.png',\n",
       " 'image_0657.png',\n",
       " 'image_0568.png',\n",
       " 'image_0746.png',\n",
       " 'image_0564.png',\n",
       " 'image_0576.png',\n",
       " 'image_0834.png',\n",
       " 'image_0445.png',\n",
       " 'image_0684.png',\n",
       " 'image_0357.png',\n",
       " 'image_0498.png',\n",
       " 'image_0426.png',\n",
       " 'image_0491.png',\n",
       " 'image_0553.png',\n",
       " 'image_0593.png',\n",
       " 'image_0333.png',\n",
       " 'image_0770.png',\n",
       " 'image_0342.png',\n",
       " 'image_0023.png',\n",
       " 'image_0721.png',\n",
       " 'image_0900.png',\n",
       " 'image_0804.png',\n",
       " 'image_0643.png',\n",
       " 'image_0812.png',\n",
       " 'image_0652.png',\n",
       " 'image_0748.png',\n",
       " 'image_0975.png',\n",
       " 'image_0862.png',\n",
       " 'image_0722.png',\n",
       " 'image_0020.png',\n",
       " 'image_0690.png',\n",
       " 'image_0855.png',\n",
       " 'image_0771.png',\n",
       " 'image_0845.png',\n",
       " 'image_0390.png',\n",
       " 'image_0425.png',\n",
       " 'image_0651.png',\n",
       " 'image_0711.png',\n",
       " 'image_1018.png',\n",
       " 'image_0322.png',\n",
       " 'image_0513.png',\n",
       " 'image_0475.png',\n",
       " 'image_0850.png',\n",
       " 'image_0415.png',\n",
       " 'image_0574.png',\n",
       " 'image_0806.png',\n",
       " 'image_0783.png',\n",
       " 'image_0459.png',\n",
       " 'image_0554.png',\n",
       " 'image_0594.png',\n",
       " 'image_0421.png',\n",
       " 'image_0730.png',\n",
       " 'image_0581.png',\n",
       " 'image_0060.png',\n",
       " 'image_0500.png',\n",
       " 'image_1016.png',\n",
       " 'image_0009.png',\n",
       " 'image_0440.png',\n",
       " 'image_0827.png',\n",
       " 'image_0447.png',\n",
       " 'image_0029.png',\n",
       " 'image_0494.png',\n",
       " 'image_0667.png',\n",
       " 'image_0495.png',\n",
       " 'image_0448.png',\n",
       " 'image_0353.png']"
      ]
     },
     "execution_count": 6,
     "metadata": {},
     "output_type": "execute_result"
    }
   ],
   "source": [
    "train_id"
   ]
  },
  {
   "cell_type": "code",
   "execution_count": 8,
   "metadata": {},
   "outputs": [
    {
     "name": "stdout",
     "output_type": "stream",
     "text": [
      "151\n"
     ]
    }
   ],
   "source": [
    "test_id = os.listdir(\"images_test\") # dir is your directory path\n",
    "num_test_id = len(test_id)\n",
    "print (num_test_id)"
   ]
  },
  {
   "cell_type": "code",
   "execution_count": 9,
   "metadata": {},
   "outputs": [
    {
     "data": {
      "text/plain": [
       "['image_1202.png',\n",
       " 'image_1285.png',\n",
       " 'image_1333.png',\n",
       " 'image_1289.png',\n",
       " 'image_1173.png',\n",
       " 'image_1313.png',\n",
       " 'image_1240.png',\n",
       " 'image_1157.png',\n",
       " 'image_1251.png',\n",
       " 'image_1298.png',\n",
       " 'image_1331.png',\n",
       " 'image_1272.png',\n",
       " 'image_1301.png',\n",
       " 'image_1320.png',\n",
       " 'image_1236.png',\n",
       " 'image_1321.png',\n",
       " 'image_1215.png',\n",
       " 'image_1210.png',\n",
       " 'image_1269.png',\n",
       " 'image_1346.png',\n",
       " 'image_1305.png',\n",
       " 'image_1164.png',\n",
       " 'image_1159.png',\n",
       " 'image_1228.png',\n",
       " 'image_1144.png',\n",
       " 'image_1249.png',\n",
       " 'image_1329.png',\n",
       " 'image_1286.png',\n",
       " 'image_1156.png',\n",
       " 'image_1226.png',\n",
       " 'image_1248.png',\n",
       " 'image_1350.png',\n",
       " 'image_1212.png',\n",
       " 'image_1291.png',\n",
       " 'image_1325.png',\n",
       " 'image_1244.png',\n",
       " 'image_1177.png',\n",
       " 'image_1332.png',\n",
       " 'image_1247.png',\n",
       " 'image_1168.png',\n",
       " 'image_1216.png',\n",
       " 'image_1318.png',\n",
       " 'image_1238.png',\n",
       " 'image_1231.png',\n",
       " 'image_1252.png',\n",
       " 'image_1243.png',\n",
       " 'image_1294.png',\n",
       " 'image_1295.png',\n",
       " 'image_1227.png',\n",
       " 'image_1296.png',\n",
       " 'image_1307.png',\n",
       " 'image_1304.png',\n",
       " 'image_1225.png',\n",
       " 'image_1218.png',\n",
       " 'image_1229.png',\n",
       " 'image_1322.png',\n",
       " 'image_1312.png',\n",
       " 'image_1275.png',\n",
       " 'image_1185.png',\n",
       " 'image_1162.png',\n",
       " 'image_1207.png',\n",
       " 'image_1232.png',\n",
       " 'image_1288.png',\n",
       " 'image_1155.png',\n",
       " 'image_1283.png',\n",
       " 'image_1341.png',\n",
       " 'image_1235.png',\n",
       " 'image_1306.png',\n",
       " 'image_1317.png',\n",
       " 'image_1222.png',\n",
       " 'image_1206.png',\n",
       " 'image_1220.png',\n",
       " 'image_1242.png',\n",
       " 'image_1315.png',\n",
       " 'image_1219.png',\n",
       " 'image_1290.png',\n",
       " 'image_1149.png',\n",
       " 'image_1187.png',\n",
       " 'image_1308.png',\n",
       " 'image_1143.png',\n",
       " 'image_1233.png',\n",
       " 'image_1217.png',\n",
       " 'image_1190.png',\n",
       " 'image_1319.png',\n",
       " 'image_1340.png',\n",
       " 'image_1188.png',\n",
       " 'image_1302.png',\n",
       " 'image_1255.png',\n",
       " 'image_1309.png',\n",
       " 'image_1314.png',\n",
       " 'image_1151.png',\n",
       " 'image_1237.png',\n",
       " 'image_1205.png',\n",
       " 'image_1153.png',\n",
       " 'image_1274.png',\n",
       " 'image_1203.png',\n",
       " 'image_1316.png',\n",
       " 'image_1170.png',\n",
       " 'image_1300.png',\n",
       " 'image_1311.png',\n",
       " 'image_1158.png',\n",
       " 'image_1282.png',\n",
       " 'image_1201.png',\n",
       " 'image_1166.png',\n",
       " 'image_1224.png',\n",
       " 'image_1250.png',\n",
       " 'image_1189.png',\n",
       " 'image_1234.png',\n",
       " 'image_1146.png',\n",
       " 'image_1284.png',\n",
       " 'image_1211.png',\n",
       " 'image_1277.png',\n",
       " 'image_1267.png',\n",
       " 'image_1281.png',\n",
       " 'image_1147.png',\n",
       " 'image_1241.png',\n",
       " 'image_1148.png',\n",
       " 'image_1287.png',\n",
       " 'image_1357.png',\n",
       " 'image_1270.png',\n",
       " 'image_1324.png',\n",
       " 'image_1268.png',\n",
       " 'image_1204.png',\n",
       " 'image_1303.png',\n",
       " 'image_1342.png',\n",
       " 'image_1347.png',\n",
       " 'image_1150.png',\n",
       " 'image_1152.png',\n",
       " 'image_1293.png',\n",
       " 'image_1230.png',\n",
       " 'image_1278.png',\n",
       " 'image_1221.png',\n",
       " 'image_1160.png',\n",
       " 'image_1145.png',\n",
       " 'image_1254.png',\n",
       " 'image_1339.png',\n",
       " 'image_1239.png',\n",
       " 'image_1223.png',\n",
       " 'image_1214.png',\n",
       " 'image_1154.png',\n",
       " 'image_1209.png',\n",
       " 'image_1245.png',\n",
       " 'image_1208.png',\n",
       " 'image_1246.png',\n",
       " 'image_1213.png',\n",
       " 'image_1297.png',\n",
       " 'image_1161.png',\n",
       " 'image_1174.png',\n",
       " 'image_1352.png',\n",
       " 'image_1292.png',\n",
       " 'image_1334.png']"
      ]
     },
     "execution_count": 9,
     "metadata": {},
     "output_type": "execute_result"
    }
   ],
   "source": [
    "test_id"
   ]
  },
  {
   "cell_type": "code",
   "execution_count": 10,
   "metadata": {},
   "outputs": [],
   "source": [
    "X_train = np.zeros((len(train_id), IMG_HEIGHT, IMG_WIDTH, IMG_CHANNELS), dtype=np.uint8)\n",
    "Y_train = np.zeros((len(train_id), IMG_HEIGHT, IMG_WIDTH, 1), dtype=np.bool)"
   ]
  },
  {
   "cell_type": "code",
   "execution_count": 14,
   "metadata": {},
   "outputs": [
    {
     "name": "stderr",
     "output_type": "stream",
     "text": [
      "\r",
      "  0%|          | 0/601 [00:00<?, ?it/s]"
     ]
    },
    {
     "name": "stdout",
     "output_type": "stream",
     "text": [
      "Resizing training images and masks\n",
      "images_train/image_1008.png\n"
     ]
    },
    {
     "name": "stderr",
     "output_type": "stream",
     "text": [
      "  1%|          | 4/601 [00:00<02:08,  4.65it/s]"
     ]
    },
    {
     "name": "stdout",
     "output_type": "stream",
     "text": [
      "images_train/image_0976.png\n",
      "images_train/image_0470.png\n",
      "images_train/image_0355.png\n",
      "images_train/image_0566.png\n",
      "images_train/image_0990.png\n",
      "images_train/image_0521.png\n",
      "images_train/image_0589.png\n"
     ]
    },
    {
     "name": "stderr",
     "output_type": "stream",
     "text": [
      "  2%|▏         | 12/601 [00:00<01:11,  8.23it/s]"
     ]
    },
    {
     "name": "stdout",
     "output_type": "stream",
     "text": [
      "images_train/image_0345.png\n",
      "images_train/image_1033.png\n",
      "images_train/image_0474.png\n",
      "images_train/image_1139.png\n",
      "images_train/image_0507.png\n",
      "images_train/image_0688.png\n",
      "images_train/image_0837.png\n"
     ]
    },
    {
     "name": "stderr",
     "output_type": "stream",
     "text": [
      "  3%|▎         | 20/601 [00:00<00:44, 13.16it/s]"
     ]
    },
    {
     "name": "stdout",
     "output_type": "stream",
     "text": [
      "images_train/image_0762.png\n",
      "images_train/image_0984.png\n",
      "images_train/image_0892.png\n",
      "images_train/image_0747.png\n",
      "images_train/image_0486.png\n",
      "images_train/image_0438.png\n"
     ]
    },
    {
     "name": "stderr",
     "output_type": "stream",
     "text": [
      "  4%|▍         | 27/601 [00:01<00:31, 18.18it/s]"
     ]
    },
    {
     "name": "stdout",
     "output_type": "stream",
     "text": [
      "images_train/image_0069.png\n",
      "images_train/image_0021.png\n",
      "images_train/image_0549.png\n",
      "images_train/image_0844.png\n",
      "images_train/image_0330.png\n",
      "images_train/image_0007.png\n"
     ]
    },
    {
     "name": "stderr",
     "output_type": "stream",
     "text": [
      "\r",
      "  5%|▌         | 31/601 [00:01<00:27, 20.66it/s]"
     ]
    },
    {
     "name": "stdout",
     "output_type": "stream",
     "text": [
      "images_train/image_0894.png\n",
      "images_train/image_0062.png\n",
      "images_train/image_0750.png\n",
      "images_train/image_0580.png\n",
      "images_train/image_0061.png\n",
      "images_train/image_0324.png\n",
      "images_train/image_0912.png\n"
     ]
    },
    {
     "name": "stderr",
     "output_type": "stream",
     "text": [
      "  6%|▋         | 39/601 [00:01<00:22, 25.29it/s]"
     ]
    },
    {
     "name": "stdout",
     "output_type": "stream",
     "text": [
      "images_train/image_0456.png\n",
      "images_train/image_0364.png\n",
      "images_train/image_0814.png\n",
      "images_train/image_0420.png\n",
      "images_train/image_0885.png\n",
      "images_train/image_0414.png\n",
      "images_train/image_0052.png\n"
     ]
    },
    {
     "name": "stderr",
     "output_type": "stream",
     "text": [
      "  8%|▊         | 47/601 [00:01<00:19, 28.10it/s]"
     ]
    },
    {
     "name": "stdout",
     "output_type": "stream",
     "text": [
      "images_train/image_0573.png\n",
      "images_train/image_0927.png\n",
      "images_train/image_0986.png\n",
      "images_train/image_1035.png\n",
      "images_train/image_0565.png\n",
      "images_train/image_0854.png\n",
      "images_train/image_0817.png\n"
     ]
    },
    {
     "name": "stderr",
     "output_type": "stream",
     "text": [
      "\r",
      "  8%|▊         | 51/601 [00:01<00:19, 27.92it/s]"
     ]
    },
    {
     "name": "stdout",
     "output_type": "stream",
     "text": [
      "images_train/image_0374.png\n",
      "images_train/image_0913.png\n",
      "images_train/image_0070.png\n",
      "images_train/image_0561.png\n",
      "images_train/image_0775.png\n",
      "images_train/image_0704.png\n"
     ]
    },
    {
     "name": "stderr",
     "output_type": "stream",
     "text": [
      " 10%|▉         | 58/601 [00:02<00:17, 30.32it/s]"
     ]
    },
    {
     "name": "stdout",
     "output_type": "stream",
     "text": [
      "images_train/image_0409.png\n",
      "images_train/image_0915.png\n",
      "images_train/image_0979.png\n",
      "images_train/image_1006.png\n",
      "images_train/image_0008.png\n",
      "images_train/image_0672.png\n",
      "images_train/image_0530.png\n",
      "images_train/image_0492.png\n"
     ]
    },
    {
     "name": "stderr",
     "output_type": "stream",
     "text": [
      " 11%|█         | 66/601 [00:02<00:16, 31.64it/s]"
     ]
    },
    {
     "name": "stdout",
     "output_type": "stream",
     "text": [
      "images_train/image_0744.png\n",
      "images_train/image_0888.png\n",
      "images_train/image_0608.png\n",
      "images_train/image_0781.png\n",
      "images_train/image_0676.png\n",
      "images_train/image_0377.png\n",
      "images_train/image_0463.png\n"
     ]
    },
    {
     "name": "stderr",
     "output_type": "stream",
     "text": [
      " 12%|█▏        | 74/601 [00:02<00:16, 32.01it/s]"
     ]
    },
    {
     "name": "stdout",
     "output_type": "stream",
     "text": [
      "images_train/image_0472.png\n",
      "images_train/image_0408.png\n",
      "images_train/image_0372.png\n",
      "images_train/image_1126.png\n",
      "images_train/image_0673.png\n",
      "images_train/image_0974.png\n",
      "images_train/image_0918.png\n"
     ]
    },
    {
     "name": "stderr",
     "output_type": "stream",
     "text": [
      "\r",
      " 13%|█▎        | 78/601 [00:02<00:16, 31.69it/s]"
     ]
    },
    {
     "name": "stdout",
     "output_type": "stream",
     "text": [
      "images_train/image_0745.png\n",
      "images_train/image_0043.png\n",
      "images_train/image_0033.png\n",
      "images_train/image_0350.png\n",
      "images_train/image_0503.png\n",
      "images_train/image_0579.png\n"
     ]
    },
    {
     "name": "stderr",
     "output_type": "stream",
     "text": [
      " 14%|█▍        | 86/601 [00:03<00:16, 31.45it/s]"
     ]
    },
    {
     "name": "stdout",
     "output_type": "stream",
     "text": [
      "images_train/image_0656.png\n",
      "images_train/image_1142.png\n",
      "images_train/image_0709.png\n",
      "images_train/image_0969.png\n",
      "images_train/image_0458.png\n",
      "images_train/image_0451.png\n",
      "images_train/image_0449.png\n"
     ]
    },
    {
     "name": "stderr",
     "output_type": "stream",
     "text": [
      " 16%|█▌        | 94/601 [00:03<00:15, 32.24it/s]"
     ]
    },
    {
     "name": "stdout",
     "output_type": "stream",
     "text": [
      "images_train/image_0493.png\n",
      "images_train/image_0866.png\n",
      "images_train/image_0072.png\n",
      "images_train/image_0327.png\n",
      "images_train/image_0650.png\n",
      "images_train/image_0678.png\n",
      "images_train/image_0824.png\n"
     ]
    },
    {
     "name": "stderr",
     "output_type": "stream",
     "text": [
      " 17%|█▋        | 102/601 [00:03<00:15, 32.74it/s]"
     ]
    },
    {
     "name": "stdout",
     "output_type": "stream",
     "text": [
      "images_train/image_0789.png\n",
      "images_train/image_0375.png\n",
      "images_train/image_0997.png\n",
      "images_train/image_0647.png\n",
      "images_train/image_0698.png\n",
      "images_train/image_0679.png\n",
      "images_train/image_0416.png\n"
     ]
    },
    {
     "name": "stderr",
     "output_type": "stream",
     "text": [
      "\r",
      " 18%|█▊        | 106/601 [00:03<00:15, 32.39it/s]"
     ]
    },
    {
     "name": "stdout",
     "output_type": "stream",
     "text": [
      "images_train/image_0005.png\n",
      "images_train/image_0562.png\n",
      "images_train/image_0443.png\n",
      "images_train/image_0759.png\n",
      "images_train/image_0343.png\n",
      "images_train/image_0728.png\n",
      "images_train/image_0488.png\n"
     ]
    },
    {
     "name": "stderr",
     "output_type": "stream",
     "text": [
      " 19%|█▉        | 114/601 [00:03<00:15, 31.85it/s]"
     ]
    },
    {
     "name": "stdout",
     "output_type": "stream",
     "text": [
      "images_train/image_1140.png\n",
      "images_train/image_0584.png\n",
      "images_train/image_0830.png\n",
      "images_train/image_0761.png\n",
      "images_train/image_0480.png\n",
      "images_train/image_0049.png\n",
      "images_train/image_0462.png\n"
     ]
    },
    {
     "name": "stderr",
     "output_type": "stream",
     "text": [
      " 20%|██        | 122/601 [00:04<00:14, 31.94it/s]"
     ]
    },
    {
     "name": "stdout",
     "output_type": "stream",
     "text": [
      "images_train/image_0909.png\n",
      "images_train/image_0026.png\n",
      "images_train/image_0890.png\n",
      "images_train/image_0004.png\n",
      "images_train/image_0347.png\n",
      "images_train/image_0950.png\n",
      "images_train/image_0928.png\n"
     ]
    },
    {
     "name": "stderr",
     "output_type": "stream",
     "text": [
      " 22%|██▏       | 130/601 [00:04<00:14, 32.88it/s]"
     ]
    },
    {
     "name": "stdout",
     "output_type": "stream",
     "text": [
      "images_train/image_0897.png\n",
      "images_train/image_0526.png\n",
      "images_train/image_0510.png\n",
      "images_train/image_0763.png\n",
      "images_train/image_0497.png\n",
      "images_train/image_0511.png\n",
      "images_train/image_0813.png\n"
     ]
    },
    {
     "name": "stderr",
     "output_type": "stream",
     "text": [
      "\r",
      " 22%|██▏       | 134/601 [00:04<00:14, 32.40it/s]"
     ]
    },
    {
     "name": "stdout",
     "output_type": "stream",
     "text": [
      "images_train/image_0006.png\n",
      "images_train/image_0053.png\n",
      "images_train/image_0727.png\n",
      "images_train/image_0836.png\n",
      "images_train/image_0634.png\n",
      "images_train/image_0412.png\n",
      "images_train/image_0496.png\n"
     ]
    },
    {
     "name": "stderr",
     "output_type": "stream",
     "text": [
      " 24%|██▎       | 142/601 [00:04<00:13, 32.87it/s]"
     ]
    },
    {
     "name": "stdout",
     "output_type": "stream",
     "text": [
      "images_train/image_1131.png\n",
      "images_train/image_0454.png\n",
      "images_train/image_0700.png\n",
      "images_train/image_0807.png\n",
      "images_train/image_0044.png\n",
      "images_train/image_0964.png\n",
      "images_train/image_0597.png\n"
     ]
    },
    {
     "name": "stderr",
     "output_type": "stream",
     "text": [
      " 25%|██▍       | 150/601 [00:04<00:14, 31.87it/s]"
     ]
    },
    {
     "name": "stdout",
     "output_type": "stream",
     "text": [
      "images_train/image_0572.png\n",
      "images_train/image_0843.png\n",
      "images_train/image_0933.png\n",
      "images_train/image_0439.png\n",
      "images_train/image_0659.png\n",
      "images_train/image_0487.png\n",
      "images_train/image_1122.png\n"
     ]
    },
    {
     "name": "stderr",
     "output_type": "stream",
     "text": [
      " 26%|██▋       | 158/601 [00:05<00:13, 32.02it/s]"
     ]
    },
    {
     "name": "stdout",
     "output_type": "stream",
     "text": [
      "images_train/image_1136.png\n",
      "images_train/image_0919.png\n",
      "images_train/image_0455.png\n",
      "images_train/image_0512.png\n",
      "images_train/image_0352.png\n",
      "images_train/image_0735.png\n",
      "images_train/image_0816.png\n"
     ]
    },
    {
     "name": "stderr",
     "output_type": "stream",
     "text": [
      " 28%|██▊       | 166/601 [00:05<00:12, 33.93it/s]"
     ]
    },
    {
     "name": "stdout",
     "output_type": "stream",
     "text": [
      "images_train/image_0822.png\n",
      "images_train/image_0848.png\n",
      "images_train/image_0037.png\n",
      "images_train/image_0996.png\n",
      "images_train/image_1009.png\n",
      "images_train/image_0849.png\n",
      "images_train/image_0525.png\n",
      "images_train/image_0368.png\n"
     ]
    },
    {
     "name": "stderr",
     "output_type": "stream",
     "text": [
      "\r",
      " 28%|██▊       | 170/601 [00:05<00:13, 31.62it/s]"
     ]
    },
    {
     "name": "stdout",
     "output_type": "stream",
     "text": [
      "images_train/image_0833.png\n",
      "images_train/image_0056.png\n",
      "images_train/image_0961.png\n",
      "images_train/image_0965.png\n",
      "images_train/image_0002.png\n",
      "images_train/image_0034.png\n",
      "images_train/image_0686.png\n"
     ]
    },
    {
     "name": "stderr",
     "output_type": "stream",
     "text": [
      " 30%|██▉       | 178/601 [00:05<00:13, 31.62it/s]"
     ]
    },
    {
     "name": "stdout",
     "output_type": "stream",
     "text": [
      "images_train/image_0917.png\n",
      "images_train/image_0687.png\n",
      "images_train/image_0734.png\n",
      "images_train/image_0484.png\n",
      "images_train/image_0677.png\n",
      "images_train/image_0430.png\n",
      "images_train/image_0675.png\n"
     ]
    },
    {
     "name": "stderr",
     "output_type": "stream",
     "text": [
      " 31%|███       | 186/601 [00:06<00:12, 32.58it/s]"
     ]
    },
    {
     "name": "stdout",
     "output_type": "stream",
     "text": [
      "images_train/image_0777.png\n",
      "images_train/image_0839.png\n",
      "images_train/image_0596.png\n",
      "images_train/image_0718.png\n",
      "images_train/image_1124.png\n",
      "images_train/image_0692.png\n",
      "images_train/image_0995.png\n"
     ]
    },
    {
     "name": "stderr",
     "output_type": "stream",
     "text": [
      " 32%|███▏      | 194/601 [00:06<00:12, 32.24it/s]"
     ]
    },
    {
     "name": "stdout",
     "output_type": "stream",
     "text": [
      "images_train/image_0693.png\n",
      "images_train/image_0973.png\n",
      "images_train/image_0467.png\n",
      "images_train/image_0437.png\n",
      "images_train/image_0452.png\n",
      "images_train/image_0079.png\n",
      "images_train/image_0401.png\n"
     ]
    },
    {
     "name": "stderr",
     "output_type": "stream",
     "text": [
      "\r",
      " 33%|███▎      | 198/601 [00:06<00:12, 31.98it/s]"
     ]
    },
    {
     "name": "stdout",
     "output_type": "stream",
     "text": [
      "images_train/image_0671.png\n",
      "images_train/image_0598.png\n",
      "images_train/image_0934.png\n",
      "images_train/image_0815.png\n",
      "images_train/image_0481.png\n",
      "images_train/image_0758.png\n",
      "images_train/image_0444.png\n"
     ]
    },
    {
     "name": "stderr",
     "output_type": "stream",
     "text": [
      " 34%|███▍      | 206/601 [00:06<00:12, 31.94it/s]"
     ]
    },
    {
     "name": "stdout",
     "output_type": "stream",
     "text": [
      "images_train/image_0764.png\n",
      "images_train/image_0058.png\n",
      "images_train/image_0766.png\n",
      "images_train/image_1001.png\n",
      "images_train/image_0654.png\n",
      "images_train/image_0842.png\n",
      "images_train/image_0068.png\n"
     ]
    },
    {
     "name": "stderr",
     "output_type": "stream",
     "text": [
      " 36%|███▌      | 214/601 [00:06<00:11, 33.57it/s]"
     ]
    },
    {
     "name": "stdout",
     "output_type": "stream",
     "text": [
      "images_train/image_0010.png\n",
      "images_train/image_0336.png\n",
      "images_train/image_0403.png\n",
      "images_train/image_0471.png\n",
      "images_train/image_0057.png\n",
      "images_train/image_0065.png\n",
      "images_train/image_0660.png\n"
     ]
    },
    {
     "name": "stderr",
     "output_type": "stream",
     "text": [
      " 37%|███▋      | 222/601 [00:07<00:11, 31.99it/s]"
     ]
    },
    {
     "name": "stdout",
     "output_type": "stream",
     "text": [
      "images_train/image_0587.png\n",
      "images_train/image_0774.png\n",
      "images_train/image_0504.png\n",
      "images_train/image_0999.png\n",
      "images_train/image_0351.png\n",
      "images_train/image_0753.png\n",
      "images_train/image_0417.png\n"
     ]
    },
    {
     "name": "stderr",
     "output_type": "stream",
     "text": [
      "\r",
      " 38%|███▊      | 226/601 [00:07<00:11, 32.57it/s]"
     ]
    },
    {
     "name": "stdout",
     "output_type": "stream",
     "text": [
      "images_train/image_0896.png\n",
      "images_train/image_0736.png\n",
      "images_train/image_0731.png\n",
      "images_train/image_0884.png\n",
      "images_train/image_0529.png\n",
      "images_train/image_0906.png\n",
      "images_train/image_0418.png\n"
     ]
    },
    {
     "name": "stderr",
     "output_type": "stream",
     "text": [
      " 39%|███▉      | 234/601 [00:07<00:11, 31.04it/s]"
     ]
    },
    {
     "name": "stdout",
     "output_type": "stream",
     "text": [
      "images_train/image_1135.png\n",
      "images_train/image_0755.png\n",
      "images_train/image_0664.png\n",
      "images_train/image_0811.png\n",
      "images_train/image_0802.png\n",
      "images_train/image_0883.png\n"
     ]
    },
    {
     "name": "stderr",
     "output_type": "stream",
     "text": [
      " 40%|████      | 242/601 [00:07<00:11, 30.29it/s]"
     ]
    },
    {
     "name": "stdout",
     "output_type": "stream",
     "text": [
      "images_train/image_0335.png\n",
      "images_train/image_0410.png\n",
      "images_train/image_0966.png\n",
      "images_train/image_0609.png\n",
      "images_train/image_0048.png\n",
      "images_train/image_0703.png\n",
      "images_train/image_0003.png\n"
     ]
    },
    {
     "name": "stderr",
     "output_type": "stream",
     "text": [
      "\r",
      " 41%|████      | 246/601 [00:08<00:11, 29.82it/s]"
     ]
    },
    {
     "name": "stdout",
     "output_type": "stream",
     "text": [
      "images_train/image_0943.png\n",
      "images_train/image_0508.png\n",
      "images_train/image_0585.png\n",
      "images_train/image_0045.png\n",
      "images_train/image_0517.png\n",
      "images_train/image_0465.png\n"
     ]
    },
    {
     "name": "stderr",
     "output_type": "stream",
     "text": [
      " 42%|████▏     | 252/601 [00:08<00:11, 29.62it/s]"
     ]
    },
    {
     "name": "stdout",
     "output_type": "stream",
     "text": [
      "images_train/image_0991.png\n",
      "images_train/image_0337.png\n",
      "images_train/image_0078.png\n",
      "images_train/image_0328.png\n",
      "images_train/image_0338.png\n",
      "images_train/image_0741.png\n",
      "images_train/image_0018.png\n"
     ]
    },
    {
     "name": "stderr",
     "output_type": "stream",
     "text": [
      " 43%|████▎     | 260/601 [00:08<00:12, 27.58it/s]"
     ]
    },
    {
     "name": "stdout",
     "output_type": "stream",
     "text": [
      "images_train/image_0524.png\n",
      "images_train/image_0901.png\n",
      "images_train/image_0434.png\n",
      "images_train/image_0968.png\n",
      "images_train/image_0028.png\n"
     ]
    },
    {
     "name": "stderr",
     "output_type": "stream",
     "text": [
      " 44%|████▍     | 267/601 [00:08<00:12, 26.60it/s]"
     ]
    },
    {
     "name": "stdout",
     "output_type": "stream",
     "text": [
      "images_train/image_0682.png\n",
      "images_train/image_0590.png\n",
      "images_train/image_0729.png\n",
      "images_train/image_0905.png\n",
      "images_train/image_1134.png\n",
      "images_train/image_0803.png\n"
     ]
    },
    {
     "name": "stderr",
     "output_type": "stream",
     "text": [
      "\r",
      " 45%|████▌     | 271/601 [00:08<00:11, 28.01it/s]"
     ]
    },
    {
     "name": "stdout",
     "output_type": "stream",
     "text": [
      "images_train/image_0473.png\n",
      "images_train/image_1032.png\n",
      "images_train/image_0022.png\n",
      "images_train/image_0799.png\n",
      "images_train/image_0064.png\n",
      "images_train/image_0832.png\n",
      "images_train/image_0663.png\n"
     ]
    },
    {
     "name": "stderr",
     "output_type": "stream",
     "text": [
      " 46%|████▋     | 279/601 [00:09<00:10, 31.21it/s]"
     ]
    },
    {
     "name": "stdout",
     "output_type": "stream",
     "text": [
      "images_train/image_0646.png\n",
      "images_train/image_0013.png\n",
      "images_train/image_0509.png\n",
      "images_train/image_0325.png\n",
      "images_train/image_0751.png\n",
      "images_train/image_0829.png\n",
      "images_train/image_0972.png\n"
     ]
    },
    {
     "name": "stderr",
     "output_type": "stream",
     "text": [
      " 48%|████▊     | 287/601 [00:09<00:09, 31.44it/s]"
     ]
    },
    {
     "name": "stdout",
     "output_type": "stream",
     "text": [
      "images_train/image_0967.png\n",
      "images_train/image_0604.png\n",
      "images_train/image_1133.png\n",
      "images_train/image_0798.png\n",
      "images_train/image_0821.png\n",
      "images_train/image_0993.png\n",
      "images_train/image_0873.png\n"
     ]
    },
    {
     "name": "stderr",
     "output_type": "stream",
     "text": [
      "\r",
      " 48%|████▊     | 291/601 [00:09<00:09, 32.43it/s]"
     ]
    },
    {
     "name": "stdout",
     "output_type": "stream",
     "text": [
      "images_train/image_0583.png\n",
      "images_train/image_0818.png\n",
      "images_train/image_0752.png\n",
      "images_train/image_0841.png\n",
      "images_train/image_0929.png\n",
      "images_train/image_0567.png\n",
      "images_train/image_0962.png\n"
     ]
    },
    {
     "name": "stderr",
     "output_type": "stream",
     "text": [
      " 50%|████▉     | 299/601 [00:09<00:09, 31.41it/s]"
     ]
    },
    {
     "name": "stdout",
     "output_type": "stream",
     "text": [
      "images_train/image_1130.png\n",
      "images_train/image_0575.png\n",
      "images_train/image_1123.png\n",
      "images_train/image_0820.png\n",
      "images_train/image_0344.png\n",
      "images_train/image_0466.png\n",
      "images_train/image_0365.png\n"
     ]
    },
    {
     "name": "stderr",
     "output_type": "stream",
     "text": [
      " 51%|█████     | 307/601 [00:10<00:09, 32.36it/s]"
     ]
    },
    {
     "name": "stdout",
     "output_type": "stream",
     "text": [
      "images_train/image_0674.png\n",
      "images_train/image_0895.png\n",
      "images_train/image_0773.png\n",
      "images_train/image_0910.png\n",
      "images_train/image_0835.png\n",
      "images_train/image_0489.png\n",
      "images_train/image_0348.png\n"
     ]
    },
    {
     "name": "stderr",
     "output_type": "stream",
     "text": [
      "\r",
      " 52%|█████▏    | 311/601 [00:10<00:09, 30.98it/s]"
     ]
    },
    {
     "name": "stdout",
     "output_type": "stream",
     "text": [
      "images_train/image_0641.png\n",
      "images_train/image_0031.png\n",
      "images_train/image_0778.png\n",
      "images_train/image_0784.png\n",
      "images_train/image_0402.png\n",
      "images_train/image_1013.png\n"
     ]
    },
    {
     "name": "stderr",
     "output_type": "stream",
     "text": [
      " 53%|█████▎    | 319/601 [00:10<00:08, 31.68it/s]"
     ]
    },
    {
     "name": "stdout",
     "output_type": "stream",
     "text": [
      "images_train/image_1121.png\n",
      "images_train/image_0865.png\n",
      "images_train/image_0464.png\n",
      "images_train/image_0514.png\n",
      "images_train/image_1127.png\n",
      "images_train/image_0645.png\n",
      "images_train/image_0724.png\n"
     ]
    },
    {
     "name": "stderr",
     "output_type": "stream",
     "text": [
      " 54%|█████▍    | 327/601 [00:10<00:08, 30.95it/s]"
     ]
    },
    {
     "name": "stdout",
     "output_type": "stream",
     "text": [
      "images_train/image_0017.png\n",
      "images_train/image_0662.png\n",
      "images_train/image_0387.png\n",
      "images_train/image_0349.png\n",
      "images_train/image_0891.png\n",
      "images_train/image_0914.png\n",
      "images_train/image_0326.png\n"
     ]
    },
    {
     "name": "stderr",
     "output_type": "stream",
     "text": [
      "\r",
      " 55%|█████▌    | 331/601 [00:10<00:09, 28.54it/s]"
     ]
    },
    {
     "name": "stdout",
     "output_type": "stream",
     "text": [
      "images_train/image_0668.png\n",
      "images_train/image_0680.png\n",
      "images_train/image_0046.png\n",
      "images_train/image_0432.png\n",
      "images_train/image_0341.png\n",
      "images_train/image_0649.png\n"
     ]
    },
    {
     "name": "stderr",
     "output_type": "stream",
     "text": [
      " 56%|█████▋    | 339/601 [00:11<00:09, 27.37it/s]"
     ]
    },
    {
     "name": "stdout",
     "output_type": "stream",
     "text": [
      "images_train/image_0823.png\n",
      "images_train/image_0428.png\n",
      "images_train/image_0790.png\n",
      "images_train/image_1003.png\n",
      "images_train/image_0522.png\n"
     ]
    },
    {
     "name": "stderr",
     "output_type": "stream",
     "text": [
      " 58%|█████▊    | 346/601 [00:11<00:08, 28.59it/s]"
     ]
    },
    {
     "name": "stdout",
     "output_type": "stream",
     "text": [
      "images_train/image_0714.png\n",
      "images_train/image_0723.png\n",
      "images_train/image_0737.png\n",
      "images_train/image_0926.png\n",
      "images_train/image_0030.png\n",
      "images_train/image_0011.png\n",
      "images_train/image_0819.png\n"
     ]
    },
    {
     "name": "stderr",
     "output_type": "stream",
     "text": [
      "\r",
      " 58%|█████▊    | 349/601 [00:11<00:09, 27.95it/s]"
     ]
    },
    {
     "name": "stdout",
     "output_type": "stream",
     "text": [
      "images_train/image_0749.png\n",
      "images_train/image_0760.png\n",
      "images_train/image_0695.png\n",
      "images_train/image_0981.png\n",
      "images_train/image_0726.png\n",
      "images_train/image_0047.png\n"
     ]
    },
    {
     "name": "stderr",
     "output_type": "stream",
     "text": [
      " 59%|█████▉    | 357/601 [00:11<00:08, 29.25it/s]"
     ]
    },
    {
     "name": "stdout",
     "output_type": "stream",
     "text": [
      "images_train/image_0038.png\n",
      "images_train/image_1002.png\n",
      "images_train/image_0785.png\n",
      "images_train/image_0546.png\n",
      "images_train/image_0978.png\n",
      "images_train/image_0482.png\n"
     ]
    },
    {
     "name": "stderr",
     "output_type": "stream",
     "text": [
      " 61%|██████    | 364/601 [00:11<00:08, 29.50it/s]"
     ]
    },
    {
     "name": "stdout",
     "output_type": "stream",
     "text": [
      "images_train/image_0405.png\n",
      "images_train/image_0563.png\n",
      "images_train/image_0036.png\n",
      "images_train/image_0599.png\n",
      "images_train/image_0825.png\n",
      "images_train/image_1141.png\n",
      "images_train/image_0694.png\n"
     ]
    },
    {
     "name": "stderr",
     "output_type": "stream",
     "text": [
      " 62%|██████▏   | 372/601 [00:12<00:07, 32.61it/s]"
     ]
    },
    {
     "name": "stdout",
     "output_type": "stream",
     "text": [
      "images_train/image_0805.png\n",
      "images_train/image_0063.png\n",
      "images_train/image_0476.png\n",
      "images_train/image_0787.png\n",
      "images_train/image_0025.png\n",
      "images_train/image_0738.png\n",
      "images_train/image_0329.png\n",
      "images_train/image_0571.png\n"
     ]
    },
    {
     "name": "stderr",
     "output_type": "stream",
     "text": [
      " 63%|██████▎   | 380/601 [00:12<00:06, 32.95it/s]"
     ]
    },
    {
     "name": "stdout",
     "output_type": "stream",
     "text": [
      "images_train/image_0669.png\n",
      "images_train/image_0555.png\n",
      "images_train/image_0983.png\n",
      "images_train/image_0988.png\n",
      "images_train/image_0810.png\n",
      "images_train/image_0413.png\n",
      "images_train/image_0577.png\n"
     ]
    },
    {
     "name": "stderr",
     "output_type": "stream",
     "text": [
      "\r",
      " 64%|██████▍   | 384/601 [00:12<00:06, 31.59it/s]"
     ]
    },
    {
     "name": "stdout",
     "output_type": "stream",
     "text": [
      "images_train/image_0903.png\n",
      "images_train/image_0699.png\n",
      "images_train/image_0527.png\n",
      "images_train/image_0902.png\n",
      "images_train/image_0435.png\n",
      "images_train/image_0436.png\n"
     ]
    },
    {
     "name": "stderr",
     "output_type": "stream",
     "text": [
      " 65%|██████▌   | 392/601 [00:12<00:06, 29.98it/s]"
     ]
    },
    {
     "name": "stdout",
     "output_type": "stream",
     "text": [
      "images_train/image_0930.png\n",
      "images_train/image_0987.png\n",
      "images_train/image_0339.png\n",
      "images_train/image_0446.png\n",
      "images_train/image_1007.png\n",
      "images_train/image_0591.png\n"
     ]
    },
    {
     "name": "stderr",
     "output_type": "stream",
     "text": [
      "\r",
      " 66%|██████▌   | 396/601 [00:12<00:06, 30.12it/s]"
     ]
    },
    {
     "name": "stdout",
     "output_type": "stream",
     "text": [
      "images_train/image_0696.png\n",
      "images_train/image_0460.png\n",
      "images_train/image_0797.png\n",
      "images_train/image_0433.png\n",
      "images_train/image_0406.png\n",
      "images_train/image_0485.png\n",
      "images_train/image_0592.png\n"
     ]
    },
    {
     "name": "stderr",
     "output_type": "stream",
     "text": [
      " 67%|██████▋   | 404/601 [00:13<00:06, 31.95it/s]"
     ]
    },
    {
     "name": "stdout",
     "output_type": "stream",
     "text": [
      "images_train/image_0826.png\n",
      "images_train/image_0670.png\n",
      "images_train/image_0363.png\n",
      "images_train/image_0323.png\n",
      "images_train/image_0867.png\n",
      "images_train/image_0012.png\n",
      "images_train/image_0725.png\n"
     ]
    },
    {
     "name": "stderr",
     "output_type": "stream",
     "text": [
      " 69%|██████▊   | 412/601 [00:13<00:05, 31.72it/s]"
     ]
    },
    {
     "name": "stdout",
     "output_type": "stream",
     "text": [
      "images_train/image_1019.png\n",
      "images_train/image_0051.png\n",
      "images_train/image_0427.png\n",
      "images_train/image_0032.png\n",
      "images_train/image_0740.png\n",
      "images_train/image_0039.png\n",
      "images_train/image_0067.png\n"
     ]
    },
    {
     "name": "stderr",
     "output_type": "stream",
     "text": [
      " 70%|██████▉   | 420/601 [00:13<00:05, 32.26it/s]"
     ]
    },
    {
     "name": "stdout",
     "output_type": "stream",
     "text": [
      "images_train/image_0757.png\n",
      "images_train/image_0994.png\n",
      "images_train/image_0971.png\n",
      "images_train/image_0769.png\n",
      "images_train/image_0963.png\n",
      "images_train/image_0658.png\n",
      "images_train/image_0982.png\n"
     ]
    },
    {
     "name": "stderr",
     "output_type": "stream",
     "text": [
      "\r",
      " 71%|███████   | 424/601 [00:13<00:05, 32.44it/s]"
     ]
    },
    {
     "name": "stdout",
     "output_type": "stream",
     "text": [
      "images_train/image_0840.png\n",
      "images_train/image_0779.png\n",
      "images_train/image_0705.png\n",
      "images_train/image_0515.png\n",
      "images_train/image_0665.png\n",
      "images_train/image_0518.png\n"
     ]
    },
    {
     "name": "stderr",
     "output_type": "stream",
     "text": [
      " 72%|███████▏  | 432/601 [00:14<00:05, 29.05it/s]"
     ]
    },
    {
     "name": "stdout",
     "output_type": "stream",
     "text": [
      "images_train/image_0468.png\n",
      "images_train/image_1137.png\n",
      "images_train/image_0423.png\n",
      "images_train/image_0457.png\n",
      "images_train/image_0422.png\n",
      "images_train/image_0359.png\n"
     ]
    },
    {
     "name": "stderr",
     "output_type": "stream",
     "text": [
      " 73%|███████▎  | 438/601 [00:14<00:05, 28.77it/s]"
     ]
    },
    {
     "name": "stdout",
     "output_type": "stream",
     "text": [
      "images_train/image_0041.png\n",
      "images_train/image_0795.png\n",
      "images_train/image_0354.png\n",
      "images_train/image_0666.png\n",
      "images_train/image_0502.png\n",
      "images_train/image_0381.png\n"
     ]
    },
    {
     "name": "stderr",
     "output_type": "stream",
     "text": [
      " 74%|███████▍  | 445/601 [00:14<00:05, 29.98it/s]"
     ]
    },
    {
     "name": "stdout",
     "output_type": "stream",
     "text": [
      "images_train/image_0697.png\n",
      "images_train/image_0852.png\n",
      "images_train/image_0582.png\n",
      "images_train/image_0801.png\n",
      "images_train/image_0768.png\n",
      "images_train/image_0689.png\n",
      "images_train/image_0050.png\n"
     ]
    },
    {
     "name": "stderr",
     "output_type": "stream",
     "text": [
      "\r",
      " 75%|███████▍  | 449/601 [00:14<00:05, 29.91it/s]"
     ]
    },
    {
     "name": "stdout",
     "output_type": "stream",
     "text": [
      "images_train/image_1132.png\n",
      "images_train/image_0992.png\n",
      "images_train/image_0340.png\n",
      "images_train/image_0404.png\n",
      "images_train/image_0074.png\n",
      "images_train/image_0796.png\n",
      "images_train/image_0782.png\n"
     ]
    },
    {
     "name": "stderr",
     "output_type": "stream",
     "text": [
      " 76%|███████▌  | 457/601 [00:14<00:04, 29.78it/s]"
     ]
    },
    {
     "name": "stdout",
     "output_type": "stream",
     "text": [
      "images_train/image_0893.png\n",
      "images_train/image_0772.png\n",
      "images_train/image_1129.png\n",
      "images_train/image_1000.png\n",
      "images_train/image_0985.png\n",
      "images_train/image_0461.png\n",
      "images_train/image_0382.png\n"
     ]
    },
    {
     "name": "stderr",
     "output_type": "stream",
     "text": [
      " 77%|███████▋  | 464/601 [00:15<00:04, 30.54it/s]"
     ]
    },
    {
     "name": "stdout",
     "output_type": "stream",
     "text": [
      "images_train/image_0483.png\n",
      "images_train/image_0732.png\n",
      "images_train/image_0477.png\n",
      "images_train/image_0059.png\n",
      "images_train/image_0388.png\n",
      "images_train/image_0733.png\n"
     ]
    },
    {
     "name": "stderr",
     "output_type": "stream",
     "text": [
      " 78%|███████▊  | 471/601 [00:15<00:04, 27.62it/s]"
     ]
    },
    {
     "name": "stdout",
     "output_type": "stream",
     "text": [
      "images_train/image_0578.png\n",
      "images_train/image_0528.png\n",
      "images_train/image_0424.png\n",
      "images_train/image_0743.png\n",
      "images_train/image_1012.png\n",
      "images_train/image_0360.png\n"
     ]
    },
    {
     "name": "stderr",
     "output_type": "stream",
     "text": [
      "\r",
      " 79%|███████▉  | 475/601 [00:15<00:04, 28.57it/s]"
     ]
    },
    {
     "name": "stdout",
     "output_type": "stream",
     "text": [
      "images_train/image_0911.png\n",
      "images_train/image_0419.png\n",
      "images_train/image_0681.png\n",
      "images_train/image_0331.png\n",
      "images_train/image_0780.png\n",
      "images_train/image_1138.png\n",
      "images_train/image_0442.png\n"
     ]
    },
    {
     "name": "stderr",
     "output_type": "stream",
     "text": [
      " 80%|████████  | 483/601 [00:15<00:03, 30.28it/s]"
     ]
    },
    {
     "name": "stdout",
     "output_type": "stream",
     "text": [
      "images_train/image_0989.png\n",
      "images_train/image_0055.png\n",
      "images_train/image_0407.png\n",
      "images_train/image_0506.png\n",
      "images_train/image_0648.png\n",
      "images_train/image_0935.png\n",
      "images_train/image_0767.png\n"
     ]
    },
    {
     "name": "stderr",
     "output_type": "stream",
     "text": [
      " 82%|████████▏ | 491/601 [00:16<00:03, 32.27it/s]"
     ]
    },
    {
     "name": "stdout",
     "output_type": "stream",
     "text": [
      "images_train/image_0469.png\n",
      "images_train/image_0595.png\n",
      "images_train/image_0027.png\n",
      "images_train/image_0808.png\n",
      "images_train/image_1004.png\n",
      "images_train/image_0754.png\n",
      "images_train/image_0980.png\n"
     ]
    },
    {
     "name": "stderr",
     "output_type": "stream",
     "text": [
      " 83%|████████▎ | 499/601 [00:16<00:03, 33.21it/s]"
     ]
    },
    {
     "name": "stdout",
     "output_type": "stream",
     "text": [
      "images_train/image_0024.png\n",
      "images_train/image_0040.png\n",
      "images_train/image_0015.png\n",
      "images_train/image_0411.png\n",
      "images_train/image_0881.png\n",
      "images_train/image_0739.png\n",
      "images_train/image_0066.png\n"
     ]
    },
    {
     "name": "stderr",
     "output_type": "stream",
     "text": [
      "\r",
      " 84%|████████▎ | 503/601 [00:16<00:03, 32.56it/s]"
     ]
    },
    {
     "name": "stdout",
     "output_type": "stream",
     "text": [
      "images_train/image_0014.png\n",
      "images_train/image_0776.png\n",
      "images_train/image_0501.png\n",
      "images_train/image_0920.png\n",
      "images_train/image_0016.png\n",
      "images_train/image_0366.png\n",
      "images_train/image_0756.png\n"
     ]
    },
    {
     "name": "stderr",
     "output_type": "stream",
     "text": [
      " 85%|████████▌ | 511/601 [00:16<00:02, 33.93it/s]"
     ]
    },
    {
     "name": "stdout",
     "output_type": "stream",
     "text": [
      "images_train/image_0655.png\n",
      "images_train/image_0431.png\n",
      "images_train/image_0019.png\n",
      "images_train/image_0429.png\n",
      "images_train/image_0441.png\n",
      "images_train/image_0691.png\n",
      "images_train/image_0586.png\n",
      "images_train/image_0490.png\n"
     ]
    },
    {
     "name": "stderr",
     "output_type": "stream",
     "text": [
      " 86%|████████▋ | 519/601 [00:16<00:02, 34.15it/s]"
     ]
    },
    {
     "name": "stdout",
     "output_type": "stream",
     "text": [
      "images_train/image_0941.png\n",
      "images_train/image_0970.png\n",
      "images_train/image_0642.png\n",
      "images_train/image_0828.png\n",
      "images_train/image_0831.png\n",
      "images_train/image_0977.png\n",
      "images_train/image_0904.png\n"
     ]
    },
    {
     "name": "stderr",
     "output_type": "stream",
     "text": [
      " 88%|████████▊ | 527/601 [00:17<00:02, 30.61it/s]"
     ]
    },
    {
     "name": "stdout",
     "output_type": "stream",
     "text": [
      "images_train/image_0898.png\n",
      "images_train/image_1128.png\n",
      "images_train/image_0358.png\n",
      "images_train/image_1125.png\n",
      "images_train/image_0450.png\n",
      "images_train/image_0644.png\n"
     ]
    },
    {
     "name": "stderr",
     "output_type": "stream",
     "text": [
      "\r",
      " 88%|████████▊ | 531/601 [00:17<00:02, 31.22it/s]"
     ]
    },
    {
     "name": "stdout",
     "output_type": "stream",
     "text": [
      "images_train/image_0653.png\n",
      "images_train/image_0851.png\n",
      "images_train/image_0685.png\n",
      "images_train/image_0453.png\n",
      "images_train/image_0838.png\n",
      "images_train/image_0853.png\n",
      "images_train/image_0569.png\n"
     ]
    },
    {
     "name": "stderr",
     "output_type": "stream",
     "text": [
      " 90%|████████▉ | 539/601 [00:17<00:01, 32.92it/s]"
     ]
    },
    {
     "name": "stdout",
     "output_type": "stream",
     "text": [
      "images_train/image_0332.png\n",
      "images_train/image_0657.png\n",
      "images_train/image_0568.png\n",
      "images_train/image_0746.png\n",
      "images_train/image_0564.png\n",
      "images_train/image_0576.png\n",
      "images_train/image_0834.png\n"
     ]
    },
    {
     "name": "stderr",
     "output_type": "stream",
     "text": [
      " 91%|█████████ | 547/601 [00:17<00:01, 31.31it/s]"
     ]
    },
    {
     "name": "stdout",
     "output_type": "stream",
     "text": [
      "images_train/image_0445.png\n",
      "images_train/image_0684.png\n",
      "images_train/image_0357.png\n",
      "images_train/image_0498.png\n",
      "images_train/image_0426.png\n",
      "images_train/image_0491.png\n",
      "images_train/image_0553.png\n"
     ]
    },
    {
     "name": "stderr",
     "output_type": "stream",
     "text": [
      " 92%|█████████▏| 555/601 [00:18<00:01, 32.29it/s]"
     ]
    },
    {
     "name": "stdout",
     "output_type": "stream",
     "text": [
      "images_train/image_0593.png\n",
      "images_train/image_0333.png\n",
      "images_train/image_0770.png\n",
      "images_train/image_0342.png\n",
      "images_train/image_0023.png\n",
      "images_train/image_0721.png\n",
      "images_train/image_0900.png\n"
     ]
    },
    {
     "name": "stderr",
     "output_type": "stream",
     "text": [
      "\r",
      " 93%|█████████▎| 559/601 [00:18<00:01, 32.35it/s]"
     ]
    },
    {
     "name": "stdout",
     "output_type": "stream",
     "text": [
      "images_train/image_0804.png\n",
      "images_train/image_0643.png\n",
      "images_train/image_0812.png\n",
      "images_train/image_0652.png\n",
      "images_train/image_0748.png\n",
      "images_train/image_0975.png\n",
      "images_train/image_0862.png\n"
     ]
    },
    {
     "name": "stderr",
     "output_type": "stream",
     "text": [
      " 94%|█████████▍| 567/601 [00:18<00:01, 31.93it/s]"
     ]
    },
    {
     "name": "stdout",
     "output_type": "stream",
     "text": [
      "images_train/image_0722.png\n",
      "images_train/image_0020.png\n",
      "images_train/image_0690.png\n",
      "images_train/image_0855.png\n",
      "images_train/image_0771.png\n",
      "images_train/image_0845.png\n"
     ]
    },
    {
     "name": "stderr",
     "output_type": "stream",
     "text": [
      " 96%|█████████▌| 574/601 [00:18<00:00, 29.50it/s]"
     ]
    },
    {
     "name": "stdout",
     "output_type": "stream",
     "text": [
      "images_train/image_0390.png\n",
      "images_train/image_0425.png\n",
      "images_train/image_0651.png\n",
      "images_train/image_0711.png\n",
      "images_train/image_1018.png\n",
      "images_train/image_0322.png\n"
     ]
    },
    {
     "name": "stderr",
     "output_type": "stream",
     "text": [
      "\r",
      " 96%|█████████▌| 578/601 [00:18<00:00, 30.26it/s]"
     ]
    },
    {
     "name": "stdout",
     "output_type": "stream",
     "text": [
      "images_train/image_0513.png\n",
      "images_train/image_0475.png\n",
      "images_train/image_0850.png\n",
      "images_train/image_0415.png\n",
      "images_train/image_0574.png\n",
      "images_train/image_0806.png\n",
      "images_train/image_0783.png\n"
     ]
    },
    {
     "name": "stderr",
     "output_type": "stream",
     "text": [
      " 98%|█████████▊| 586/601 [00:19<00:00, 30.55it/s]"
     ]
    },
    {
     "name": "stdout",
     "output_type": "stream",
     "text": [
      "images_train/image_0459.png\n",
      "images_train/image_0554.png\n",
      "images_train/image_0594.png\n",
      "images_train/image_0421.png\n",
      "images_train/image_0730.png\n",
      "images_train/image_0581.png\n",
      "images_train/image_0060.png\n"
     ]
    },
    {
     "name": "stderr",
     "output_type": "stream",
     "text": [
      " 99%|█████████▉| 594/601 [00:19<00:00, 31.22it/s]"
     ]
    },
    {
     "name": "stdout",
     "output_type": "stream",
     "text": [
      "images_train/image_0500.png\n",
      "images_train/image_1016.png\n",
      "images_train/image_0009.png\n",
      "images_train/image_0440.png\n",
      "images_train/image_0827.png\n",
      "images_train/image_0447.png\n",
      "images_train/image_0029.png\n"
     ]
    },
    {
     "name": "stderr",
     "output_type": "stream",
     "text": [
      "100%|██████████| 601/601 [00:19<00:00, 30.76it/s]"
     ]
    },
    {
     "name": "stdout",
     "output_type": "stream",
     "text": [
      "images_train/image_0494.png\n",
      "images_train/image_0667.png\n",
      "images_train/image_0495.png\n",
      "images_train/image_0448.png\n",
      "images_train/image_0353.png\n"
     ]
    },
    {
     "name": "stderr",
     "output_type": "stream",
     "text": [
      "\n"
     ]
    }
   ],
   "source": [
    "\n",
    "print('Resizing training images and masks')\n",
    "for n, id_ in tqdm(enumerate(train_id), total=len(train_id)):   \n",
    "    path = TRAIN_PATH + id_\n",
    "    print(path)\n",
    "    img = imread(path)[:,:,:IMG_CHANNELS]  \n",
    "    img = resize(img, (IMG_HEIGHT, IMG_WIDTH), mode='constant', preserve_range=True)\n",
    "    X_train[n] = img  #Fill empty X_train with values from img\n",
    "    "
   ]
  },
  {
   "cell_type": "code",
   "execution_count": 15,
   "metadata": {},
   "outputs": [
    {
     "data": {
      "text/plain": [
       "(601, 128, 128, 3)"
      ]
     },
     "execution_count": 15,
     "metadata": {},
     "output_type": "execute_result"
    }
   ],
   "source": [
    "X_train.shape"
   ]
  },
  {
   "cell_type": "code",
   "execution_count": null,
   "metadata": {},
   "outputs": [],
   "source": [
    "mask = np.zeros((IMG_HEIGHT, IMG_WIDTH, 1), dtype=np.bool)\n",
    "for mask_file in next(os.walk(path + '/masks/'))[2]:\n",
    "    mask_ = imread(path + '/masks/' + mask_file)\n",
    "    \n",
    "            \n",
    "Y_train[n] = mask"
   ]
  },
  {
   "cell_type": "code",
   "execution_count": 17,
   "metadata": {},
   "outputs": [
    {
     "name": "stderr",
     "output_type": "stream",
     "text": [
      "  1%|▏         | 8/601 [00:00<00:07, 75.67it/s]"
     ]
    },
    {
     "name": "stdout",
     "output_type": "stream",
     "text": [
      "annotations_train/image_1008.png\n",
      "annotations_train/image_0976.png\n",
      "annotations_train/image_0470.png\n",
      "annotations_train/image_0355.png\n",
      "annotations_train/image_0566.png\n",
      "annotations_train/image_0990.png\n",
      "annotations_train/image_0521.png\n",
      "annotations_train/image_0589.png\n",
      "annotations_train/image_0345.png\n",
      "annotations_train/image_1033.png\n",
      "annotations_train/image_0474.png\n",
      "annotations_train/image_1139.png\n",
      "annotations_train/image_0507.png\n",
      "annotations_train/image_0688.png\n",
      "annotations_train/image_0837.png\n",
      "annotations_train/image_0762.png\n",
      "annotations_train/image_0984.png\n"
     ]
    },
    {
     "name": "stderr",
     "output_type": "stream",
     "text": [
      "  4%|▍         | 26/601 [00:00<00:07, 80.45it/s]"
     ]
    },
    {
     "name": "stdout",
     "output_type": "stream",
     "text": [
      "annotations_train/image_0892.png\n",
      "annotations_train/image_0747.png\n",
      "annotations_train/image_0486.png\n",
      "annotations_train/image_0438.png\n",
      "annotations_train/image_0069.png\n",
      "annotations_train/image_0021.png\n",
      "annotations_train/image_0549.png\n",
      "annotations_train/image_0844.png\n",
      "annotations_train/image_0330.png\n",
      "annotations_train/image_0007.png\n",
      "annotations_train/image_0894.png\n",
      "annotations_train/image_0062.png\n",
      "annotations_train/image_0750.png\n",
      "annotations_train/image_0580.png\n",
      "annotations_train/image_0061.png\n",
      "annotations_train/image_0324.png\n",
      "annotations_train/image_0912.png\n",
      "annotations_train/image_0456.png\n"
     ]
    },
    {
     "name": "stderr",
     "output_type": "stream",
     "text": [
      "  7%|▋         | 44/601 [00:00<00:06, 83.58it/s]"
     ]
    },
    {
     "name": "stdout",
     "output_type": "stream",
     "text": [
      "annotations_train/image_0364.png\n",
      "annotations_train/image_0814.png\n",
      "annotations_train/image_0420.png\n",
      "annotations_train/image_0885.png\n",
      "annotations_train/image_0414.png\n",
      "annotations_train/image_0052.png\n",
      "annotations_train/image_0573.png\n",
      "annotations_train/image_0927.png\n",
      "annotations_train/image_0986.png\n",
      "annotations_train/image_1035.png\n",
      "annotations_train/image_0565.png\n",
      "annotations_train/image_0854.png\n",
      "annotations_train/image_0817.png\n",
      "annotations_train/image_0374.png\n",
      "annotations_train/image_0913.png\n",
      "annotations_train/image_0070.png\n",
      "annotations_train/image_0561.png\n"
     ]
    },
    {
     "name": "stderr",
     "output_type": "stream",
     "text": [
      " 10%|█         | 62/601 [00:00<00:06, 82.40it/s]"
     ]
    },
    {
     "name": "stdout",
     "output_type": "stream",
     "text": [
      "annotations_train/image_0775.png\n",
      "annotations_train/image_0704.png\n",
      "annotations_train/image_0409.png\n",
      "annotations_train/image_0915.png\n",
      "annotations_train/image_0979.png\n",
      "annotations_train/image_1006.png\n",
      "annotations_train/image_0008.png\n",
      "annotations_train/image_0672.png\n",
      "annotations_train/image_0530.png\n",
      "annotations_train/image_0492.png\n",
      "annotations_train/image_0744.png\n",
      "annotations_train/image_0888.png\n",
      "annotations_train/image_0608.png\n",
      "annotations_train/image_0781.png\n",
      "annotations_train/image_0676.png\n",
      "annotations_train/image_0377.png\n",
      "annotations_train/image_0463.png\n",
      "annotations_train/image_0472.png\n",
      "annotations_train/image_0408.png\n"
     ]
    },
    {
     "name": "stderr",
     "output_type": "stream",
     "text": [
      " 13%|█▎        | 80/601 [00:00<00:06, 81.50it/s]"
     ]
    },
    {
     "name": "stdout",
     "output_type": "stream",
     "text": [
      "annotations_train/image_0372.png\n",
      "annotations_train/image_1126.png\n",
      "annotations_train/image_0673.png\n",
      "annotations_train/image_0974.png\n",
      "annotations_train/image_0918.png\n",
      "annotations_train/image_0745.png\n",
      "annotations_train/image_0043.png\n",
      "annotations_train/image_0033.png\n",
      "annotations_train/image_0350.png\n",
      "annotations_train/image_0503.png\n",
      "annotations_train/image_0579.png\n",
      "annotations_train/image_0656.png\n",
      "annotations_train/image_1142.png\n",
      "annotations_train/image_0709.png\n",
      "annotations_train/image_0969.png\n",
      "annotations_train/image_0458.png\n"
     ]
    },
    {
     "name": "stderr",
     "output_type": "stream",
     "text": [
      " 16%|█▌        | 97/601 [00:01<00:06, 81.38it/s]"
     ]
    },
    {
     "name": "stdout",
     "output_type": "stream",
     "text": [
      "annotations_train/image_0451.png\n",
      "annotations_train/image_0449.png\n",
      "annotations_train/image_0493.png\n",
      "annotations_train/image_0866.png\n",
      "annotations_train/image_0072.png\n",
      "annotations_train/image_0327.png\n",
      "annotations_train/image_0650.png\n",
      "annotations_train/image_0678.png\n",
      "annotations_train/image_0824.png\n",
      "annotations_train/image_0789.png\n",
      "annotations_train/image_0375.png\n",
      "annotations_train/image_0997.png\n",
      "annotations_train/image_0647.png\n",
      "annotations_train/image_0698.png\n",
      "annotations_train/image_0679.png\n",
      "annotations_train/image_0416.png\n",
      "annotations_train/image_0005.png\n"
     ]
    },
    {
     "name": "stderr",
     "output_type": "stream",
     "text": [
      " 19%|█▉        | 114/601 [00:01<00:06, 78.95it/s]"
     ]
    },
    {
     "name": "stdout",
     "output_type": "stream",
     "text": [
      "annotations_train/image_0562.png\n",
      "annotations_train/image_0443.png\n",
      "annotations_train/image_0759.png\n",
      "annotations_train/image_0343.png\n",
      "annotations_train/image_0728.png\n",
      "annotations_train/image_0488.png\n",
      "annotations_train/image_1140.png\n",
      "annotations_train/image_0584.png\n",
      "annotations_train/image_0830.png\n",
      "annotations_train/image_0761.png\n",
      "annotations_train/image_0480.png\n",
      "annotations_train/image_0049.png\n",
      "annotations_train/image_0462.png\n",
      "annotations_train/image_0909.png\n",
      "annotations_train/image_0026.png\n",
      "annotations_train/image_0890.png\n"
     ]
    },
    {
     "name": "stderr",
     "output_type": "stream",
     "text": [
      " 22%|██▏       | 130/601 [00:01<00:06, 76.51it/s]"
     ]
    },
    {
     "name": "stdout",
     "output_type": "stream",
     "text": [
      "annotations_train/image_0004.png\n",
      "annotations_train/image_0347.png\n",
      "annotations_train/image_0950.png\n",
      "annotations_train/image_0928.png\n",
      "annotations_train/image_0897.png\n",
      "annotations_train/image_0526.png\n",
      "annotations_train/image_0510.png\n",
      "annotations_train/image_0763.png\n",
      "annotations_train/image_0497.png\n",
      "annotations_train/image_0511.png\n",
      "annotations_train/image_0813.png\n",
      "annotations_train/image_0006.png\n",
      "annotations_train/image_0053.png\n",
      "annotations_train/image_0727.png\n",
      "annotations_train/image_0836.png\n",
      "annotations_train/image_0634.png\n"
     ]
    },
    {
     "name": "stderr",
     "output_type": "stream",
     "text": [
      " 24%|██▍       | 147/601 [00:01<00:05, 78.53it/s]"
     ]
    },
    {
     "name": "stdout",
     "output_type": "stream",
     "text": [
      "annotations_train/image_0412.png\n",
      "annotations_train/image_0496.png\n",
      "annotations_train/image_1131.png\n",
      "annotations_train/image_0454.png\n",
      "annotations_train/image_0700.png\n",
      "annotations_train/image_0807.png\n",
      "annotations_train/image_0044.png\n",
      "annotations_train/image_0964.png\n",
      "annotations_train/image_0597.png\n",
      "annotations_train/image_0572.png\n",
      "annotations_train/image_0843.png\n",
      "annotations_train/image_0933.png\n",
      "annotations_train/image_0439.png\n",
      "annotations_train/image_0659.png\n",
      "annotations_train/image_0487.png\n",
      "annotations_train/image_1122.png\n",
      "annotations_train/image_1136.png\n"
     ]
    },
    {
     "name": "stderr",
     "output_type": "stream",
     "text": [
      " 28%|██▊       | 166/601 [00:02<00:05, 84.13it/s]"
     ]
    },
    {
     "name": "stdout",
     "output_type": "stream",
     "text": [
      "annotations_train/image_0919.png\n",
      "annotations_train/image_0455.png\n",
      "annotations_train/image_0512.png\n",
      "annotations_train/image_0352.png\n",
      "annotations_train/image_0735.png\n",
      "annotations_train/image_0816.png\n",
      "annotations_train/image_0822.png\n",
      "annotations_train/image_0848.png\n",
      "annotations_train/image_0037.png\n",
      "annotations_train/image_0996.png\n",
      "annotations_train/image_1009.png\n",
      "annotations_train/image_0849.png\n",
      "annotations_train/image_0525.png\n",
      "annotations_train/image_0368.png\n",
      "annotations_train/image_0833.png\n",
      "annotations_train/image_0056.png\n",
      "annotations_train/image_0961.png\n",
      "annotations_train/image_0965.png\n"
     ]
    },
    {
     "name": "stderr",
     "output_type": "stream",
     "text": [
      " 31%|███       | 184/601 [00:02<00:04, 83.68it/s]"
     ]
    },
    {
     "name": "stdout",
     "output_type": "stream",
     "text": [
      "annotations_train/image_0002.png\n",
      "annotations_train/image_0034.png\n",
      "annotations_train/image_0686.png\n",
      "annotations_train/image_0917.png\n",
      "annotations_train/image_0687.png\n",
      "annotations_train/image_0734.png\n",
      "annotations_train/image_0484.png\n",
      "annotations_train/image_0677.png\n",
      "annotations_train/image_0430.png\n",
      "annotations_train/image_0675.png\n",
      "annotations_train/image_0777.png\n",
      "annotations_train/image_0839.png\n",
      "annotations_train/image_0596.png\n",
      "annotations_train/image_0718.png\n",
      "annotations_train/image_1124.png\n",
      "annotations_train/image_0692.png\n",
      "annotations_train/image_0995.png\n",
      "annotations_train/image_0693.png\n"
     ]
    },
    {
     "name": "stderr",
     "output_type": "stream",
     "text": [
      " 34%|███▎      | 202/601 [00:02<00:04, 85.27it/s]"
     ]
    },
    {
     "name": "stdout",
     "output_type": "stream",
     "text": [
      "annotations_train/image_0973.png\n",
      "annotations_train/image_0467.png\n",
      "annotations_train/image_0437.png\n",
      "annotations_train/image_0452.png\n",
      "annotations_train/image_0079.png\n",
      "annotations_train/image_0401.png\n",
      "annotations_train/image_0671.png\n",
      "annotations_train/image_0598.png\n",
      "annotations_train/image_0934.png\n",
      "annotations_train/image_0815.png\n",
      "annotations_train/image_0481.png\n",
      "annotations_train/image_0758.png\n",
      "annotations_train/image_0444.png\n",
      "annotations_train/image_0764.png\n",
      "annotations_train/image_0058.png\n",
      "annotations_train/image_0766.png\n",
      "annotations_train/image_1001.png\n"
     ]
    },
    {
     "name": "stderr",
     "output_type": "stream",
     "text": [
      " 37%|███▋      | 220/601 [00:02<00:04, 82.92it/s]"
     ]
    },
    {
     "name": "stdout",
     "output_type": "stream",
     "text": [
      "annotations_train/image_0654.png\n",
      "annotations_train/image_0842.png\n",
      "annotations_train/image_0068.png\n",
      "annotations_train/image_0010.png\n",
      "annotations_train/image_0336.png\n",
      "annotations_train/image_0403.png\n",
      "annotations_train/image_0471.png\n",
      "annotations_train/image_0057.png\n",
      "annotations_train/image_0065.png\n",
      "annotations_train/image_0660.png\n",
      "annotations_train/image_0587.png\n",
      "annotations_train/image_0774.png\n",
      "annotations_train/image_0504.png\n",
      "annotations_train/image_0999.png\n",
      "annotations_train/image_0351.png\n",
      "annotations_train/image_0753.png\n",
      "annotations_train/image_0417.png\n",
      "annotations_train/image_0896.png\n"
     ]
    },
    {
     "name": "stderr",
     "output_type": "stream",
     "text": [
      " 40%|███▉      | 238/601 [00:02<00:04, 81.77it/s]"
     ]
    },
    {
     "name": "stdout",
     "output_type": "stream",
     "text": [
      "annotations_train/image_0736.png\n",
      "annotations_train/image_0731.png\n",
      "annotations_train/image_0884.png\n",
      "annotations_train/image_0529.png\n",
      "annotations_train/image_0906.png\n",
      "annotations_train/image_0418.png\n",
      "annotations_train/image_1135.png\n",
      "annotations_train/image_0755.png\n",
      "annotations_train/image_0664.png\n",
      "annotations_train/image_0811.png\n",
      "annotations_train/image_0802.png\n",
      "annotations_train/image_0883.png\n",
      "annotations_train/image_0335.png\n",
      "annotations_train/image_0410.png\n",
      "annotations_train/image_0966.png\n",
      "annotations_train/image_0609.png\n"
     ]
    },
    {
     "name": "stderr",
     "output_type": "stream",
     "text": [
      " 42%|████▏     | 255/601 [00:03<00:04, 79.13it/s]"
     ]
    },
    {
     "name": "stdout",
     "output_type": "stream",
     "text": [
      "annotations_train/image_0048.png\n",
      "annotations_train/image_0703.png\n",
      "annotations_train/image_0003.png\n",
      "annotations_train/image_0943.png\n",
      "annotations_train/image_0508.png\n",
      "annotations_train/image_0585.png\n",
      "annotations_train/image_0045.png\n",
      "annotations_train/image_0517.png\n",
      "annotations_train/image_0465.png\n",
      "annotations_train/image_0991.png\n",
      "annotations_train/image_0337.png\n",
      "annotations_train/image_0078.png\n",
      "annotations_train/image_0328.png\n",
      "annotations_train/image_0338.png\n",
      "annotations_train/image_0741.png\n",
      "annotations_train/image_0018.png\n"
     ]
    },
    {
     "name": "stderr",
     "output_type": "stream",
     "text": [
      " 45%|████▌     | 272/601 [00:03<00:04, 81.01it/s]"
     ]
    },
    {
     "name": "stdout",
     "output_type": "stream",
     "text": [
      "annotations_train/image_0524.png\n",
      "annotations_train/image_0901.png\n",
      "annotations_train/image_0434.png\n",
      "annotations_train/image_0968.png\n",
      "annotations_train/image_0028.png\n",
      "annotations_train/image_0682.png\n",
      "annotations_train/image_0590.png\n",
      "annotations_train/image_0729.png\n",
      "annotations_train/image_0905.png\n",
      "annotations_train/image_1134.png\n",
      "annotations_train/image_0803.png\n",
      "annotations_train/image_0473.png\n",
      "annotations_train/image_1032.png\n",
      "annotations_train/image_0022.png\n",
      "annotations_train/image_0799.png\n",
      "annotations_train/image_0064.png\n",
      "annotations_train/image_0832.png\n"
     ]
    },
    {
     "name": "stderr",
     "output_type": "stream",
     "text": [
      "\r",
      " 47%|████▋     | 281/601 [00:03<00:03, 82.50it/s]"
     ]
    },
    {
     "name": "stdout",
     "output_type": "stream",
     "text": [
      "annotations_train/image_0663.png\n",
      "annotations_train/image_0646.png\n",
      "annotations_train/image_0013.png\n",
      "annotations_train/image_0509.png\n",
      "annotations_train/image_0325.png\n",
      "annotations_train/image_0751.png\n",
      "annotations_train/image_0829.png\n",
      "annotations_train/image_0972.png\n",
      "annotations_train/image_0967.png\n",
      "annotations_train/image_0604.png\n",
      "annotations_train/image_1133.png\n",
      "annotations_train/image_0798.png\n",
      "annotations_train/image_0821.png\n",
      "annotations_train/image_0993.png\n",
      "annotations_train/image_0873.png\n",
      "annotations_train/image_0583.png\n",
      "annotations_train/image_0818.png\n"
     ]
    },
    {
     "name": "stderr",
     "output_type": "stream",
     "text": [
      " 50%|████▉     | 299/601 [00:03<00:03, 80.88it/s]"
     ]
    },
    {
     "name": "stdout",
     "output_type": "stream",
     "text": [
      "annotations_train/image_0752.png\n",
      "annotations_train/image_0841.png\n",
      "annotations_train/image_0929.png\n",
      "annotations_train/image_0567.png\n",
      "annotations_train/image_0962.png\n",
      "annotations_train/image_1130.png\n",
      "annotations_train/image_0575.png\n",
      "annotations_train/image_1123.png\n",
      "annotations_train/image_0820.png\n",
      "annotations_train/image_0344.png\n",
      "annotations_train/image_0466.png\n",
      "annotations_train/image_0365.png\n",
      "annotations_train/image_0674.png\n",
      "annotations_train/image_0895.png\n",
      "annotations_train/image_0773.png\n",
      "annotations_train/image_0910.png\n",
      "annotations_train/image_0835.png\n"
     ]
    },
    {
     "name": "stderr",
     "output_type": "stream",
     "text": [
      " 53%|█████▎    | 317/601 [00:03<00:03, 82.63it/s]"
     ]
    },
    {
     "name": "stdout",
     "output_type": "stream",
     "text": [
      "annotations_train/image_0489.png\n",
      "annotations_train/image_0348.png\n",
      "annotations_train/image_0641.png\n",
      "annotations_train/image_0031.png\n",
      "annotations_train/image_0778.png\n",
      "annotations_train/image_0784.png\n",
      "annotations_train/image_0402.png\n",
      "annotations_train/image_1013.png\n",
      "annotations_train/image_1121.png\n",
      "annotations_train/image_0865.png\n",
      "annotations_train/image_0464.png\n",
      "annotations_train/image_0514.png\n",
      "annotations_train/image_1127.png\n",
      "annotations_train/image_0645.png\n",
      "annotations_train/image_0724.png\n",
      "annotations_train/image_0017.png\n",
      "annotations_train/image_0662.png\n",
      "annotations_train/image_0387.png\n"
     ]
    },
    {
     "name": "stderr",
     "output_type": "stream",
     "text": [
      " 56%|█████▌    | 335/601 [00:04<00:03, 81.61it/s]"
     ]
    },
    {
     "name": "stdout",
     "output_type": "stream",
     "text": [
      "annotations_train/image_0349.png\n",
      "annotations_train/image_0891.png\n",
      "annotations_train/image_0914.png\n",
      "annotations_train/image_0326.png\n",
      "annotations_train/image_0668.png\n",
      "annotations_train/image_0680.png\n",
      "annotations_train/image_0046.png\n",
      "annotations_train/image_0432.png\n",
      "annotations_train/image_0341.png\n",
      "annotations_train/image_0649.png\n",
      "annotations_train/image_0823.png\n",
      "annotations_train/image_0428.png\n",
      "annotations_train/image_0790.png\n",
      "annotations_train/image_1003.png\n",
      "annotations_train/image_0522.png\n"
     ]
    },
    {
     "name": "stderr",
     "output_type": "stream",
     "text": [
      " 59%|█████▊    | 353/601 [00:04<00:03, 80.95it/s]"
     ]
    },
    {
     "name": "stdout",
     "output_type": "stream",
     "text": [
      "annotations_train/image_0714.png\n",
      "annotations_train/image_0723.png\n",
      "annotations_train/image_0737.png\n",
      "annotations_train/image_0926.png\n",
      "annotations_train/image_0030.png\n",
      "annotations_train/image_0011.png\n",
      "annotations_train/image_0819.png\n",
      "annotations_train/image_0749.png\n",
      "annotations_train/image_0760.png\n",
      "annotations_train/image_0695.png\n",
      "annotations_train/image_0981.png\n",
      "annotations_train/image_0726.png\n",
      "annotations_train/image_0047.png\n",
      "annotations_train/image_0038.png\n",
      "annotations_train/image_1002.png\n",
      "annotations_train/image_0785.png\n",
      "annotations_train/image_0546.png\n"
     ]
    },
    {
     "name": "stderr",
     "output_type": "stream",
     "text": [
      " 62%|██████▏   | 372/601 [00:04<00:02, 83.36it/s]"
     ]
    },
    {
     "name": "stdout",
     "output_type": "stream",
     "text": [
      "annotations_train/image_0978.png\n",
      "annotations_train/image_0482.png\n",
      "annotations_train/image_0405.png\n",
      "annotations_train/image_0563.png\n",
      "annotations_train/image_0036.png\n",
      "annotations_train/image_0599.png\n",
      "annotations_train/image_0825.png\n",
      "annotations_train/image_1141.png\n",
      "annotations_train/image_0694.png\n",
      "annotations_train/image_0805.png\n",
      "annotations_train/image_0063.png\n",
      "annotations_train/image_0476.png\n",
      "annotations_train/image_0787.png\n",
      "annotations_train/image_0025.png\n",
      "annotations_train/image_0738.png\n",
      "annotations_train/image_0329.png\n",
      "annotations_train/image_0571.png\n",
      "annotations_train/image_0669.png\n"
     ]
    },
    {
     "name": "stderr",
     "output_type": "stream",
     "text": [
      " 65%|██████▍   | 390/601 [00:04<00:02, 81.36it/s]"
     ]
    },
    {
     "name": "stdout",
     "output_type": "stream",
     "text": [
      "annotations_train/image_0555.png\n",
      "annotations_train/image_0983.png\n",
      "annotations_train/image_0988.png\n",
      "annotations_train/image_0810.png\n",
      "annotations_train/image_0413.png\n",
      "annotations_train/image_0577.png\n",
      "annotations_train/image_0903.png\n",
      "annotations_train/image_0699.png\n",
      "annotations_train/image_0527.png\n",
      "annotations_train/image_0902.png\n",
      "annotations_train/image_0435.png\n",
      "annotations_train/image_0436.png\n",
      "annotations_train/image_0930.png\n",
      "annotations_train/image_0987.png\n",
      "annotations_train/image_0339.png\n",
      "annotations_train/image_0446.png\n"
     ]
    },
    {
     "name": "stderr",
     "output_type": "stream",
     "text": [
      "\r",
      " 66%|██████▋   | 399/601 [00:04<00:02, 79.92it/s]"
     ]
    },
    {
     "name": "stdout",
     "output_type": "stream",
     "text": [
      "annotations_train/image_1007.png\n",
      "annotations_train/image_0591.png\n",
      "annotations_train/image_0696.png\n",
      "annotations_train/image_0460.png\n",
      "annotations_train/image_0797.png\n",
      "annotations_train/image_0433.png\n",
      "annotations_train/image_0406.png\n",
      "annotations_train/image_0485.png\n",
      "annotations_train/image_0592.png\n",
      "annotations_train/image_0826.png\n",
      "annotations_train/image_0670.png\n",
      "annotations_train/image_0363.png\n",
      "annotations_train/image_0323.png\n",
      "annotations_train/image_0867.png\n",
      "annotations_train/image_0012.png\n",
      "annotations_train/image_0725.png\n",
      "annotations_train/image_1019.png\n"
     ]
    },
    {
     "name": "stderr",
     "output_type": "stream",
     "text": [
      " 69%|██████▉   | 417/601 [00:05<00:02, 82.45it/s]"
     ]
    },
    {
     "name": "stdout",
     "output_type": "stream",
     "text": [
      "annotations_train/image_0051.png\n",
      "annotations_train/image_0427.png\n",
      "annotations_train/image_0032.png\n",
      "annotations_train/image_0740.png\n",
      "annotations_train/image_0039.png\n",
      "annotations_train/image_0067.png\n",
      "annotations_train/image_0757.png\n",
      "annotations_train/image_0994.png\n",
      "annotations_train/image_0971.png\n",
      "annotations_train/image_0769.png\n",
      "annotations_train/image_0963.png\n",
      "annotations_train/image_0658.png\n",
      "annotations_train/image_0982.png\n",
      "annotations_train/image_0840.png\n",
      "annotations_train/image_0779.png\n",
      "annotations_train/image_0705.png\n",
      "annotations_train/image_0515.png\n",
      "annotations_train/image_0665.png\n"
     ]
    },
    {
     "name": "stderr",
     "output_type": "stream",
     "text": [
      " 72%|███████▏  | 435/601 [00:05<00:01, 83.21it/s]"
     ]
    },
    {
     "name": "stdout",
     "output_type": "stream",
     "text": [
      "annotations_train/image_0518.png\n",
      "annotations_train/image_0468.png\n",
      "annotations_train/image_1137.png\n",
      "annotations_train/image_0423.png\n",
      "annotations_train/image_0457.png\n",
      "annotations_train/image_0422.png\n",
      "annotations_train/image_0359.png\n",
      "annotations_train/image_0041.png\n",
      "annotations_train/image_0795.png\n",
      "annotations_train/image_0354.png\n",
      "annotations_train/image_0666.png\n",
      "annotations_train/image_0502.png\n",
      "annotations_train/image_0381.png\n",
      "annotations_train/image_0697.png\n",
      "annotations_train/image_0852.png\n",
      "annotations_train/image_0582.png\n",
      "annotations_train/image_0801.png\n"
     ]
    },
    {
     "name": "stderr",
     "output_type": "stream",
     "text": [
      " 75%|███████▌  | 453/601 [00:05<00:01, 82.98it/s]"
     ]
    },
    {
     "name": "stdout",
     "output_type": "stream",
     "text": [
      "annotations_train/image_0768.png\n",
      "annotations_train/image_0689.png\n",
      "annotations_train/image_0050.png\n",
      "annotations_train/image_1132.png\n",
      "annotations_train/image_0992.png\n",
      "annotations_train/image_0340.png\n",
      "annotations_train/image_0404.png\n",
      "annotations_train/image_0074.png\n",
      "annotations_train/image_0796.png\n",
      "annotations_train/image_0782.png\n",
      "annotations_train/image_0893.png\n",
      "annotations_train/image_0772.png\n",
      "annotations_train/image_1129.png\n",
      "annotations_train/image_1000.png\n",
      "annotations_train/image_0985.png\n",
      "annotations_train/image_0461.png\n"
     ]
    },
    {
     "name": "stderr",
     "output_type": "stream",
     "text": [
      " 78%|███████▊  | 471/601 [00:05<00:01, 82.15it/s]"
     ]
    },
    {
     "name": "stdout",
     "output_type": "stream",
     "text": [
      "annotations_train/image_0382.png\n",
      "annotations_train/image_0483.png\n",
      "annotations_train/image_0732.png\n",
      "annotations_train/image_0477.png\n",
      "annotations_train/image_0059.png\n",
      "annotations_train/image_0388.png\n",
      "annotations_train/image_0733.png\n",
      "annotations_train/image_0578.png\n",
      "annotations_train/image_0528.png\n",
      "annotations_train/image_0424.png\n",
      "annotations_train/image_0743.png\n",
      "annotations_train/image_1012.png\n",
      "annotations_train/image_0360.png\n",
      "annotations_train/image_0911.png\n",
      "annotations_train/image_0419.png\n",
      "annotations_train/image_0681.png\n",
      "annotations_train/image_0331.png\n"
     ]
    },
    {
     "name": "stderr",
     "output_type": "stream",
     "text": [
      " 82%|████████▏ | 491/601 [00:05<00:01, 86.70it/s]"
     ]
    },
    {
     "name": "stdout",
     "output_type": "stream",
     "text": [
      "annotations_train/image_0780.png\n",
      "annotations_train/image_1138.png\n",
      "annotations_train/image_0442.png\n",
      "annotations_train/image_0989.png\n",
      "annotations_train/image_0055.png\n",
      "annotations_train/image_0407.png\n",
      "annotations_train/image_0506.png\n",
      "annotations_train/image_0648.png\n",
      "annotations_train/image_0935.png\n",
      "annotations_train/image_0767.png\n",
      "annotations_train/image_0469.png\n",
      "annotations_train/image_0595.png\n",
      "annotations_train/image_0027.png\n",
      "annotations_train/image_0808.png\n",
      "annotations_train/image_1004.png\n",
      "annotations_train/image_0754.png\n",
      "annotations_train/image_0980.png\n",
      "annotations_train/image_0024.png\n",
      "annotations_train/image_0040.png\n"
     ]
    },
    {
     "name": "stderr",
     "output_type": "stream",
     "text": [
      " 85%|████████▍ | 509/601 [00:06<00:01, 87.02it/s]"
     ]
    },
    {
     "name": "stdout",
     "output_type": "stream",
     "text": [
      "annotations_train/image_0015.png\n",
      "annotations_train/image_0411.png\n",
      "annotations_train/image_0881.png\n",
      "annotations_train/image_0739.png\n",
      "annotations_train/image_0066.png\n",
      "annotations_train/image_0014.png\n",
      "annotations_train/image_0776.png\n",
      "annotations_train/image_0501.png\n",
      "annotations_train/image_0920.png\n",
      "annotations_train/image_0016.png\n",
      "annotations_train/image_0366.png\n",
      "annotations_train/image_0756.png\n",
      "annotations_train/image_0655.png\n",
      "annotations_train/image_0431.png\n",
      "annotations_train/image_0019.png\n",
      "annotations_train/image_0429.png\n",
      "annotations_train/image_0441.png\n",
      "annotations_train/image_0691.png\n"
     ]
    },
    {
     "name": "stderr",
     "output_type": "stream",
     "text": [
      " 88%|████████▊ | 528/601 [00:06<00:00, 89.02it/s]"
     ]
    },
    {
     "name": "stdout",
     "output_type": "stream",
     "text": [
      "annotations_train/image_0586.png\n",
      "annotations_train/image_0490.png\n",
      "annotations_train/image_0941.png\n",
      "annotations_train/image_0970.png\n",
      "annotations_train/image_0642.png\n",
      "annotations_train/image_0828.png\n",
      "annotations_train/image_0831.png\n",
      "annotations_train/image_0977.png\n",
      "annotations_train/image_0904.png\n",
      "annotations_train/image_0898.png\n",
      "annotations_train/image_1128.png\n",
      "annotations_train/image_0358.png\n",
      "annotations_train/image_1125.png\n",
      "annotations_train/image_0450.png\n",
      "annotations_train/image_0644.png\n",
      "annotations_train/image_0653.png\n",
      "annotations_train/image_0851.png\n",
      "annotations_train/image_0685.png\n",
      "annotations_train/image_0453.png\n"
     ]
    },
    {
     "name": "stderr",
     "output_type": "stream",
     "text": [
      " 91%|█████████ | 546/601 [00:06<00:00, 86.39it/s]"
     ]
    },
    {
     "name": "stdout",
     "output_type": "stream",
     "text": [
      "annotations_train/image_0838.png\n",
      "annotations_train/image_0853.png\n",
      "annotations_train/image_0569.png\n",
      "annotations_train/image_0332.png\n",
      "annotations_train/image_0657.png\n",
      "annotations_train/image_0568.png\n",
      "annotations_train/image_0746.png\n",
      "annotations_train/image_0564.png\n",
      "annotations_train/image_0576.png\n",
      "annotations_train/image_0834.png\n",
      "annotations_train/image_0445.png\n",
      "annotations_train/image_0684.png\n",
      "annotations_train/image_0357.png\n",
      "annotations_train/image_0498.png\n",
      "annotations_train/image_0426.png\n",
      "annotations_train/image_0491.png\n",
      "annotations_train/image_0553.png\n"
     ]
    },
    {
     "name": "stderr",
     "output_type": "stream",
     "text": [
      "\r",
      " 92%|█████████▏| 555/601 [00:06<00:00, 83.52it/s]"
     ]
    },
    {
     "name": "stdout",
     "output_type": "stream",
     "text": [
      "annotations_train/image_0593.png\n",
      "annotations_train/image_0333.png\n",
      "annotations_train/image_0770.png\n",
      "annotations_train/image_0342.png\n",
      "annotations_train/image_0023.png\n",
      "annotations_train/image_0721.png\n",
      "annotations_train/image_0900.png\n",
      "annotations_train/image_0804.png\n",
      "annotations_train/image_0643.png\n",
      "annotations_train/image_0812.png\n",
      "annotations_train/image_0652.png\n",
      "annotations_train/image_0748.png\n",
      "annotations_train/image_0975.png\n",
      "annotations_train/image_0862.png\n",
      "annotations_train/image_0722.png\n"
     ]
    },
    {
     "name": "stderr",
     "output_type": "stream",
     "text": [
      " 95%|█████████▌| 573/601 [00:06<00:00, 74.47it/s]"
     ]
    },
    {
     "name": "stdout",
     "output_type": "stream",
     "text": [
      "annotations_train/image_0020.png\n",
      "annotations_train/image_0690.png\n",
      "annotations_train/image_0855.png\n",
      "annotations_train/image_0771.png\n",
      "annotations_train/image_0845.png\n",
      "annotations_train/image_0390.png\n",
      "annotations_train/image_0425.png\n",
      "annotations_train/image_0651.png\n",
      "annotations_train/image_0711.png\n",
      "annotations_train/image_1018.png\n",
      "annotations_train/image_0322.png\n",
      "annotations_train/image_0513.png\n",
      "annotations_train/image_0475.png\n",
      "annotations_train/image_0850.png\n"
     ]
    },
    {
     "name": "stderr",
     "output_type": "stream",
     "text": [
      " 98%|█████████▊| 589/601 [00:07<00:00, 74.94it/s]"
     ]
    },
    {
     "name": "stdout",
     "output_type": "stream",
     "text": [
      "annotations_train/image_0415.png\n",
      "annotations_train/image_0574.png\n",
      "annotations_train/image_0806.png\n",
      "annotations_train/image_0783.png\n",
      "annotations_train/image_0459.png\n",
      "annotations_train/image_0554.png\n",
      "annotations_train/image_0594.png\n",
      "annotations_train/image_0421.png\n",
      "annotations_train/image_0730.png\n",
      "annotations_train/image_0581.png\n",
      "annotations_train/image_0060.png\n",
      "annotations_train/image_0500.png\n",
      "annotations_train/image_1016.png\n",
      "annotations_train/image_0009.png\n",
      "annotations_train/image_0440.png\n"
     ]
    },
    {
     "name": "stderr",
     "output_type": "stream",
     "text": [
      "100%|██████████| 601/601 [00:07<00:00, 81.27it/s]"
     ]
    },
    {
     "name": "stdout",
     "output_type": "stream",
     "text": [
      "annotations_train/image_0827.png\n",
      "annotations_train/image_0447.png\n",
      "annotations_train/image_0029.png\n",
      "annotations_train/image_0494.png\n",
      "annotations_train/image_0667.png\n",
      "annotations_train/image_0495.png\n",
      "annotations_train/image_0448.png\n",
      "annotations_train/image_0353.png\n"
     ]
    },
    {
     "name": "stderr",
     "output_type": "stream",
     "text": [
      "\n"
     ]
    }
   ],
   "source": [
    "for n, id_ in tqdm(enumerate(train_id), total=len(train_id)):   \n",
    "    path = \"annotations_train/\" + id_\n",
    "    print(path)\n",
    "    img = imread(path)[:,:,:1]  \n",
    "    img = resize(img, (IMG_HEIGHT, IMG_WIDTH), mode='constant', preserve_range=True)\n",
    "    Y_train[n] = img  #Fill empty X_train with values from img"
   ]
  },
  {
   "cell_type": "code",
   "execution_count": 18,
   "metadata": {},
   "outputs": [
    {
     "data": {
      "text/plain": [
       "(601, 128, 128, 1)"
      ]
     },
     "execution_count": 18,
     "metadata": {},
     "output_type": "execute_result"
    }
   ],
   "source": [
    "Y_train.shape"
   ]
  },
  {
   "cell_type": "code",
   "execution_count": 19,
   "metadata": {},
   "outputs": [
    {
     "name": "stderr",
     "output_type": "stream",
     "text": [
      "  3%|▎         | 4/151 [00:00<00:04, 32.04it/s]"
     ]
    },
    {
     "name": "stdout",
     "output_type": "stream",
     "text": [
      "Resizing test images\n"
     ]
    },
    {
     "name": "stderr",
     "output_type": "stream",
     "text": [
      "100%|██████████| 151/151 [00:04<00:00, 33.48it/s]"
     ]
    },
    {
     "name": "stdout",
     "output_type": "stream",
     "text": [
      "Done!\n"
     ]
    },
    {
     "name": "stderr",
     "output_type": "stream",
     "text": [
      "\n"
     ]
    }
   ],
   "source": [
    "\n",
    "# test images\n",
    "X_test = np.zeros((len(test_id), IMG_HEIGHT, IMG_WIDTH, IMG_CHANNELS), dtype=np.uint8)\n",
    "sizes_test = []\n",
    "print('Resizing test images') \n",
    "for n, id_ in tqdm(enumerate(test_id), total=len(test_id)):\n",
    "    path = TEST_PATH + id_\n",
    "    img = imread(path)[:,:,:IMG_CHANNELS]\n",
    "    sizes_test.append([img.shape[0], img.shape[1]])\n",
    "    img = resize(img, (IMG_HEIGHT, IMG_WIDTH), mode='constant', preserve_range=True)\n",
    "    X_test[n] = img\n",
    "\n",
    "print('Done!')"
   ]
  },
  {
   "cell_type": "code",
   "execution_count": 20,
   "metadata": {},
   "outputs": [
    {
     "data": {
      "text/plain": [
       "(151, 128, 128, 3)"
      ]
     },
     "execution_count": 20,
     "metadata": {},
     "output_type": "execute_result"
    }
   ],
   "source": [
    "X_test.shape"
   ]
  },
  {
   "cell_type": "code",
   "execution_count": 21,
   "metadata": {},
   "outputs": [
    {
     "data": {
      "image/png": "[encoded data removed]",
      "text/plain": [
       "<Figure size 432x288 with 1 Axes>"
      ]
     },
     "metadata": {
      "needs_background": "light"
     },
     "output_type": "display_data"
    },
    {
     "data": {
      "image/png": "[encoded data removed]",
      "text/plain": [
       "<Figure size 432x288 with 1 Axes>"
      ]
     },
     "metadata": {
      "needs_background": "light"
     },
     "output_type": "display_data"
    }
   ],
   "source": [
    "\n",
    "image_x = random.randint(0, len(train_id))\n",
    "imshow(X_train[image_x])\n",
    "plt.show()\n",
    "imshow(np.squeeze(Y_train[image_x]))\n",
    "plt.show()\n"
   ]
  },
  {
   "cell_type": "code",
   "execution_count": 22,
   "metadata": {},
   "outputs": [
    {
     "name": "stdout",
     "output_type": "stream",
     "text": [
      "WARNING:tensorflow:From /home/ai-students/newfairseq/lib/python3.6/site-packages/tensorflow/python/ops/init_ops.py:1251: calling VarianceScaling.__init__ (from tensorflow.python.ops.init_ops) with dtype is deprecated and will be removed in a future version.\n",
      "Instructions for updating:\n",
      "Call initializer instance with the dtype argument instead of passing it to the constructor\n"
     ]
    }
   ],
   "source": [
    "\n",
    "\n",
    "#Build the model\n",
    "inputs = tf.keras.layers.Input((IMG_HEIGHT, IMG_WIDTH, IMG_CHANNELS))\n",
    "s = tf.keras.layers.Lambda(lambda x: x / 255)(inputs)\n",
    "\n",
    "#Contraction path\n",
    "c1 = tf.keras.layers.Conv2D(16, (3, 3), activation='relu', kernel_initializer='he_normal', padding='same')(s)\n",
    "c1 = tf.keras.layers.Dropout(0.1)(c1)\n",
    "c1 = tf.keras.layers.Conv2D(16, (3, 3), activation='relu', kernel_initializer='he_normal', padding='same')(c1)\n",
    "p1 = tf.keras.layers.MaxPooling2D((2, 2))(c1)\n",
    "\n",
    "c2 = tf.keras.layers.Conv2D(32, (3, 3), activation='relu', kernel_initializer='he_normal', padding='same')(p1)\n",
    "c2 = tf.keras.layers.Dropout(0.1)(c2)\n",
    "c2 = tf.keras.layers.Conv2D(32, (3, 3), activation='relu', kernel_initializer='he_normal', padding='same')(c2)\n",
    "p2 = tf.keras.layers.MaxPooling2D((2, 2))(c2)\n",
    " \n",
    "c3 = tf.keras.layers.Conv2D(64, (3, 3), activation='relu', kernel_initializer='he_normal', padding='same')(p2)\n",
    "c3 = tf.keras.layers.Dropout(0.2)(c3)\n",
    "c3 = tf.keras.layers.Conv2D(64, (3, 3), activation='relu', kernel_initializer='he_normal', padding='same')(c3)\n",
    "p3 = tf.keras.layers.MaxPooling2D((2, 2))(c3)\n",
    " \n",
    "c4 = tf.keras.layers.Conv2D(128, (3, 3), activation='relu', kernel_initializer='he_normal', padding='same')(p3)\n",
    "c4 = tf.keras.layers.Dropout(0.2)(c4)\n",
    "c4 = tf.keras.layers.Conv2D(128, (3, 3), activation='relu', kernel_initializer='he_normal', padding='same')(c4)\n",
    "p4 = tf.keras.layers.MaxPooling2D(pool_size=(2, 2))(c4)\n",
    " \n",
    "c5 = tf.keras.layers.Conv2D(256, (3, 3), activation='relu', kernel_initializer='he_normal', padding='same')(p4)\n",
    "c5 = tf.keras.layers.Dropout(0.3)(c5)\n",
    "c5 = tf.keras.layers.Conv2D(256, (3, 3), activation='relu', kernel_initializer='he_normal', padding='same')(c5)\n",
    "\n",
    "#Expansive path \n",
    "u6 = tf.keras.layers.Conv2DTranspose(128, (2, 2), strides=(2, 2), padding='same')(c5)\n",
    "u6 = tf.keras.layers.concatenate([u6, c4])\n",
    "c6 = tf.keras.layers.Conv2D(128, (3, 3), activation='relu', kernel_initializer='he_normal', padding='same')(u6)\n",
    "c6 = tf.keras.layers.Dropout(0.2)(c6)\n",
    "c6 = tf.keras.layers.Conv2D(128, (3, 3), activation='relu', kernel_initializer='he_normal', padding='same')(c6)\n",
    " \n",
    "u7 = tf.keras.layers.Conv2DTranspose(64, (2, 2), strides=(2, 2), padding='same')(c6)\n",
    "u7 = tf.keras.layers.concatenate([u7, c3])\n",
    "c7 = tf.keras.layers.Conv2D(64, (3, 3), activation='relu', kernel_initializer='he_normal', padding='same')(u7)\n",
    "c7 = tf.keras.layers.Dropout(0.2)(c7)\n",
    "c7 = tf.keras.layers.Conv2D(64, (3, 3), activation='relu', kernel_initializer='he_normal', padding='same')(c7)\n",
    " \n",
    "u8 = tf.keras.layers.Conv2DTranspose(32, (2, 2), strides=(2, 2), padding='same')(c7)\n",
    "u8 = tf.keras.layers.concatenate([u8, c2])\n",
    "c8 = tf.keras.layers.Conv2D(32, (3, 3), activation='relu', kernel_initializer='he_normal', padding='same')(u8)\n",
    "c8 = tf.keras.layers.Dropout(0.1)(c8)\n",
    "c8 = tf.keras.layers.Conv2D(32, (3, 3), activation='relu', kernel_initializer='he_normal', padding='same')(c8)\n",
    " \n",
    "u9 = tf.keras.layers.Conv2DTranspose(16, (2, 2), strides=(2, 2), padding='same')(c8)\n",
    "u9 = tf.keras.layers.concatenate([u9, c1], axis=3)\n",
    "c9 = tf.keras.layers.Conv2D(16, (3, 3), activation='relu', kernel_initializer='he_normal', padding='same')(u9)\n",
    "c9 = tf.keras.layers.Dropout(0.1)(c9)\n",
    "c9 = tf.keras.layers.Conv2D(16, (3, 3), activation='relu', kernel_initializer='he_normal', padding='same')(c9)\n",
    " \n",
    "outputs = tf.keras.layers.Conv2D(3, (1, 1), activation='sigmoid')(c9)\n",
    " \n",
    "model = tf.keras.Model(inputs=[inputs], outputs=[outputs])"
   ]
  },
  {
   "cell_type": "code",
   "execution_count": 23,
   "metadata": {},
   "outputs": [
    {
     "name": "stdout",
     "output_type": "stream",
     "text": [
      "WARNING:tensorflow:From /home/ai-students/newfairseq/lib/python3.6/site-packages/tensorflow/python/ops/nn_impl.py:180: add_dispatch_support.<locals>.wrapper (from tensorflow.python.ops.array_ops) is deprecated and will be removed in a future version.\n",
      "Instructions for updating:\n",
      "Use tf.where in 2.0, which has the same broadcast rule as np.where\n"
     ]
    }
   ],
   "source": [
    "model.compile(optimizer='adam', loss='binary_crossentropy', metrics=['accuracy'])"
   ]
  },
  {
   "cell_type": "code",
   "execution_count": 24,
   "metadata": {},
   "outputs": [
    {
     "name": "stdout",
     "output_type": "stream",
     "text": [
      "Model: \"model\"\n",
      "__________________________________________________________________________________________________\n",
      "Layer (type)                    Output Shape         Param #     Connected to                     \n",
      "==================================================================================================\n",
      "input_1 (InputLayer)            [(None, 128, 128, 3) 0                                            \n",
      "__________________________________________________________________________________________________\n",
      "lambda (Lambda)                 (None, 128, 128, 3)  0           input_1[0][0]                    \n",
      "__________________________________________________________________________________________________\n",
      "conv2d (Conv2D)                 (None, 128, 128, 16) 448         lambda[0][0]                     \n",
      "__________________________________________________________________________________________________\n",
      "dropout (Dropout)               (None, 128, 128, 16) 0           conv2d[0][0]                     \n",
      "__________________________________________________________________________________________________\n",
      "conv2d_1 (Conv2D)               (None, 128, 128, 16) 2320        dropout[0][0]                    \n",
      "__________________________________________________________________________________________________\n",
      "max_pooling2d (MaxPooling2D)    (None, 64, 64, 16)   0           conv2d_1[0][0]                   \n",
      "__________________________________________________________________________________________________\n",
      "conv2d_2 (Conv2D)               (None, 64, 64, 32)   4640        max_pooling2d[0][0]              \n",
      "__________________________________________________________________________________________________\n",
      "dropout_1 (Dropout)             (None, 64, 64, 32)   0           conv2d_2[0][0]                   \n",
      "__________________________________________________________________________________________________\n",
      "conv2d_3 (Conv2D)               (None, 64, 64, 32)   9248        dropout_1[0][0]                  \n",
      "__________________________________________________________________________________________________\n",
      "max_pooling2d_1 (MaxPooling2D)  (None, 32, 32, 32)   0           conv2d_3[0][0]                   \n",
      "__________________________________________________________________________________________________\n",
      "conv2d_4 (Conv2D)               (None, 32, 32, 64)   18496       max_pooling2d_1[0][0]            \n",
      "__________________________________________________________________________________________________\n",
      "dropout_2 (Dropout)             (None, 32, 32, 64)   0           conv2d_4[0][0]                   \n",
      "__________________________________________________________________________________________________\n",
      "conv2d_5 (Conv2D)               (None, 32, 32, 64)   36928       dropout_2[0][0]                  \n",
      "__________________________________________________________________________________________________\n",
      "max_pooling2d_2 (MaxPooling2D)  (None, 16, 16, 64)   0           conv2d_5[0][0]                   \n",
      "__________________________________________________________________________________________________\n",
      "conv2d_6 (Conv2D)               (None, 16, 16, 128)  73856       max_pooling2d_2[0][0]            \n",
      "__________________________________________________________________________________________________\n",
      "dropout_3 (Dropout)             (None, 16, 16, 128)  0           conv2d_6[0][0]                   \n",
      "__________________________________________________________________________________________________\n",
      "conv2d_7 (Conv2D)               (None, 16, 16, 128)  147584      dropout_3[0][0]                  \n",
      "__________________________________________________________________________________________________\n",
      "max_pooling2d_3 (MaxPooling2D)  (None, 8, 8, 128)    0           conv2d_7[0][0]                   \n",
      "__________________________________________________________________________________________________\n",
      "conv2d_8 (Conv2D)               (None, 8, 8, 256)    295168      max_pooling2d_3[0][0]            \n",
      "__________________________________________________________________________________________________\n",
      "dropout_4 (Dropout)             (None, 8, 8, 256)    0           conv2d_8[0][0]                   \n",
      "__________________________________________________________________________________________________\n",
      "conv2d_9 (Conv2D)               (None, 8, 8, 256)    590080      dropout_4[0][0]                  \n",
      "__________________________________________________________________________________________________\n",
      "conv2d_transpose (Conv2DTranspo (None, 16, 16, 128)  131200      conv2d_9[0][0]                   \n",
      "__________________________________________________________________________________________________\n",
      "concatenate (Concatenate)       (None, 16, 16, 256)  0           conv2d_transpose[0][0]           \n",
      "                                                                 conv2d_7[0][0]                   \n",
      "__________________________________________________________________________________________________\n",
      "conv2d_10 (Conv2D)              (None, 16, 16, 128)  295040      concatenate[0][0]                \n",
      "__________________________________________________________________________________________________\n",
      "dropout_5 (Dropout)             (None, 16, 16, 128)  0           conv2d_10[0][0]                  \n",
      "__________________________________________________________________________________________________\n",
      "conv2d_11 (Conv2D)              (None, 16, 16, 128)  147584      dropout_5[0][0]                  \n",
      "__________________________________________________________________________________________________\n",
      "conv2d_transpose_1 (Conv2DTrans (None, 32, 32, 64)   32832       conv2d_11[0][0]                  \n",
      "__________________________________________________________________________________________________\n",
      "concatenate_1 (Concatenate)     (None, 32, 32, 128)  0           conv2d_transpose_1[0][0]         \n",
      "                                                                 conv2d_5[0][0]                   \n",
      "__________________________________________________________________________________________________\n",
      "conv2d_12 (Conv2D)              (None, 32, 32, 64)   73792       concatenate_1[0][0]              \n",
      "__________________________________________________________________________________________________\n",
      "dropout_6 (Dropout)             (None, 32, 32, 64)   0           conv2d_12[0][0]                  \n",
      "__________________________________________________________________________________________________\n",
      "conv2d_13 (Conv2D)              (None, 32, 32, 64)   36928       dropout_6[0][0]                  \n",
      "__________________________________________________________________________________________________\n",
      "conv2d_transpose_2 (Conv2DTrans (None, 64, 64, 32)   8224        conv2d_13[0][0]                  \n",
      "__________________________________________________________________________________________________\n",
      "concatenate_2 (Concatenate)     (None, 64, 64, 64)   0           conv2d_transpose_2[0][0]         \n",
      "                                                                 conv2d_3[0][0]                   \n",
      "__________________________________________________________________________________________________\n",
      "conv2d_14 (Conv2D)              (None, 64, 64, 32)   18464       concatenate_2[0][0]              \n",
      "__________________________________________________________________________________________________\n",
      "dropout_7 (Dropout)             (None, 64, 64, 32)   0           conv2d_14[0][0]                  \n",
      "__________________________________________________________________________________________________\n",
      "conv2d_15 (Conv2D)              (None, 64, 64, 32)   9248        dropout_7[0][0]                  \n",
      "__________________________________________________________________________________________________\n",
      "conv2d_transpose_3 (Conv2DTrans (None, 128, 128, 16) 2064        conv2d_15[0][0]                  \n",
      "__________________________________________________________________________________________________\n",
      "concatenate_3 (Concatenate)     (None, 128, 128, 32) 0           conv2d_transpose_3[0][0]         \n",
      "                                                                 conv2d_1[0][0]                   \n",
      "__________________________________________________________________________________________________\n",
      "conv2d_16 (Conv2D)              (None, 128, 128, 16) 4624        concatenate_3[0][0]              \n",
      "__________________________________________________________________________________________________\n",
      "dropout_8 (Dropout)             (None, 128, 128, 16) 0           conv2d_16[0][0]                  \n",
      "__________________________________________________________________________________________________\n",
      "conv2d_17 (Conv2D)              (None, 128, 128, 16) 2320        dropout_8[0][0]                  \n",
      "__________________________________________________________________________________________________\n",
      "conv2d_18 (Conv2D)              (None, 128, 128, 1)  17          conv2d_17[0][0]                  \n",
      "==================================================================================================\n",
      "Total params: 1,941,105\n",
      "Trainable params: 1,941,105\n",
      "Non-trainable params: 0\n",
      "__________________________________________________________________________________________________\n"
     ]
    }
   ],
   "source": [
    "model.summary()"
   ]
  },
  {
   "cell_type": "code",
   "execution_count": 25,
   "metadata": {},
   "outputs": [
    {
     "name": "stdout",
     "output_type": "stream",
     "text": [
      "Train on 540 samples, validate on 61 samples\n",
      "Epoch 1/25\n",
      "540/540 [==============================] - 26s 48ms/sample - loss: 0.4279 - acc: 0.8652 - val_loss: 0.3632 - val_acc: 0.9115\n",
      "Epoch 2/25\n",
      "540/540 [==============================] - 24s 44ms/sample - loss: 0.3242 - acc: 0.9109 - val_loss: 0.3104 - val_acc: 0.9115\n",
      "Epoch 3/25\n",
      "540/540 [==============================] - 24s 44ms/sample - loss: 0.2875 - acc: 0.9109 - val_loss: 0.2744 - val_acc: 0.9115\n",
      "Epoch 4/25\n",
      "540/540 [==============================] - 24s 44ms/sample - loss: 0.2644 - acc: 0.9109 - val_loss: 0.2700 - val_acc: 0.9115\n",
      "Epoch 5/25\n",
      "540/540 [==============================] - 24s 44ms/sample - loss: 0.2532 - acc: 0.9109 - val_loss: 0.2505 - val_acc: 0.9115\n",
      "Epoch 6/25\n",
      "540/540 [==============================] - 24s 44ms/sample - loss: 0.2406 - acc: 0.9110 - val_loss: 0.2451 - val_acc: 0.9115\n",
      "Epoch 7/25\n",
      "540/540 [==============================] - 24s 44ms/sample - loss: 0.2273 - acc: 0.9123 - val_loss: 0.2384 - val_acc: 0.9133\n",
      "Epoch 8/25\n",
      "540/540 [==============================] - 24s 44ms/sample - loss: 0.2272 - acc: 0.9160 - val_loss: 0.2291 - val_acc: 0.9198\n",
      "Epoch 9/25\n",
      "540/540 [==============================] - 24s 44ms/sample - loss: 0.2344 - acc: 0.9189 - val_loss: 0.2322 - val_acc: 0.9216\n",
      "Epoch 10/25\n",
      "540/540 [==============================] - 24s 44ms/sample - loss: 0.2188 - acc: 0.9213 - val_loss: 0.2338 - val_acc: 0.9219\n"
     ]
    }
   ],
   "source": [
    "#Modelcheckpoint\n",
    "checkpointer = tf.keras.callbacks.ModelCheckpoint('model_for_nuclei.h5', verbose=1, save_best_only=True)\n",
    "\n",
    "callbacks = [\n",
    "        tf.keras.callbacks.EarlyStopping(patience=2, monitor='val_loss'),\n",
    "        tf.keras.callbacks.TensorBoard(log_dir='logs')]\n",
    "\n",
    "results = model.fit(X_train, Y_train, validation_split=0.1, batch_size=16, epochs=25, callbacks=callbacks)"
   ]
  },
  {
   "cell_type": "code",
   "execution_count": 26,
   "metadata": {},
   "outputs": [
    {
     "name": "stdout",
     "output_type": "stream",
     "text": [
      "540/540 [==============================] - 4s 7ms/sample\n",
      "61/61 [==============================] - 0s 7ms/sample\n",
      "151/151 [==============================] - 1s 7ms/sample\n"
     ]
    }
   ],
   "source": [
    "\n",
    "preds_train = model.predict(X_train[:int(X_train.shape[0]*0.9)], verbose=1)\n",
    "preds_val = model.predict(X_train[int(X_train.shape[0]*0.9):], verbose=1)\n",
    "preds_test = model.predict(X_test, verbose=1)\n",
    "\n",
    " \n",
    "preds_train_t = (preds_train > 0.5).astype(np.uint8)\n",
    "preds_val_t = (preds_val > 0.5).astype(np.uint8)\n",
    "preds_test_t = (preds_test > 0.5).astype(np.uint8)\n"
   ]
  },
  {
   "cell_type": "code",
   "execution_count": 27,
   "metadata": {},
   "outputs": [
    {
     "data": {
      "image/png": "[encoded data removed]",
      "text/plain": [
       "<Figure size 432x288 with 1 Axes>"
      ]
     },
     "metadata": {
      "needs_background": "light"
     },
     "output_type": "display_data"
    },
    {
     "data": {
      "image/png": "[encoded data removed]",
      "text/plain": [
       "<Figure size 432x288 with 1 Axes>"
      ]
     },
     "metadata": {
      "needs_background": "light"
     },
     "output_type": "display_data"
    },
    {
     "name": "stderr",
     "output_type": "stream",
     "text": [
      "/home/ai-students/newfairseq/lib/python3.6/site-packages/skimage/io/_plugins/matplotlib_plugin.py:150: UserWarning: Low image data range; displaying image with stretched contrast.\n",
      "  lo, hi, cmap = _get_display_range(image)\n"
     ]
    },
    {
     "data": {
      "image/png": "[encoded data removed]",
      "text/plain": [
       "<Figure size 432x288 with 2 Axes>"
      ]
     },
     "metadata": {
      "needs_background": "light"
     },
     "output_type": "display_data"
    }
   ],
   "source": [
    "\n",
    "# Perform a sanity check on some random training samples\n",
    "ix = random.randint(0, len(preds_train_t))\n",
    "imshow(X_train[ix])\n",
    "plt.show()\n",
    "imshow(np.squeeze(Y_train[ix]))\n",
    "plt.show()\n",
    "imshow(np.squeeze(preds_train_t[ix]))\n",
    "plt.show()"
   ]
  },
  {
   "cell_type": "code",
   "execution_count": 28,
   "metadata": {},
   "outputs": [
    {
     "data": {
      "image/png": "[encoded data removed]",
      "text/plain": [
       "<Figure size 432x288 with 1 Axes>"
      ]
     },
     "metadata": {
      "needs_background": "light"
     },
     "output_type": "display_data"
    },
    {
     "data": {
      "image/png": "[encoded data removed]",
      "text/plain": [
       "<Figure size 432x288 with 1 Axes>"
      ]
     },
     "metadata": {
      "needs_background": "light"
     },
     "output_type": "display_data"
    },
    {
     "data": {
      "image/png": "[encoded data removed]",
      "text/plain": [
       "<Figure size 432x288 with 2 Axes>"
      ]
     },
     "metadata": {
      "needs_background": "light"
     },
     "output_type": "display_data"
    }
   ],
   "source": [
    "\n",
    "# Perform a sanity check on some random validation samples\n",
    "ix = random.randint(0, len(preds_val_t))\n",
    "imshow(X_train[int(X_train.shape[0]*0.9):][ix])\n",
    "plt.show()\n",
    "imshow(np.squeeze(Y_train[int(Y_train.shape[0]*0.9):][ix]))\n",
    "plt.show()\n",
    "imshow(np.squeeze(preds_val_t[ix]))\n",
    "plt.show()"
   ]
  },
  {
   "cell_type": "code",
   "execution_count": 34,
   "metadata": {},
   "outputs": [
    {
     "data": {
      "image/png": "[encoded data removed]",
      "text/plain": [
       "<Figure size 432x288 with 1 Axes>"
      ]
     },
     "metadata": {
      "needs_background": "light"
     },
     "output_type": "display_data"
    },
    {
     "data": {
      "image/png": "[encoded data removed]",
      "text/plain": [
       "<Figure size 432x288 with 2 Axes>"
      ]
     },
     "metadata": {
      "needs_background": "light"
     },
     "output_type": "display_data"
    }
   ],
   "source": [
    "\n",
    "# Perform a sanity check on some random validation samples\n",
    "ix = random.randint(0, len(preds_test_t))\n",
    "imshow(X_train[int(X_test.shape[0]*0.9):][ix])\n",
    "plt.show()\n",
    "#imshow(np.squeeze(Y_train[int(Y_train.shape[0]*0.9):][ix]))\n",
    "#plt.show()\n",
    "imshow(np.squeeze(preds_test_t[ix]))\n",
    "plt.show()"
   ]
  },
  {
   "cell_type": "code",
   "execution_count": null,
   "metadata": {},
   "outputs": [],
   "source": []
  },
  {
   "cell_type": "markdown",
   "metadata": {},
   "source": [
    "# ### checking for masks to have 3 channels"
   ]
  },
  {
   "cell_type": "code",
   "execution_count": 29,
   "metadata": {},
   "outputs": [],
   "source": [
    "X_train2 = np.zeros((len(train_id), IMG_HEIGHT, IMG_WIDTH, IMG_CHANNELS), dtype=np.uint8)\n",
    "Y_train2 = np.zeros((len(train_id), IMG_HEIGHT, IMG_WIDTH, 3), dtype=np.uint8)"
   ]
  },
  {
   "cell_type": "code",
   "execution_count": 30,
   "metadata": {},
   "outputs": [
    {
     "name": "stderr",
     "output_type": "stream",
     "text": [
      "  1%|          | 4/601 [00:00<00:17, 33.23it/s]"
     ]
    },
    {
     "name": "stdout",
     "output_type": "stream",
     "text": [
      "annotations_train/image_1008.png\n",
      "annotations_train/image_0976.png\n",
      "annotations_train/image_0470.png\n",
      "annotations_train/image_0355.png\n",
      "annotations_train/image_0566.png\n",
      "annotations_train/image_0990.png\n",
      "annotations_train/image_0521.png\n",
      "annotations_train/image_0589.png\n"
     ]
    },
    {
     "name": "stderr",
     "output_type": "stream",
     "text": [
      "  2%|▏         | 13/601 [00:00<00:16, 36.48it/s]"
     ]
    },
    {
     "name": "stdout",
     "output_type": "stream",
     "text": [
      "annotations_train/image_0345.png\n",
      "annotations_train/image_1033.png\n",
      "annotations_train/image_0474.png\n",
      "annotations_train/image_1139.png\n",
      "annotations_train/image_0507.png\n",
      "annotations_train/image_0688.png\n",
      "annotations_train/image_0837.png\n",
      "annotations_train/image_0762.png\n",
      "annotations_train/image_0984.png\n"
     ]
    },
    {
     "name": "stderr",
     "output_type": "stream",
     "text": [
      "  4%|▎         | 22/601 [00:00<00:15, 38.23it/s]"
     ]
    },
    {
     "name": "stdout",
     "output_type": "stream",
     "text": [
      "annotations_train/image_0892.png\n",
      "annotations_train/image_0747.png\n",
      "annotations_train/image_0486.png\n",
      "annotations_train/image_0438.png\n",
      "annotations_train/image_0069.png\n",
      "annotations_train/image_0021.png\n",
      "annotations_train/image_0549.png\n",
      "annotations_train/image_0844.png\n"
     ]
    },
    {
     "name": "stderr",
     "output_type": "stream",
     "text": [
      "  5%|▌         | 31/601 [00:00<00:14, 38.34it/s]"
     ]
    },
    {
     "name": "stdout",
     "output_type": "stream",
     "text": [
      "annotations_train/image_0330.png\n",
      "annotations_train/image_0007.png\n",
      "annotations_train/image_0894.png\n",
      "annotations_train/image_0062.png\n",
      "annotations_train/image_0750.png\n",
      "annotations_train/image_0580.png\n",
      "annotations_train/image_0061.png\n",
      "annotations_train/image_0324.png\n"
     ]
    },
    {
     "name": "stderr",
     "output_type": "stream",
     "text": [
      "  7%|▋         | 41/601 [00:01<00:13, 40.40it/s]"
     ]
    },
    {
     "name": "stdout",
     "output_type": "stream",
     "text": [
      "annotations_train/image_0912.png\n",
      "annotations_train/image_0456.png\n",
      "annotations_train/image_0364.png\n",
      "annotations_train/image_0814.png\n",
      "annotations_train/image_0420.png\n",
      "annotations_train/image_0885.png\n",
      "annotations_train/image_0414.png\n",
      "annotations_train/image_0052.png\n",
      "annotations_train/image_0573.png\n"
     ]
    },
    {
     "name": "stderr",
     "output_type": "stream",
     "text": [
      "  8%|▊         | 49/601 [00:01<00:14, 39.08it/s]"
     ]
    },
    {
     "name": "stdout",
     "output_type": "stream",
     "text": [
      "annotations_train/image_0927.png\n",
      "annotations_train/image_0986.png\n",
      "annotations_train/image_1035.png\n",
      "annotations_train/image_0565.png\n",
      "annotations_train/image_0854.png\n",
      "annotations_train/image_0817.png\n",
      "annotations_train/image_0374.png\n",
      "annotations_train/image_0913.png\n"
     ]
    },
    {
     "name": "stderr",
     "output_type": "stream",
     "text": [
      "\r",
      "  9%|▉         | 53/601 [00:01<00:14, 38.04it/s]"
     ]
    },
    {
     "name": "stdout",
     "output_type": "stream",
     "text": [
      "annotations_train/image_0070.png\n",
      "annotations_train/image_0561.png\n",
      "annotations_train/image_0775.png\n",
      "annotations_train/image_0704.png\n",
      "annotations_train/image_0409.png\n",
      "annotations_train/image_0915.png\n",
      "annotations_train/image_0979.png\n",
      "annotations_train/image_1006.png\n"
     ]
    },
    {
     "name": "stderr",
     "output_type": "stream",
     "text": [
      " 10%|█         | 62/601 [00:01<00:14, 37.96it/s]"
     ]
    },
    {
     "name": "stdout",
     "output_type": "stream",
     "text": [
      "annotations_train/image_0008.png\n",
      "annotations_train/image_0672.png\n",
      "annotations_train/image_0530.png\n",
      "annotations_train/image_0492.png\n",
      "annotations_train/image_0744.png\n",
      "annotations_train/image_0888.png\n",
      "annotations_train/image_0608.png\n",
      "annotations_train/image_0781.png\n"
     ]
    },
    {
     "name": "stderr",
     "output_type": "stream",
     "text": [
      " 12%|█▏        | 72/601 [00:01<00:13, 39.29it/s]"
     ]
    },
    {
     "name": "stdout",
     "output_type": "stream",
     "text": [
      "annotations_train/image_0676.png\n",
      "annotations_train/image_0377.png\n",
      "annotations_train/image_0463.png\n",
      "annotations_train/image_0472.png\n",
      "annotations_train/image_0408.png\n",
      "annotations_train/image_0372.png\n",
      "annotations_train/image_1126.png\n",
      "annotations_train/image_0673.png\n"
     ]
    },
    {
     "name": "stderr",
     "output_type": "stream",
     "text": [
      " 13%|█▎        | 80/601 [00:02<00:14, 35.35it/s]"
     ]
    },
    {
     "name": "stdout",
     "output_type": "stream",
     "text": [
      "annotations_train/image_0974.png\n",
      "annotations_train/image_0918.png\n",
      "annotations_train/image_0745.png\n",
      "annotations_train/image_0043.png\n",
      "annotations_train/image_0033.png\n",
      "annotations_train/image_0350.png\n",
      "annotations_train/image_0503.png\n"
     ]
    },
    {
     "name": "stderr",
     "output_type": "stream",
     "text": [
      " 15%|█▍        | 88/601 [00:02<00:14, 36.12it/s]"
     ]
    },
    {
     "name": "stdout",
     "output_type": "stream",
     "text": [
      "annotations_train/image_0579.png\n",
      "annotations_train/image_0656.png\n",
      "annotations_train/image_1142.png\n",
      "annotations_train/image_0709.png\n",
      "annotations_train/image_0969.png\n",
      "annotations_train/image_0458.png\n",
      "annotations_train/image_0451.png\n",
      "annotations_train/image_0449.png\n"
     ]
    },
    {
     "name": "stderr",
     "output_type": "stream",
     "text": [
      " 16%|█▌        | 97/601 [00:02<00:13, 37.93it/s]"
     ]
    },
    {
     "name": "stdout",
     "output_type": "stream",
     "text": [
      "annotations_train/image_0493.png\n",
      "annotations_train/image_0866.png\n",
      "annotations_train/image_0072.png\n",
      "annotations_train/image_0327.png\n",
      "annotations_train/image_0650.png\n",
      "annotations_train/image_0678.png\n",
      "annotations_train/image_0824.png\n",
      "annotations_train/image_0789.png\n",
      "annotations_train/image_0375.png\n"
     ]
    },
    {
     "name": "stderr",
     "output_type": "stream",
     "text": [
      " 17%|█▋        | 105/601 [00:02<00:13, 37.99it/s]"
     ]
    },
    {
     "name": "stdout",
     "output_type": "stream",
     "text": [
      "annotations_train/image_0997.png\n",
      "annotations_train/image_0647.png\n",
      "annotations_train/image_0698.png\n",
      "annotations_train/image_0679.png\n",
      "annotations_train/image_0416.png\n",
      "annotations_train/image_0005.png\n",
      "annotations_train/image_0562.png\n",
      "annotations_train/image_0443.png\n"
     ]
    },
    {
     "name": "stderr",
     "output_type": "stream",
     "text": [
      " 19%|█▉        | 113/601 [00:02<00:13, 37.49it/s]"
     ]
    },
    {
     "name": "stdout",
     "output_type": "stream",
     "text": [
      "annotations_train/image_0759.png\n",
      "annotations_train/image_0343.png\n",
      "annotations_train/image_0728.png\n",
      "annotations_train/image_0488.png\n",
      "annotations_train/image_1140.png\n",
      "annotations_train/image_0584.png\n",
      "annotations_train/image_0830.png\n",
      "annotations_train/image_0761.png\n"
     ]
    },
    {
     "name": "stderr",
     "output_type": "stream",
     "text": [
      " 20%|██        | 121/601 [00:03<00:12, 38.60it/s]"
     ]
    },
    {
     "name": "stdout",
     "output_type": "stream",
     "text": [
      "annotations_train/image_0480.png\n",
      "annotations_train/image_0049.png\n",
      "annotations_train/image_0462.png\n",
      "annotations_train/image_0909.png\n",
      "annotations_train/image_0026.png\n",
      "annotations_train/image_0890.png\n",
      "annotations_train/image_0004.png\n",
      "annotations_train/image_0347.png\n"
     ]
    },
    {
     "name": "stderr",
     "output_type": "stream",
     "text": [
      " 22%|██▏       | 130/601 [00:03<00:12, 39.07it/s]"
     ]
    },
    {
     "name": "stdout",
     "output_type": "stream",
     "text": [
      "annotations_train/image_0950.png\n",
      "annotations_train/image_0928.png\n",
      "annotations_train/image_0897.png\n",
      "annotations_train/image_0526.png\n",
      "annotations_train/image_0510.png\n",
      "annotations_train/image_0763.png\n",
      "annotations_train/image_0497.png\n",
      "annotations_train/image_0511.png\n",
      "annotations_train/image_0813.png\n"
     ]
    },
    {
     "name": "stderr",
     "output_type": "stream",
     "text": [
      " 23%|██▎       | 138/601 [00:03<00:13, 34.76it/s]"
     ]
    },
    {
     "name": "stdout",
     "output_type": "stream",
     "text": [
      "annotations_train/image_0006.png\n",
      "annotations_train/image_0053.png\n",
      "annotations_train/image_0727.png\n",
      "annotations_train/image_0836.png\n",
      "annotations_train/image_0634.png\n",
      "annotations_train/image_0412.png\n",
      "annotations_train/image_0496.png\n",
      "annotations_train/image_1131.png\n"
     ]
    },
    {
     "name": "stderr",
     "output_type": "stream",
     "text": [
      "\r",
      " 24%|██▍       | 143/601 [00:03<00:12, 36.28it/s]"
     ]
    },
    {
     "name": "stdout",
     "output_type": "stream",
     "text": [
      "annotations_train/image_0454.png\n",
      "annotations_train/image_0700.png\n",
      "annotations_train/image_0807.png\n",
      "annotations_train/image_0044.png\n",
      "annotations_train/image_0964.png\n",
      "annotations_train/image_0597.png\n",
      "annotations_train/image_0572.png\n",
      "annotations_train/image_0843.png\n"
     ]
    },
    {
     "name": "stderr",
     "output_type": "stream",
     "text": [
      " 25%|██▌       | 151/601 [00:04<00:13, 34.02it/s]"
     ]
    },
    {
     "name": "stdout",
     "output_type": "stream",
     "text": [
      "annotations_train/image_0933.png\n",
      "annotations_train/image_0439.png\n",
      "annotations_train/image_0659.png\n",
      "annotations_train/image_0487.png\n",
      "annotations_train/image_1122.png\n",
      "annotations_train/image_1136.png\n",
      "annotations_train/image_0919.png\n"
     ]
    },
    {
     "name": "stderr",
     "output_type": "stream",
     "text": [
      " 26%|██▋       | 159/601 [00:04<00:13, 32.57it/s]"
     ]
    },
    {
     "name": "stdout",
     "output_type": "stream",
     "text": [
      "annotations_train/image_0455.png\n",
      "annotations_train/image_0512.png\n",
      "annotations_train/image_0352.png\n",
      "annotations_train/image_0735.png\n",
      "annotations_train/image_0816.png\n",
      "annotations_train/image_0822.png\n",
      "annotations_train/image_0848.png\n",
      "annotations_train/image_0037.png\n"
     ]
    },
    {
     "name": "stderr",
     "output_type": "stream",
     "text": [
      " 28%|██▊       | 168/601 [00:04<00:12, 34.56it/s]"
     ]
    },
    {
     "name": "stdout",
     "output_type": "stream",
     "text": [
      "annotations_train/image_0996.png\n",
      "annotations_train/image_1009.png\n",
      "annotations_train/image_0849.png\n",
      "annotations_train/image_0525.png\n",
      "annotations_train/image_0368.png\n",
      "annotations_train/image_0833.png\n",
      "annotations_train/image_0056.png\n",
      "annotations_train/image_0961.png\n"
     ]
    },
    {
     "name": "stderr",
     "output_type": "stream",
     "text": [
      " 29%|██▉       | 176/601 [00:04<00:11, 35.66it/s]"
     ]
    },
    {
     "name": "stdout",
     "output_type": "stream",
     "text": [
      "annotations_train/image_0965.png\n",
      "annotations_train/image_0002.png\n",
      "annotations_train/image_0034.png\n",
      "annotations_train/image_0686.png\n",
      "annotations_train/image_0917.png\n",
      "annotations_train/image_0687.png\n",
      "annotations_train/image_0734.png\n",
      "annotations_train/image_0484.png\n"
     ]
    },
    {
     "name": "stderr",
     "output_type": "stream",
     "text": [
      " 31%|███       | 184/601 [00:04<00:11, 36.96it/s]"
     ]
    },
    {
     "name": "stdout",
     "output_type": "stream",
     "text": [
      "annotations_train/image_0677.png\n",
      "annotations_train/image_0430.png\n",
      "annotations_train/image_0675.png\n",
      "annotations_train/image_0777.png\n",
      "annotations_train/image_0839.png\n",
      "annotations_train/image_0596.png\n",
      "annotations_train/image_0718.png\n",
      "annotations_train/image_1124.png\n"
     ]
    },
    {
     "name": "stderr",
     "output_type": "stream",
     "text": [
      " 32%|███▏      | 192/601 [00:05<00:11, 36.77it/s]"
     ]
    },
    {
     "name": "stdout",
     "output_type": "stream",
     "text": [
      "annotations_train/image_0692.png\n",
      "annotations_train/image_0995.png\n",
      "annotations_train/image_0693.png\n",
      "annotations_train/image_0973.png\n",
      "annotations_train/image_0467.png\n",
      "annotations_train/image_0437.png\n",
      "annotations_train/image_0452.png\n",
      "annotations_train/image_0079.png\n"
     ]
    },
    {
     "name": "stderr",
     "output_type": "stream",
     "text": [
      "\r",
      " 33%|███▎      | 196/601 [00:05<00:12, 32.70it/s]"
     ]
    },
    {
     "name": "stdout",
     "output_type": "stream",
     "text": [
      "annotations_train/image_0401.png\n",
      "annotations_train/image_0671.png\n",
      "annotations_train/image_0598.png\n",
      "annotations_train/image_0934.png\n",
      "annotations_train/image_0815.png\n",
      "annotations_train/image_0481.png\n"
     ]
    },
    {
     "name": "stderr",
     "output_type": "stream",
     "text": [
      " 34%|███▍      | 204/601 [00:05<00:11, 34.36it/s]"
     ]
    },
    {
     "name": "stdout",
     "output_type": "stream",
     "text": [
      "annotations_train/image_0758.png\n",
      "annotations_train/image_0444.png\n",
      "annotations_train/image_0764.png\n",
      "annotations_train/image_0058.png\n",
      "annotations_train/image_0766.png\n",
      "annotations_train/image_1001.png\n"
     ]
    },
    {
     "name": "stderr",
     "output_type": "stream",
     "text": [
      " 35%|███▌      | 213/601 [00:05<00:11, 34.84it/s]"
     ]
    },
    {
     "name": "stdout",
     "output_type": "stream",
     "text": [
      "annotations_train/image_0654.png\n",
      "annotations_train/image_0842.png\n",
      "annotations_train/image_0068.png\n",
      "annotations_train/image_0010.png\n",
      "annotations_train/image_0336.png\n",
      "annotations_train/image_0403.png\n",
      "annotations_train/image_0471.png\n",
      "annotations_train/image_0057.png\n",
      "annotations_train/image_0065.png\n"
     ]
    },
    {
     "name": "stderr",
     "output_type": "stream",
     "text": [
      " 37%|███▋      | 221/601 [00:06<00:10, 34.55it/s]"
     ]
    },
    {
     "name": "stdout",
     "output_type": "stream",
     "text": [
      "annotations_train/image_0660.png\n",
      "annotations_train/image_0587.png\n",
      "annotations_train/image_0774.png\n",
      "annotations_train/image_0504.png\n",
      "annotations_train/image_0999.png\n",
      "annotations_train/image_0351.png\n",
      "annotations_train/image_0753.png\n",
      "annotations_train/image_0417.png\n"
     ]
    },
    {
     "name": "stderr",
     "output_type": "stream",
     "text": [
      " 38%|███▊      | 229/601 [00:06<00:10, 35.48it/s]"
     ]
    },
    {
     "name": "stdout",
     "output_type": "stream",
     "text": [
      "annotations_train/image_0896.png\n",
      "annotations_train/image_0736.png\n",
      "annotations_train/image_0731.png\n",
      "annotations_train/image_0884.png\n",
      "annotations_train/image_0529.png\n",
      "annotations_train/image_0906.png\n",
      "annotations_train/image_0418.png\n"
     ]
    },
    {
     "name": "stderr",
     "output_type": "stream",
     "text": [
      "\r",
      " 39%|███▉      | 233/601 [00:06<00:10, 34.96it/s]"
     ]
    },
    {
     "name": "stdout",
     "output_type": "stream",
     "text": [
      "annotations_train/image_1135.png\n",
      "annotations_train/image_0755.png\n",
      "annotations_train/image_0664.png\n",
      "annotations_train/image_0811.png\n",
      "annotations_train/image_0802.png\n",
      "annotations_train/image_0883.png\n",
      "annotations_train/image_0335.png\n"
     ]
    },
    {
     "name": "stderr",
     "output_type": "stream",
     "text": [
      " 40%|████      | 241/601 [00:06<00:10, 33.20it/s]"
     ]
    },
    {
     "name": "stdout",
     "output_type": "stream",
     "text": [
      "annotations_train/image_0410.png\n",
      "annotations_train/image_0966.png\n",
      "annotations_train/image_0609.png\n",
      "annotations_train/image_0048.png\n",
      "annotations_train/image_0703.png\n",
      "annotations_train/image_0003.png\n"
     ]
    },
    {
     "name": "stderr",
     "output_type": "stream",
     "text": [
      " 41%|████▏     | 249/601 [00:06<00:10, 32.92it/s]"
     ]
    },
    {
     "name": "stdout",
     "output_type": "stream",
     "text": [
      "annotations_train/image_0943.png\n",
      "annotations_train/image_0508.png\n",
      "annotations_train/image_0585.png\n",
      "annotations_train/image_0045.png\n",
      "annotations_train/image_0517.png\n",
      "annotations_train/image_0465.png\n",
      "annotations_train/image_0991.png\n",
      "annotations_train/image_0337.png\n"
     ]
    },
    {
     "name": "stderr",
     "output_type": "stream",
     "text": [
      " 43%|████▎     | 258/601 [00:07<00:09, 35.77it/s]"
     ]
    },
    {
     "name": "stdout",
     "output_type": "stream",
     "text": [
      "annotations_train/image_0078.png\n",
      "annotations_train/image_0328.png\n",
      "annotations_train/image_0338.png\n",
      "annotations_train/image_0741.png\n",
      "annotations_train/image_0018.png\n",
      "annotations_train/image_0524.png\n",
      "annotations_train/image_0901.png\n",
      "annotations_train/image_0434.png\n",
      "annotations_train/image_0968.png\n"
     ]
    },
    {
     "name": "stderr",
     "output_type": "stream",
     "text": [
      " 44%|████▍     | 267/601 [00:07<00:08, 37.99it/s]"
     ]
    },
    {
     "name": "stdout",
     "output_type": "stream",
     "text": [
      "annotations_train/image_0028.png\n",
      "annotations_train/image_0682.png\n",
      "annotations_train/image_0590.png\n",
      "annotations_train/image_0729.png\n",
      "annotations_train/image_0905.png\n",
      "annotations_train/image_1134.png\n",
      "annotations_train/image_0803.png\n",
      "annotations_train/image_0473.png\n",
      "annotations_train/image_1032.png\n"
     ]
    },
    {
     "name": "stderr",
     "output_type": "stream",
     "text": [
      " 46%|████▌     | 276/601 [00:07<00:08, 39.22it/s]"
     ]
    },
    {
     "name": "stdout",
     "output_type": "stream",
     "text": [
      "annotations_train/image_0022.png\n",
      "annotations_train/image_0799.png\n",
      "annotations_train/image_0064.png\n",
      "annotations_train/image_0832.png\n",
      "annotations_train/image_0663.png\n",
      "annotations_train/image_0646.png\n",
      "annotations_train/image_0013.png\n",
      "annotations_train/image_0509.png\n",
      "annotations_train/image_0325.png\n"
     ]
    },
    {
     "name": "stderr",
     "output_type": "stream",
     "text": [
      " 47%|████▋     | 285/601 [00:07<00:07, 39.56it/s]"
     ]
    },
    {
     "name": "stdout",
     "output_type": "stream",
     "text": [
      "annotations_train/image_0751.png\n",
      "annotations_train/image_0829.png\n",
      "annotations_train/image_0972.png\n",
      "annotations_train/image_0967.png\n",
      "annotations_train/image_0604.png\n",
      "annotations_train/image_1133.png\n",
      "annotations_train/image_0798.png\n",
      "annotations_train/image_0821.png\n"
     ]
    },
    {
     "name": "stderr",
     "output_type": "stream",
     "text": [
      " 49%|████▉     | 293/601 [00:07<00:07, 39.45it/s]"
     ]
    },
    {
     "name": "stdout",
     "output_type": "stream",
     "text": [
      "annotations_train/image_0993.png\n",
      "annotations_train/image_0873.png\n",
      "annotations_train/image_0583.png\n",
      "annotations_train/image_0818.png\n",
      "annotations_train/image_0752.png\n",
      "annotations_train/image_0841.png\n",
      "annotations_train/image_0929.png\n",
      "annotations_train/image_0567.png\n",
      "annotations_train/image_0962.png\n"
     ]
    },
    {
     "name": "stderr",
     "output_type": "stream",
     "text": [
      "\r",
      " 49%|████▉     | 297/601 [00:08<00:07, 38.85it/s]"
     ]
    },
    {
     "name": "stdout",
     "output_type": "stream",
     "text": [
      "annotations_train/image_1130.png\n",
      "annotations_train/image_0575.png\n",
      "annotations_train/image_1123.png\n",
      "annotations_train/image_0820.png\n",
      "annotations_train/image_0344.png\n",
      "annotations_train/image_0466.png\n",
      "annotations_train/image_0365.png\n"
     ]
    },
    {
     "name": "stderr",
     "output_type": "stream",
     "text": [
      " 51%|█████     | 307/601 [00:08<00:07, 40.12it/s]"
     ]
    },
    {
     "name": "stdout",
     "output_type": "stream",
     "text": [
      "annotations_train/image_0674.png\n",
      "annotations_train/image_0895.png\n",
      "annotations_train/image_0773.png\n",
      "annotations_train/image_0910.png\n",
      "annotations_train/image_0835.png\n",
      "annotations_train/image_0489.png\n",
      "annotations_train/image_0348.png\n",
      "annotations_train/image_0641.png\n"
     ]
    },
    {
     "name": "stderr",
     "output_type": "stream",
     "text": [
      " 53%|█████▎    | 317/601 [00:08<00:07, 38.46it/s]"
     ]
    },
    {
     "name": "stdout",
     "output_type": "stream",
     "text": [
      "annotations_train/image_0031.png\n",
      "annotations_train/image_0778.png\n",
      "annotations_train/image_0784.png\n",
      "annotations_train/image_0402.png\n",
      "annotations_train/image_1013.png\n",
      "annotations_train/image_1121.png\n",
      "annotations_train/image_0865.png\n",
      "annotations_train/image_0464.png\n",
      "annotations_train/image_0514.png\n"
     ]
    },
    {
     "name": "stderr",
     "output_type": "stream",
     "text": [
      " 54%|█████▍    | 326/601 [00:08<00:06, 39.35it/s]"
     ]
    },
    {
     "name": "stdout",
     "output_type": "stream",
     "text": [
      "annotations_train/image_1127.png\n",
      "annotations_train/image_0645.png\n",
      "annotations_train/image_0724.png\n",
      "annotations_train/image_0017.png\n",
      "annotations_train/image_0662.png\n",
      "annotations_train/image_0387.png\n",
      "annotations_train/image_0349.png\n",
      "annotations_train/image_0891.png\n",
      "annotations_train/image_0914.png\n"
     ]
    },
    {
     "name": "stderr",
     "output_type": "stream",
     "text": [
      "\r",
      " 55%|█████▌    | 331/601 [00:08<00:07, 37.24it/s]"
     ]
    },
    {
     "name": "stdout",
     "output_type": "stream",
     "text": [
      "annotations_train/image_0326.png\n",
      "annotations_train/image_0668.png\n",
      "annotations_train/image_0680.png\n",
      "annotations_train/image_0046.png\n",
      "annotations_train/image_0432.png\n",
      "annotations_train/image_0341.png\n",
      "annotations_train/image_0649.png\n",
      "annotations_train/image_0823.png\n"
     ]
    },
    {
     "name": "stderr",
     "output_type": "stream",
     "text": [
      " 57%|█████▋    | 340/601 [00:09<00:06, 37.70it/s]"
     ]
    },
    {
     "name": "stdout",
     "output_type": "stream",
     "text": [
      "annotations_train/image_0428.png\n",
      "annotations_train/image_0790.png\n",
      "annotations_train/image_1003.png\n",
      "annotations_train/image_0522.png\n",
      "annotations_train/image_0714.png\n",
      "annotations_train/image_0723.png\n",
      "annotations_train/image_0737.png\n",
      "annotations_train/image_0926.png\n"
     ]
    },
    {
     "name": "stderr",
     "output_type": "stream",
     "text": [
      " 58%|█████▊    | 349/601 [00:09<00:06, 38.50it/s]"
     ]
    },
    {
     "name": "stdout",
     "output_type": "stream",
     "text": [
      "annotations_train/image_0030.png\n",
      "annotations_train/image_0011.png\n",
      "annotations_train/image_0819.png\n",
      "annotations_train/image_0749.png\n",
      "annotations_train/image_0760.png\n",
      "annotations_train/image_0695.png\n",
      "annotations_train/image_0981.png\n",
      "annotations_train/image_0726.png\n",
      "annotations_train/image_0047.png\n"
     ]
    },
    {
     "name": "stderr",
     "output_type": "stream",
     "text": [
      " 59%|█████▉    | 357/601 [00:09<00:06, 38.43it/s]"
     ]
    },
    {
     "name": "stdout",
     "output_type": "stream",
     "text": [
      "annotations_train/image_0038.png\n",
      "annotations_train/image_1002.png\n",
      "annotations_train/image_0785.png\n",
      "annotations_train/image_0546.png\n",
      "annotations_train/image_0978.png\n",
      "annotations_train/image_0482.png\n",
      "annotations_train/image_0405.png\n",
      "annotations_train/image_0563.png\n"
     ]
    },
    {
     "name": "stderr",
     "output_type": "stream",
     "text": [
      " 61%|██████    | 365/601 [00:09<00:06, 38.27it/s]"
     ]
    },
    {
     "name": "stdout",
     "output_type": "stream",
     "text": [
      "annotations_train/image_0036.png\n",
      "annotations_train/image_0599.png\n",
      "annotations_train/image_0825.png\n",
      "annotations_train/image_1141.png\n",
      "annotations_train/image_0694.png\n",
      "annotations_train/image_0805.png\n",
      "annotations_train/image_0063.png\n",
      "annotations_train/image_0476.png\n",
      "annotations_train/image_0787.png\n"
     ]
    },
    {
     "name": "stderr",
     "output_type": "stream",
     "text": [
      " 62%|██████▏   | 375/601 [00:10<00:05, 39.74it/s]"
     ]
    },
    {
     "name": "stdout",
     "output_type": "stream",
     "text": [
      "annotations_train/image_0025.png\n",
      "annotations_train/image_0738.png\n",
      "annotations_train/image_0329.png\n",
      "annotations_train/image_0571.png\n",
      "annotations_train/image_0669.png\n",
      "annotations_train/image_0555.png\n",
      "annotations_train/image_0983.png\n",
      "annotations_train/image_0988.png\n"
     ]
    },
    {
     "name": "stderr",
     "output_type": "stream",
     "text": [
      " 64%|██████▎   | 383/601 [00:10<00:05, 39.51it/s]"
     ]
    },
    {
     "name": "stdout",
     "output_type": "stream",
     "text": [
      "annotations_train/image_0810.png\n",
      "annotations_train/image_0413.png\n",
      "annotations_train/image_0577.png\n",
      "annotations_train/image_0903.png\n",
      "annotations_train/image_0699.png\n",
      "annotations_train/image_0527.png\n",
      "annotations_train/image_0902.png\n",
      "annotations_train/image_0435.png\n"
     ]
    },
    {
     "name": "stderr",
     "output_type": "stream",
     "text": [
      " 65%|██████▌   | 391/601 [00:10<00:05, 37.05it/s]"
     ]
    },
    {
     "name": "stdout",
     "output_type": "stream",
     "text": [
      "annotations_train/image_0436.png\n",
      "annotations_train/image_0930.png\n",
      "annotations_train/image_0987.png\n",
      "annotations_train/image_0339.png\n",
      "annotations_train/image_0446.png\n",
      "annotations_train/image_1007.png\n",
      "annotations_train/image_0591.png\n",
      "annotations_train/image_0696.png\n"
     ]
    },
    {
     "name": "stderr",
     "output_type": "stream",
     "text": [
      " 67%|██████▋   | 400/601 [00:10<00:05, 38.44it/s]"
     ]
    },
    {
     "name": "stdout",
     "output_type": "stream",
     "text": [
      "annotations_train/image_0460.png\n",
      "annotations_train/image_0797.png\n",
      "annotations_train/image_0433.png\n",
      "annotations_train/image_0406.png\n",
      "annotations_train/image_0485.png\n",
      "annotations_train/image_0592.png\n",
      "annotations_train/image_0826.png\n",
      "annotations_train/image_0670.png\n",
      "annotations_train/image_0363.png\n"
     ]
    },
    {
     "name": "stderr",
     "output_type": "stream",
     "text": [
      " 68%|██████▊   | 408/601 [00:10<00:05, 36.24it/s]"
     ]
    },
    {
     "name": "stdout",
     "output_type": "stream",
     "text": [
      "annotations_train/image_0323.png\n",
      "annotations_train/image_0867.png\n",
      "annotations_train/image_0012.png\n",
      "annotations_train/image_0725.png\n",
      "annotations_train/image_1019.png\n",
      "annotations_train/image_0051.png\n",
      "annotations_train/image_0427.png\n",
      "annotations_train/image_0032.png\n"
     ]
    },
    {
     "name": "stderr",
     "output_type": "stream",
     "text": [
      " 70%|██████▉   | 418/601 [00:11<00:04, 39.70it/s]"
     ]
    },
    {
     "name": "stdout",
     "output_type": "stream",
     "text": [
      "annotations_train/image_0740.png\n",
      "annotations_train/image_0039.png\n",
      "annotations_train/image_0067.png\n",
      "annotations_train/image_0757.png\n",
      "annotations_train/image_0994.png\n",
      "annotations_train/image_0971.png\n",
      "annotations_train/image_0769.png\n",
      "annotations_train/image_0963.png\n",
      "annotations_train/image_0658.png\n"
     ]
    },
    {
     "name": "stderr",
     "output_type": "stream",
     "text": [
      " 71%|███████   | 428/601 [00:11<00:04, 40.13it/s]"
     ]
    },
    {
     "name": "stdout",
     "output_type": "stream",
     "text": [
      "annotations_train/image_0982.png\n",
      "annotations_train/image_0840.png\n",
      "annotations_train/image_0779.png\n",
      "annotations_train/image_0705.png\n",
      "annotations_train/image_0515.png\n",
      "annotations_train/image_0665.png\n",
      "annotations_train/image_0518.png\n",
      "annotations_train/image_0468.png\n",
      "annotations_train/image_1137.png\n"
     ]
    },
    {
     "name": "stderr",
     "output_type": "stream",
     "text": [
      "\r",
      " 72%|███████▏  | 433/601 [00:11<00:04, 40.20it/s]"
     ]
    },
    {
     "name": "stdout",
     "output_type": "stream",
     "text": [
      "annotations_train/image_0423.png\n",
      "annotations_train/image_0457.png\n",
      "annotations_train/image_0422.png\n",
      "annotations_train/image_0359.png\n",
      "annotations_train/image_0041.png\n",
      "annotations_train/image_0795.png\n",
      "annotations_train/image_0354.png\n",
      "annotations_train/image_0666.png\n"
     ]
    },
    {
     "name": "stderr",
     "output_type": "stream",
     "text": [
      " 74%|███████▎  | 442/601 [00:11<00:04, 36.90it/s]"
     ]
    },
    {
     "name": "stdout",
     "output_type": "stream",
     "text": [
      "annotations_train/image_0502.png\n",
      "annotations_train/image_0381.png\n",
      "annotations_train/image_0697.png\n",
      "annotations_train/image_0852.png\n",
      "annotations_train/image_0582.png\n",
      "annotations_train/image_0801.png\n",
      "annotations_train/image_0768.png\n",
      "annotations_train/image_0689.png\n"
     ]
    },
    {
     "name": "stderr",
     "output_type": "stream",
     "text": [
      " 75%|███████▌  | 452/601 [00:12<00:03, 39.61it/s]"
     ]
    },
    {
     "name": "stdout",
     "output_type": "stream",
     "text": [
      "annotations_train/image_0050.png\n",
      "annotations_train/image_1132.png\n",
      "annotations_train/image_0992.png\n",
      "annotations_train/image_0340.png\n",
      "annotations_train/image_0404.png\n",
      "annotations_train/image_0074.png\n",
      "annotations_train/image_0796.png\n",
      "annotations_train/image_0782.png\n",
      "annotations_train/image_0893.png\n"
     ]
    },
    {
     "name": "stderr",
     "output_type": "stream",
     "text": [
      " 77%|███████▋  | 461/601 [00:12<00:03, 37.68it/s]"
     ]
    },
    {
     "name": "stdout",
     "output_type": "stream",
     "text": [
      "annotations_train/image_0772.png\n",
      "annotations_train/image_1129.png\n",
      "annotations_train/image_1000.png\n",
      "annotations_train/image_0985.png\n",
      "annotations_train/image_0461.png\n",
      "annotations_train/image_0382.png\n",
      "annotations_train/image_0483.png\n",
      "annotations_train/image_0732.png\n"
     ]
    },
    {
     "name": "stderr",
     "output_type": "stream",
     "text": [
      " 78%|███████▊  | 469/601 [00:12<00:03, 36.37it/s]"
     ]
    },
    {
     "name": "stdout",
     "output_type": "stream",
     "text": [
      "annotations_train/image_0477.png\n",
      "annotations_train/image_0059.png\n",
      "annotations_train/image_0388.png\n",
      "annotations_train/image_0733.png\n",
      "annotations_train/image_0578.png\n",
      "annotations_train/image_0528.png\n",
      "annotations_train/image_0424.png\n",
      "annotations_train/image_0743.png\n"
     ]
    },
    {
     "name": "stderr",
     "output_type": "stream",
     "text": [
      " 80%|███████▉  | 478/601 [00:12<00:03, 38.73it/s]"
     ]
    },
    {
     "name": "stdout",
     "output_type": "stream",
     "text": [
      "annotations_train/image_1012.png\n",
      "annotations_train/image_0360.png\n",
      "annotations_train/image_0911.png\n",
      "annotations_train/image_0419.png\n",
      "annotations_train/image_0681.png\n",
      "annotations_train/image_0331.png\n",
      "annotations_train/image_0780.png\n",
      "annotations_train/image_1138.png\n",
      "annotations_train/image_0442.png\n"
     ]
    },
    {
     "name": "stderr",
     "output_type": "stream",
     "text": [
      " 81%|████████  | 487/601 [00:12<00:02, 40.64it/s]"
     ]
    },
    {
     "name": "stdout",
     "output_type": "stream",
     "text": [
      "annotations_train/image_0989.png\n",
      "annotations_train/image_0055.png\n",
      "annotations_train/image_0407.png\n",
      "annotations_train/image_0506.png\n",
      "annotations_train/image_0648.png\n",
      "annotations_train/image_0935.png\n",
      "annotations_train/image_0767.png\n",
      "annotations_train/image_0469.png\n",
      "annotations_train/image_0595.png\n"
     ]
    },
    {
     "name": "stderr",
     "output_type": "stream",
     "text": [
      "\r",
      " 82%|████████▏ | 492/601 [00:13<00:02, 40.37it/s]"
     ]
    },
    {
     "name": "stdout",
     "output_type": "stream",
     "text": [
      "annotations_train/image_0027.png\n",
      "annotations_train/image_0808.png\n",
      "annotations_train/image_1004.png\n",
      "annotations_train/image_0754.png\n",
      "annotations_train/image_0980.png\n",
      "annotations_train/image_0024.png\n",
      "annotations_train/image_0040.png\n",
      "annotations_train/image_0015.png\n"
     ]
    },
    {
     "name": "stderr",
     "output_type": "stream",
     "text": [
      " 83%|████████▎ | 501/601 [00:13<00:02, 35.89it/s]"
     ]
    },
    {
     "name": "stdout",
     "output_type": "stream",
     "text": [
      "annotations_train/image_0411.png\n",
      "annotations_train/image_0881.png\n",
      "annotations_train/image_0739.png\n",
      "annotations_train/image_0066.png\n",
      "annotations_train/image_0014.png\n",
      "annotations_train/image_0776.png\n",
      "annotations_train/image_0501.png\n"
     ]
    },
    {
     "name": "stderr",
     "output_type": "stream",
     "text": [
      " 85%|████████▍ | 510/601 [00:13<00:02, 38.18it/s]"
     ]
    },
    {
     "name": "stdout",
     "output_type": "stream",
     "text": [
      "annotations_train/image_0920.png\n",
      "annotations_train/image_0016.png\n",
      "annotations_train/image_0366.png\n",
      "annotations_train/image_0756.png\n",
      "annotations_train/image_0655.png\n",
      "annotations_train/image_0431.png\n",
      "annotations_train/image_0019.png\n",
      "annotations_train/image_0429.png\n",
      "annotations_train/image_0441.png\n"
     ]
    },
    {
     "name": "stderr",
     "output_type": "stream",
     "text": [
      " 87%|████████▋ | 520/601 [00:13<00:02, 40.01it/s]"
     ]
    },
    {
     "name": "stdout",
     "output_type": "stream",
     "text": [
      "annotations_train/image_0691.png\n",
      "annotations_train/image_0586.png\n",
      "annotations_train/image_0490.png\n",
      "annotations_train/image_0941.png\n",
      "annotations_train/image_0970.png\n",
      "annotations_train/image_0642.png\n",
      "annotations_train/image_0828.png\n",
      "annotations_train/image_0831.png\n",
      "annotations_train/image_0977.png\n"
     ]
    },
    {
     "name": "stderr",
     "output_type": "stream",
     "text": [
      "\r",
      " 87%|████████▋ | 525/601 [00:13<00:01, 40.54it/s]"
     ]
    },
    {
     "name": "stdout",
     "output_type": "stream",
     "text": [
      "annotations_train/image_0904.png\n",
      "annotations_train/image_0898.png\n",
      "annotations_train/image_1128.png\n",
      "annotations_train/image_0358.png\n",
      "annotations_train/image_1125.png\n",
      "annotations_train/image_0450.png\n",
      "annotations_train/image_0644.png\n",
      "annotations_train/image_0653.png\n",
      "annotations_train/image_0851.png\n"
     ]
    },
    {
     "name": "stderr",
     "output_type": "stream",
     "text": [
      " 89%|████████▉ | 535/601 [00:14<00:01, 40.32it/s]"
     ]
    },
    {
     "name": "stdout",
     "output_type": "stream",
     "text": [
      "annotations_train/image_0685.png\n",
      "annotations_train/image_0453.png\n",
      "annotations_train/image_0838.png\n",
      "annotations_train/image_0853.png\n",
      "annotations_train/image_0569.png\n",
      "annotations_train/image_0332.png\n",
      "annotations_train/image_0657.png\n",
      "annotations_train/image_0568.png\n",
      "annotations_train/image_0746.png\n"
     ]
    },
    {
     "name": "stderr",
     "output_type": "stream",
     "text": [
      " 91%|█████████ | 545/601 [00:14<00:01, 40.17it/s]"
     ]
    },
    {
     "name": "stdout",
     "output_type": "stream",
     "text": [
      "annotations_train/image_0564.png\n",
      "annotations_train/image_0576.png\n",
      "annotations_train/image_0834.png\n",
      "annotations_train/image_0445.png\n",
      "annotations_train/image_0684.png\n",
      "annotations_train/image_0357.png\n",
      "annotations_train/image_0498.png\n",
      "annotations_train/image_0426.png\n"
     ]
    },
    {
     "name": "stderr",
     "output_type": "stream",
     "text": [
      "\r",
      " 92%|█████████▏| 550/601 [00:14<00:01, 39.55it/s]"
     ]
    },
    {
     "name": "stdout",
     "output_type": "stream",
     "text": [
      "annotations_train/image_0491.png\n",
      "annotations_train/image_0553.png\n",
      "annotations_train/image_0593.png\n",
      "annotations_train/image_0333.png\n",
      "annotations_train/image_0770.png\n",
      "annotations_train/image_0342.png\n",
      "annotations_train/image_0023.png\n",
      "annotations_train/image_0721.png\n"
     ]
    },
    {
     "name": "stderr",
     "output_type": "stream",
     "text": [
      " 93%|█████████▎| 560/601 [00:14<00:01, 39.95it/s]"
     ]
    },
    {
     "name": "stdout",
     "output_type": "stream",
     "text": [
      "annotations_train/image_0900.png\n",
      "annotations_train/image_0804.png\n",
      "annotations_train/image_0643.png\n",
      "annotations_train/image_0812.png\n",
      "annotations_train/image_0652.png\n",
      "annotations_train/image_0748.png\n",
      "annotations_train/image_0975.png\n",
      "annotations_train/image_0862.png\n"
     ]
    },
    {
     "name": "stderr",
     "output_type": "stream",
     "text": [
      " 95%|█████████▍| 569/601 [00:15<00:00, 38.18it/s]"
     ]
    },
    {
     "name": "stdout",
     "output_type": "stream",
     "text": [
      "annotations_train/image_0722.png\n",
      "annotations_train/image_0020.png\n",
      "annotations_train/image_0690.png\n",
      "annotations_train/image_0855.png\n",
      "annotations_train/image_0771.png\n",
      "annotations_train/image_0845.png\n",
      "annotations_train/image_0390.png\n"
     ]
    },
    {
     "name": "stderr",
     "output_type": "stream",
     "text": [
      " 96%|█████████▌| 577/601 [00:15<00:00, 36.77it/s]"
     ]
    },
    {
     "name": "stdout",
     "output_type": "stream",
     "text": [
      "annotations_train/image_0425.png\n",
      "annotations_train/image_0651.png\n",
      "annotations_train/image_0711.png\n",
      "annotations_train/image_1018.png\n",
      "annotations_train/image_0322.png\n",
      "annotations_train/image_0513.png\n",
      "annotations_train/image_0475.png\n",
      "annotations_train/image_0850.png\n"
     ]
    },
    {
     "name": "stderr",
     "output_type": "stream",
     "text": [
      "\r",
      " 97%|█████████▋| 581/601 [00:15<00:00, 37.05it/s]"
     ]
    },
    {
     "name": "stdout",
     "output_type": "stream",
     "text": [
      "annotations_train/image_0415.png\n",
      "annotations_train/image_0574.png\n",
      "annotations_train/image_0806.png\n",
      "annotations_train/image_0783.png\n",
      "annotations_train/image_0459.png\n",
      "annotations_train/image_0554.png\n",
      "annotations_train/image_0594.png\n"
     ]
    },
    {
     "name": "stderr",
     "output_type": "stream",
     "text": [
      " 98%|█████████▊| 589/601 [00:15<00:00, 36.23it/s]"
     ]
    },
    {
     "name": "stdout",
     "output_type": "stream",
     "text": [
      "annotations_train/image_0421.png\n",
      "annotations_train/image_0730.png\n",
      "annotations_train/image_0581.png\n",
      "annotations_train/image_0060.png\n",
      "annotations_train/image_0500.png\n",
      "annotations_train/image_1016.png\n",
      "annotations_train/image_0009.png\n",
      "annotations_train/image_0440.png\n"
     ]
    },
    {
     "name": "stderr",
     "output_type": "stream",
     "text": [
      "100%|█████████▉| 598/601 [00:15<00:00, 37.67it/s]"
     ]
    },
    {
     "name": "stdout",
     "output_type": "stream",
     "text": [
      "annotations_train/image_0827.png\n",
      "annotations_train/image_0447.png\n",
      "annotations_train/image_0029.png\n",
      "annotations_train/image_0494.png\n",
      "annotations_train/image_0667.png\n",
      "annotations_train/image_0495.png\n",
      "annotations_train/image_0448.png\n",
      "annotations_train/image_0353.png\n"
     ]
    },
    {
     "name": "stderr",
     "output_type": "stream",
     "text": [
      "100%|██████████| 601/601 [00:15<00:00, 37.67it/s]\n"
     ]
    }
   ],
   "source": [
    "\n",
    "for n, id_ in tqdm(enumerate(train_id), total=len(train_id)):   \n",
    "    path = \"annotations_train/\" + id_\n",
    "    print(path)\n",
    "    img = imread(path)[:,:,:3]  \n",
    "    img = resize(img, (IMG_HEIGHT, IMG_WIDTH), mode='constant', preserve_range=True)\n",
    "    Y_train2[n] = img  "
   ]
  },
  {
   "cell_type": "code",
   "execution_count": 32,
   "metadata": {},
   "outputs": [
    {
     "data": {
      "image/png": "[encoded data removed]",
      "text/plain": [
       "<Figure size 432x288 with 1 Axes>"
      ]
     },
     "metadata": {
      "needs_background": "light"
     },
     "output_type": "display_data"
    },
    {
     "data": {
      "image/png": "[encoded data removed]",
      "text/plain": [
       "<Figure size 432x288 with 1 Axes>"
      ]
     },
     "metadata": {
      "needs_background": "light"
     },
     "output_type": "display_data"
    }
   ],
   "source": [
    "\n",
    "image_x = random.randint(0, len(train_id))\n",
    "imshow(X_train[image_x])\n",
    "plt.show()\n",
    "imshow(np.squeeze(Y_train2[image_x]))\n",
    "plt.show()\n"
   ]
  },
  {
   "cell_type": "code",
   "execution_count": 38,
   "metadata": {},
   "outputs": [],
   "source": [
    "\n",
    "\n",
    "\n",
    "#Build the model\n",
    "inputs = tf.keras.layers.Input((IMG_HEIGHT, IMG_WIDTH, IMG_CHANNELS))\n",
    "s = tf.keras.layers.Lambda(lambda x: x / 255)(inputs)\n",
    "\n",
    "#Contraction path\n",
    "c1 = tf.keras.layers.Conv2D(16, (3, 3), activation='relu', kernel_initializer='he_normal', padding='same')(s)\n",
    "c1 = tf.keras.layers.Dropout(0.1)(c1)\n",
    "c1 = tf.keras.layers.Conv2D(16, (3, 3), activation='relu', kernel_initializer='he_normal', padding='same')(c1)\n",
    "p1 = tf.keras.layers.MaxPooling2D((2, 2))(c1)\n",
    "\n",
    "c2 = tf.keras.layers.Conv2D(32, (3, 3), activation='relu', kernel_initializer='he_normal', padding='same')(p1)\n",
    "c2 = tf.keras.layers.Dropout(0.1)(c2)\n",
    "c2 = tf.keras.layers.Conv2D(32, (3, 3), activation='relu', kernel_initializer='he_normal', padding='same')(c2)\n",
    "p2 = tf.keras.layers.MaxPooling2D((2, 2))(c2)\n",
    " \n",
    "c3 = tf.keras.layers.Conv2D(64, (3, 3), activation='relu', kernel_initializer='he_normal', padding='same')(p2)\n",
    "c3 = tf.keras.layers.Dropout(0.2)(c3)\n",
    "c3 = tf.keras.layers.Conv2D(64, (3, 3), activation='relu', kernel_initializer='he_normal', padding='same')(c3)\n",
    "p3 = tf.keras.layers.MaxPooling2D((2, 2))(c3)\n",
    " \n",
    "c4 = tf.keras.layers.Conv2D(128, (3, 3), activation='relu', kernel_initializer='he_normal', padding='same')(p3)\n",
    "c4 = tf.keras.layers.Dropout(0.2)(c4)\n",
    "c4 = tf.keras.layers.Conv2D(128, (3, 3), activation='relu', kernel_initializer='he_normal', padding='same')(c4)\n",
    "p4 = tf.keras.layers.MaxPooling2D(pool_size=(2, 2))(c4)\n",
    " \n",
    "c5 = tf.keras.layers.Conv2D(256, (3, 3), activation='relu', kernel_initializer='he_normal', padding='same')(p4)\n",
    "c5 = tf.keras.layers.Dropout(0.3)(c5)\n",
    "c5 = tf.keras.layers.Conv2D(256, (3, 3), activation='relu', kernel_initializer='he_normal', padding='same')(c5)\n",
    "\n",
    "#Expansive path \n",
    "u6 = tf.keras.layers.Conv2DTranspose(128, (2, 2), strides=(2, 2), padding='same')(c5)\n",
    "u6 = tf.keras.layers.concatenate([u6, c4])\n",
    "c6 = tf.keras.layers.Conv2D(128, (3, 3), activation='relu', kernel_initializer='he_normal', padding='same')(u6)\n",
    "c6 = tf.keras.layers.Dropout(0.2)(c6)\n",
    "c6 = tf.keras.layers.Conv2D(128, (3, 3), activation='relu', kernel_initializer='he_normal', padding='same')(c6)\n",
    " \n",
    "u7 = tf.keras.layers.Conv2DTranspose(64, (2, 2), strides=(2, 2), padding='same')(c6)\n",
    "u7 = tf.keras.layers.concatenate([u7, c3])\n",
    "c7 = tf.keras.layers.Conv2D(64, (3, 3), activation='relu', kernel_initializer='he_normal', padding='same')(u7)\n",
    "c7 = tf.keras.layers.Dropout(0.2)(c7)\n",
    "c7 = tf.keras.layers.Conv2D(64, (3, 3), activation='relu', kernel_initializer='he_normal', padding='same')(c7)\n",
    " \n",
    "u8 = tf.keras.layers.Conv2DTranspose(32, (2, 2), strides=(2, 2), padding='same')(c7)\n",
    "u8 = tf.keras.layers.concatenate([u8, c2])\n",
    "c8 = tf.keras.layers.Conv2D(32, (3, 3), activation='relu', kernel_initializer='he_normal', padding='same')(u8)\n",
    "c8 = tf.keras.layers.Dropout(0.1)(c8)\n",
    "c8 = tf.keras.layers.Conv2D(32, (3, 3), activation='relu', kernel_initializer='he_normal', padding='same')(c8)\n",
    " \n",
    "u9 = tf.keras.layers.Conv2DTranspose(16, (2, 2), strides=(2, 2), padding='same')(c8)\n",
    "u9 = tf.keras.layers.concatenate([u9, c1], axis=3)\n",
    "c9 = tf.keras.layers.Conv2D(16, (3, 3), activation='relu', kernel_initializer='he_normal', padding='same')(u9)\n",
    "c9 = tf.keras.layers.Dropout(0.1)(c9)\n",
    "c9 = tf.keras.layers.Conv2D(16, (3, 3), activation='relu', kernel_initializer='he_normal', padding='same')(c9)\n",
    " \n",
    "outputs = tf.keras.layers.Conv2D(3, (1, 1), activation='softmax')(c9)\n",
    " \n",
    "model = tf.keras.Model(inputs=[inputs], outputs=[outputs])"
   ]
  },
  {
   "cell_type": "code",
   "execution_count": 39,
   "metadata": {},
   "outputs": [
    {
     "name": "stdout",
     "output_type": "stream",
     "text": [
      "Model: \"model_4\"\n",
      "__________________________________________________________________________________________________\n",
      "Layer (type)                    Output Shape         Param #     Connected to                     \n",
      "==================================================================================================\n",
      "input_3 (InputLayer)            [(None, 128, 128, 3) 0                                            \n",
      "__________________________________________________________________________________________________\n",
      "lambda_2 (Lambda)               (None, 128, 128, 3)  0           input_3[0][0]                    \n",
      "__________________________________________________________________________________________________\n",
      "conv2d_38 (Conv2D)              (None, 128, 128, 16) 448         lambda_2[0][0]                   \n",
      "__________________________________________________________________________________________________\n",
      "dropout_18 (Dropout)            (None, 128, 128, 16) 0           conv2d_38[0][0]                  \n",
      "__________________________________________________________________________________________________\n",
      "conv2d_39 (Conv2D)              (None, 128, 128, 16) 2320        dropout_18[0][0]                 \n",
      "__________________________________________________________________________________________________\n",
      "max_pooling2d_8 (MaxPooling2D)  (None, 64, 64, 16)   0           conv2d_39[0][0]                  \n",
      "__________________________________________________________________________________________________\n",
      "conv2d_40 (Conv2D)              (None, 64, 64, 32)   4640        max_pooling2d_8[0][0]            \n",
      "__________________________________________________________________________________________________\n",
      "dropout_19 (Dropout)            (None, 64, 64, 32)   0           conv2d_40[0][0]                  \n",
      "__________________________________________________________________________________________________\n",
      "conv2d_41 (Conv2D)              (None, 64, 64, 32)   9248        dropout_19[0][0]                 \n",
      "__________________________________________________________________________________________________\n",
      "max_pooling2d_9 (MaxPooling2D)  (None, 32, 32, 32)   0           conv2d_41[0][0]                  \n",
      "__________________________________________________________________________________________________\n",
      "conv2d_42 (Conv2D)              (None, 32, 32, 64)   18496       max_pooling2d_9[0][0]            \n",
      "__________________________________________________________________________________________________\n",
      "dropout_20 (Dropout)            (None, 32, 32, 64)   0           conv2d_42[0][0]                  \n",
      "__________________________________________________________________________________________________\n",
      "conv2d_43 (Conv2D)              (None, 32, 32, 64)   36928       dropout_20[0][0]                 \n",
      "__________________________________________________________________________________________________\n",
      "max_pooling2d_10 (MaxPooling2D) (None, 16, 16, 64)   0           conv2d_43[0][0]                  \n",
      "__________________________________________________________________________________________________\n",
      "conv2d_44 (Conv2D)              (None, 16, 16, 128)  73856       max_pooling2d_10[0][0]           \n",
      "__________________________________________________________________________________________________\n",
      "dropout_21 (Dropout)            (None, 16, 16, 128)  0           conv2d_44[0][0]                  \n",
      "__________________________________________________________________________________________________\n",
      "conv2d_45 (Conv2D)              (None, 16, 16, 128)  147584      dropout_21[0][0]                 \n",
      "__________________________________________________________________________________________________\n",
      "max_pooling2d_11 (MaxPooling2D) (None, 8, 8, 128)    0           conv2d_45[0][0]                  \n",
      "__________________________________________________________________________________________________\n",
      "conv2d_46 (Conv2D)              (None, 8, 8, 256)    295168      max_pooling2d_11[0][0]           \n",
      "__________________________________________________________________________________________________\n",
      "dropout_22 (Dropout)            (None, 8, 8, 256)    0           conv2d_46[0][0]                  \n",
      "__________________________________________________________________________________________________\n",
      "conv2d_47 (Conv2D)              (None, 8, 8, 256)    590080      dropout_22[0][0]                 \n",
      "__________________________________________________________________________________________________\n",
      "conv2d_transpose_8 (Conv2DTrans (None, 16, 16, 128)  131200      conv2d_47[0][0]                  \n",
      "__________________________________________________________________________________________________\n",
      "concatenate_8 (Concatenate)     (None, 16, 16, 256)  0           conv2d_transpose_8[0][0]         \n",
      "                                                                 conv2d_45[0][0]                  \n",
      "__________________________________________________________________________________________________\n",
      "conv2d_48 (Conv2D)              (None, 16, 16, 128)  295040      concatenate_8[0][0]              \n",
      "__________________________________________________________________________________________________\n",
      "dropout_23 (Dropout)            (None, 16, 16, 128)  0           conv2d_48[0][0]                  \n",
      "__________________________________________________________________________________________________\n",
      "conv2d_49 (Conv2D)              (None, 16, 16, 128)  147584      dropout_23[0][0]                 \n",
      "__________________________________________________________________________________________________\n",
      "conv2d_transpose_9 (Conv2DTrans (None, 32, 32, 64)   32832       conv2d_49[0][0]                  \n",
      "__________________________________________________________________________________________________\n",
      "concatenate_9 (Concatenate)     (None, 32, 32, 128)  0           conv2d_transpose_9[0][0]         \n",
      "                                                                 conv2d_43[0][0]                  \n",
      "__________________________________________________________________________________________________\n",
      "conv2d_50 (Conv2D)              (None, 32, 32, 64)   73792       concatenate_9[0][0]              \n",
      "__________________________________________________________________________________________________\n",
      "dropout_24 (Dropout)            (None, 32, 32, 64)   0           conv2d_50[0][0]                  \n",
      "__________________________________________________________________________________________________\n",
      "conv2d_51 (Conv2D)              (None, 32, 32, 64)   36928       dropout_24[0][0]                 \n",
      "__________________________________________________________________________________________________\n",
      "conv2d_transpose_10 (Conv2DTran (None, 64, 64, 32)   8224        conv2d_51[0][0]                  \n",
      "__________________________________________________________________________________________________\n",
      "concatenate_10 (Concatenate)    (None, 64, 64, 64)   0           conv2d_transpose_10[0][0]        \n",
      "                                                                 conv2d_41[0][0]                  \n",
      "__________________________________________________________________________________________________\n",
      "conv2d_52 (Conv2D)              (None, 64, 64, 32)   18464       concatenate_10[0][0]             \n",
      "__________________________________________________________________________________________________\n",
      "dropout_25 (Dropout)            (None, 64, 64, 32)   0           conv2d_52[0][0]                  \n",
      "__________________________________________________________________________________________________\n",
      "conv2d_53 (Conv2D)              (None, 64, 64, 32)   9248        dropout_25[0][0]                 \n",
      "__________________________________________________________________________________________________\n",
      "conv2d_transpose_11 (Conv2DTran (None, 128, 128, 16) 2064        conv2d_53[0][0]                  \n",
      "__________________________________________________________________________________________________\n",
      "concatenate_11 (Concatenate)    (None, 128, 128, 32) 0           conv2d_transpose_11[0][0]        \n",
      "                                                                 conv2d_39[0][0]                  \n",
      "__________________________________________________________________________________________________\n",
      "conv2d_54 (Conv2D)              (None, 128, 128, 16) 4624        concatenate_11[0][0]             \n",
      "__________________________________________________________________________________________________\n",
      "dropout_26 (Dropout)            (None, 128, 128, 16) 0           conv2d_54[0][0]                  \n",
      "__________________________________________________________________________________________________\n",
      "conv2d_55 (Conv2D)              (None, 128, 128, 16) 2320        dropout_26[0][0]                 \n",
      "__________________________________________________________________________________________________\n",
      "conv2d_56 (Conv2D)              (None, 128, 128, 3)  51          conv2d_55[0][0]                  \n",
      "==================================================================================================\n",
      "Total params: 1,941,139\n",
      "Trainable params: 1,941,139\n",
      "Non-trainable params: 0\n",
      "__________________________________________________________________________________________________\n"
     ]
    }
   ],
   "source": [
    " \n",
    "model = tf.keras.Model(inputs=[inputs], outputs=[outputs])\n",
    "model.compile(optimizer='adam', loss='categorical_crossentropy', metrics=['accuracy'])\n",
    "model.summary()"
   ]
  },
  {
   "cell_type": "code",
   "execution_count": 40,
   "metadata": {},
   "outputs": [
    {
     "name": "stdout",
     "output_type": "stream",
     "text": [
      "Train on 540 samples, validate on 61 samples\n",
      "Epoch 1/25\n",
      "540/540 [==============================] - 25s 47ms/sample - loss: 141.2885 - acc: 0.8291 - val_loss: 122.8570 - val_acc: 0.9671\n",
      "Epoch 2/25\n",
      "540/540 [==============================] - 25s 46ms/sample - loss: 115.2541 - acc: 0.8064 - val_loss: 119.3528 - val_acc: 0.9100\n",
      "Epoch 3/25\n",
      "540/540 [==============================] - 25s 46ms/sample - loss: 109.6530 - acc: 0.7504 - val_loss: 113.1058 - val_acc: 0.7476\n",
      "Epoch 4/25\n",
      "540/540 [==============================] - 25s 46ms/sample - loss: 106.8337 - acc: 0.7019 - val_loss: 110.4496 - val_acc: 0.6891\n",
      "Epoch 5/25\n",
      "540/540 [==============================] - 25s 46ms/sample - loss: 105.6577 - acc: 0.7156 - val_loss: 108.4628 - val_acc: 0.9337\n",
      "Epoch 6/25\n",
      "540/540 [==============================] - 25s 47ms/sample - loss: 105.5188 - acc: 0.7298 - val_loss: 108.8902 - val_acc: 0.5098\n",
      "Epoch 7/25\n",
      "540/540 [==============================] - 25s 47ms/sample - loss: 104.6319 - acc: 0.7243 - val_loss: 107.2294 - val_acc: 0.8677\n",
      "Epoch 8/25\n",
      "540/540 [==============================] - 25s 47ms/sample - loss: 103.0591 - acc: 0.6993 - val_loss: 106.8175 - val_acc: 0.6593\n",
      "Epoch 9/25\n",
      "540/540 [==============================] - 25s 46ms/sample - loss: 103.5590 - acc: 0.7249 - val_loss: 107.2160 - val_acc: 0.7693\n",
      "Epoch 10/25\n",
      "540/540 [==============================] - 25s 46ms/sample - loss: 102.9356 - acc: 0.6908 - val_loss: 108.7677 - val_acc: 0.8893\n"
     ]
    }
   ],
   "source": [
    "\n",
    "################################\n",
    "#Modelcheckpoint\n",
    "checkpointer = tf.keras.callbacks.ModelCheckpoint('model_for_nuclei2.h5', verbose=1, save_best_only=True)\n",
    "\n",
    "callbacks = [\n",
    "        tf.keras.callbacks.EarlyStopping(patience=2, monitor='val_loss'),\n",
    "        tf.keras.callbacks.TensorBoard(log_dir='logs')]\n",
    "\n",
    "results = model.fit(X_train, Y_train2, validation_split=0.1, batch_size=16, epochs=25, callbacks=callbacks)\n",
    "\n",
    "####################################"
   ]
  },
  {
   "cell_type": "code",
   "execution_count": 41,
   "metadata": {},
   "outputs": [
    {
     "name": "stdout",
     "output_type": "stream",
     "text": [
      "540/540 [==============================] - 4s 8ms/sample\n",
      "61/61 [==============================] - 0s 8ms/sample\n",
      "151/151 [==============================] - 1s 8ms/sample\n"
     ]
    }
   ],
   "source": [
    "\n",
    "preds_train = model.predict(X_train[:int(X_train.shape[0]*0.9)], verbose=1)\n",
    "preds_val = model.predict(X_train[int(X_train.shape[0]*0.9):], verbose=1)\n",
    "preds_test = model.predict(X_test, verbose=1)\n",
    "\n",
    " \n",
    "preds_train_t = (preds_train > 0.5).astype(np.uint8)\n",
    "preds_val_t = (preds_val > 0.5).astype(np.uint8)\n",
    "preds_test_t = (preds_test > 0.5).astype(np.uint8)\n"
   ]
  },
  {
   "cell_type": "code",
   "execution_count": 42,
   "metadata": {},
   "outputs": [
    {
     "data": {
      "image/png": "[encoded data removed]",
      "text/plain": [
       "<Figure size 432x288 with 1 Axes>"
      ]
     },
     "metadata": {
      "needs_background": "light"
     },
     "output_type": "display_data"
    },
    {
     "data": {
      "image/png": "[encoded data removed]",
      "text/plain": [
       "<Figure size 432x288 with 1 Axes>"
      ]
     },
     "metadata": {
      "needs_background": "light"
     },
     "output_type": "display_data"
    },
    {
     "data": {
      "image/png": "[encoded data removed]",
      "text/plain": [
       "<Figure size 432x288 with 2 Axes>"
      ]
     },
     "metadata": {
      "needs_background": "light"
     },
     "output_type": "display_data"
    }
   ],
   "source": [
    "\n",
    "# Perform a sanity check on some random training samples\n",
    "ix = random.randint(0, len(preds_train_t))\n",
    "imshow(X_train[ix])\n",
    "plt.show()\n",
    "imshow(np.squeeze(Y_train2[ix]))\n",
    "plt.show()\n",
    "imshow(np.squeeze(preds_train_t[ix]))\n",
    "plt.show()"
   ]
  },
  {
   "cell_type": "code",
   "execution_count": null,
   "metadata": {},
   "outputs": [],
   "source": []
  },
  {
   "cell_type": "code",
   "execution_count": null,
   "metadata": {},
   "outputs": [],
   "source": []
  },
  {
   "cell_type": "code",
   "execution_count": 33,
   "metadata": {},
   "outputs": [
    {
     "ename": "ValueError",
     "evalue": "A target array with shape (601, 128, 128, 3) was passed for an output of shape (None, 128, 128, 1) while using as loss `binary_crossentropy`. This loss expects targets to have the same shape as the output.",
     "output_type": "error",
     "traceback": [
      "\u001b[0;31m---------------------------------------------------------------------------\u001b[0m",
      "\u001b[0;31mValueError\u001b[0m                                Traceback (most recent call last)",
      "\u001b[0;32m<ipython-input-33-4318ad81a1c3>\u001b[0m in \u001b[0;36m<module>\u001b[0;34m\u001b[0m\n\u001b[1;32m      6\u001b[0m         tf.keras.callbacks.TensorBoard(log_dir='logs')]\n\u001b[1;32m      7\u001b[0m \u001b[0;34m\u001b[0m\u001b[0m\n\u001b[0;32m----> 8\u001b[0;31m \u001b[0mresults\u001b[0m \u001b[0;34m=\u001b[0m \u001b[0mmodel\u001b[0m\u001b[0;34m.\u001b[0m\u001b[0mfit\u001b[0m\u001b[0;34m(\u001b[0m\u001b[0mX_train\u001b[0m\u001b[0;34m,\u001b[0m \u001b[0mY_train2\u001b[0m\u001b[0;34m,\u001b[0m \u001b[0mvalidation_split\u001b[0m\u001b[0;34m=\u001b[0m\u001b[0;36m0.1\u001b[0m\u001b[0;34m,\u001b[0m \u001b[0mbatch_size\u001b[0m\u001b[0;34m=\u001b[0m\u001b[0;36m16\u001b[0m\u001b[0;34m,\u001b[0m \u001b[0mepochs\u001b[0m\u001b[0;34m=\u001b[0m\u001b[0;36m25\u001b[0m\u001b[0;34m,\u001b[0m \u001b[0mcallbacks\u001b[0m\u001b[0;34m=\u001b[0m\u001b[0mcallbacks\u001b[0m\u001b[0;34m)\u001b[0m\u001b[0;34m\u001b[0m\u001b[0;34m\u001b[0m\u001b[0m\n\u001b[0m",
      "\u001b[0;32m~/newfairseq/lib/python3.6/site-packages/tensorflow/python/keras/engine/training.py\u001b[0m in \u001b[0;36mfit\u001b[0;34m(self, x, y, batch_size, epochs, verbose, callbacks, validation_split, validation_data, shuffle, class_weight, sample_weight, initial_epoch, steps_per_epoch, validation_steps, validation_freq, max_queue_size, workers, use_multiprocessing, **kwargs)\u001b[0m\n\u001b[1;32m    707\u001b[0m         \u001b[0msteps\u001b[0m\u001b[0;34m=\u001b[0m\u001b[0msteps_per_epoch\u001b[0m\u001b[0;34m,\u001b[0m\u001b[0;34m\u001b[0m\u001b[0;34m\u001b[0m\u001b[0m\n\u001b[1;32m    708\u001b[0m         \u001b[0mvalidation_split\u001b[0m\u001b[0;34m=\u001b[0m\u001b[0mvalidation_split\u001b[0m\u001b[0;34m,\u001b[0m\u001b[0;34m\u001b[0m\u001b[0;34m\u001b[0m\u001b[0m\n\u001b[0;32m--> 709\u001b[0;31m         shuffle=shuffle)\n\u001b[0m\u001b[1;32m    710\u001b[0m \u001b[0;34m\u001b[0m\u001b[0m\n\u001b[1;32m    711\u001b[0m     \u001b[0;31m# Prepare validation data.\u001b[0m\u001b[0;34m\u001b[0m\u001b[0;34m\u001b[0m\u001b[0;34m\u001b[0m\u001b[0m\n",
      "\u001b[0;32m~/newfairseq/lib/python3.6/site-packages/tensorflow/python/keras/engine/training.py\u001b[0m in \u001b[0;36m_standardize_user_data\u001b[0;34m(self, x, y, sample_weight, class_weight, batch_size, check_steps, steps_name, steps, validation_split, shuffle, extract_tensors_from_dataset)\u001b[0m\n\u001b[1;32m   2690\u001b[0m           \u001b[0;31m# Additional checks to avoid users mistakenly using improper loss fns.\u001b[0m\u001b[0;34m\u001b[0m\u001b[0;34m\u001b[0m\u001b[0;34m\u001b[0m\u001b[0m\n\u001b[1;32m   2691\u001b[0m           training_utils.check_loss_and_target_compatibility(\n\u001b[0;32m-> 2692\u001b[0;31m               y, self._feed_loss_fns, feed_output_shapes)\n\u001b[0m\u001b[1;32m   2693\u001b[0m \u001b[0;34m\u001b[0m\u001b[0m\n\u001b[1;32m   2694\u001b[0m       \u001b[0;31m# If sample weight mode has not been set and weights are None for all the\u001b[0m\u001b[0;34m\u001b[0m\u001b[0;34m\u001b[0m\u001b[0;34m\u001b[0m\u001b[0m\n",
      "\u001b[0;32m~/newfairseq/lib/python3.6/site-packages/tensorflow/python/keras/engine/training_utils.py\u001b[0m in \u001b[0;36mcheck_loss_and_target_compatibility\u001b[0;34m(targets, loss_fns, output_shapes)\u001b[0m\n\u001b[1;32m    547\u001b[0m           raise ValueError('A target array with shape ' + str(y.shape) +\n\u001b[1;32m    548\u001b[0m                            \u001b[0;34m' was passed for an output of shape '\u001b[0m \u001b[0;34m+\u001b[0m \u001b[0mstr\u001b[0m\u001b[0;34m(\u001b[0m\u001b[0mshape\u001b[0m\u001b[0;34m)\u001b[0m \u001b[0;34m+\u001b[0m\u001b[0;34m\u001b[0m\u001b[0;34m\u001b[0m\u001b[0m\n\u001b[0;32m--> 549\u001b[0;31m                            \u001b[0;34m' while using as loss `'\u001b[0m \u001b[0;34m+\u001b[0m \u001b[0mloss_name\u001b[0m \u001b[0;34m+\u001b[0m \u001b[0;34m'`. '\u001b[0m\u001b[0;34m\u001b[0m\u001b[0;34m\u001b[0m\u001b[0m\n\u001b[0m\u001b[1;32m    550\u001b[0m                            \u001b[0;34m'This loss expects targets to have the same shape '\u001b[0m\u001b[0;34m\u001b[0m\u001b[0;34m\u001b[0m\u001b[0m\n\u001b[1;32m    551\u001b[0m                            'as the output.')\n",
      "\u001b[0;31mValueError\u001b[0m: A target array with shape (601, 128, 128, 3) was passed for an output of shape (None, 128, 128, 1) while using as loss `binary_crossentropy`. This loss expects targets to have the same shape as the output."
     ]
    }
   ],
   "source": [
    "#Modelcheckpoint\n",
    "checkpointer = tf.keras.callbacks.ModelCheckpoint('model_for_nuclei2.h5', verbose=1, save_best_only=True)\n",
    "\n",
    "callbacks = [\n",
    "        tf.keras.callbacks.EarlyStopping(patience=2, monitor='val_loss'),\n",
    "        tf.keras.callbacks.TensorBoard(log_dir='logs')]\n",
    "\n",
    "results = model.fit(X_train, Y_train2, validation_split=0.1, batch_size=16, epochs=25, callbacks=callbacks)"
   ]
  },
  {
   "cell_type": "code",
   "execution_count": null,
   "metadata": {},
   "outputs": [],
   "source": []
  },
  {
   "cell_type": "code",
   "execution_count": null,
   "metadata": {},
   "outputs": [],
   "source": []
  },
  {
   "cell_type": "code",
   "execution_count": null,
   "metadata": {},
   "outputs": [],
   "source": []
  }
 ],
 "metadata": {
  "kernelspec": {
   "display_name": "Python 3",
   "language": "python",
   "name": "python3"
  },
  "language_info": {
   "codemirror_mode": {
    "name": "ipython",
    "version": 3
   },
   "file_extension": ".py",
   "mimetype": "text/x-python",
   "name": "python",
   "nbconvert_exporter": "python",
   "pygments_lexer": "ipython3",
   "version": "3.6.9"
  }
 },
 "nbformat": 4,
 "nbformat_minor": 4
}
